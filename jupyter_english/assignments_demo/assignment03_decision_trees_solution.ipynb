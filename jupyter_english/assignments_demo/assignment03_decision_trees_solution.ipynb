<<<<<<< HEAD
{
 "cells": [
  {
   "cell_type": "markdown",
   "metadata": {},
   "source": [
    "<center>\n",
    "<img src=\"../../img/ods_stickers.jpg\">\n",
    "    \n",
    "## [mlcourse.ai](https://mlcourse.ai) - Open Machine Learning Course\n",
    "\n",
    "Authors: [Maria Sumarokova](https://www.linkedin.com/in/mariya-sumarokova-230b4054/), and [Yury Kashnitsky](https://www.linkedin.com/in/festline/). Translated and edited by Gleb Filatov, Aleksey Kiselev, [Anastasia Manokhina](https://www.linkedin.com/in/anastasiamanokhina/), [Egor Polusmak](https://www.linkedin.com/in/egor-polusmak/), and [Yuanyuan Pao](https://www.linkedin.com/in/yuanyuanpao/). All content is distributed under the [Creative Commons CC BY-NC-SA 4.0](https://creativecommons.org/licenses/by-nc-sa/4.0/) license."
   ]
  },
  {
   "cell_type": "markdown",
   "metadata": {
    "collapsed": true
   },
   "source": [
    "# <center> Assignment #3 (demo). Solution\n",
    "## <center>  Decision trees with a toy task and the UCI Adult dataset \n",
    "\n",
    "Same assignment as a [Kaggle Kernel](https://www.kaggle.com/kashnitsky/a3-demo-decision-trees) + [solution](https://www.kaggle.com/kashnitsky/a3-demo-decision-trees-solution). Fill in the answers in the [web-form](https://docs.google.com/forms/d/1wfWYYoqXTkZNOPy1wpewACXaj2MZjBdLOL58htGWYBA/edit)."
   ]
  },
  {
   "cell_type": "markdown",
   "metadata": {},
   "source": [
    "Let's start by loading all necessary libraries:"
   ]
  },
  {
   "cell_type": "code",
   "execution_count": 1,
   "metadata": {},
   "outputs": [],
   "source": [
    "%matplotlib inline\n",
    "from matplotlib import pyplot as plt\n",
    "plt.rcParams['figure.figsize'] = (10, 8)\n",
    "\n",
    "import numpy as np\n",
    "import pandas as pd\n",
    "from sklearn.preprocessing import LabelEncoder\n",
    "import collections\n",
    "from sklearn.model_selection import GridSearchCV, cross_val_score\n",
    "from sklearn.tree import DecisionTreeClassifier, plot_tree\n",
    "from sklearn.ensemble import RandomForestClassifier\n",
    "from sklearn.metrics import accuracy_score"
   ]
  },
  {
   "cell_type": "markdown",
   "metadata": {},
   "source": [
    "### Part 1. Toy dataset \"Will They? Won't They?\""
   ]
  },
  {
   "cell_type": "markdown",
   "metadata": {},
   "source": [
    "Your goal is to figure out how decision trees work by walking through a toy problem. While a single decision tree does not yield outstanding results, other performant algorithms like gradient boosting and random forests are based on the same idea. That is why knowing how decision trees work might be useful."
   ]
  },
  {
   "cell_type": "markdown",
   "metadata": {},
   "source": [
    "We'll go through a toy example of binary classification - Person A is deciding whether they will go on a second date with Person B. It will depend on their looks, eloquence, alcohol consumption (only for example), and how much money was spent on the first date."
   ]
  },
  {
   "cell_type": "markdown",
   "metadata": {},
   "source": [
    "#### Creating the dataset"
   ]
  },
  {
   "cell_type": "code",
   "execution_count": 2,
   "metadata": {},
   "outputs": [],
   "source": [
    "# Create dataframe with dummy variables\n",
    "def create_df(dic, feature_list):\n",
    "    out = pd.DataFrame(dic)\n",
    "    out = pd.concat([out, pd.get_dummies(out[feature_list])], axis = 1)\n",
    "    out.drop(feature_list, axis = 1, inplace = True)\n",
    "    return out\n",
    "\n",
    "# Some feature values are present in train and absent in test and vice-versa.\n",
    "def intersect_features(train, test):\n",
    "    common_feat = list( set(train.keys()) & set(test.keys()))\n",
    "    return train[common_feat], test[common_feat]"
   ]
  },
  {
   "cell_type": "code",
   "execution_count": 3,
   "metadata": {},
   "outputs": [],
   "source": [
    "features = ['Looks', 'Alcoholic_beverage','Eloquence','Money_spent']"
   ]
  },
  {
   "cell_type": "markdown",
   "metadata": {},
   "source": [
    "#### Training data"
   ]
  },
  {
   "cell_type": "code",
   "execution_count": 4,
   "metadata": {},
   "outputs": [
    {
     "data": {
      "text/html": [
       "<div>\n",
       "<style scoped>\n",
       "    .dataframe tbody tr th:only-of-type {\n",
       "        vertical-align: middle;\n",
       "    }\n",
       "\n",
       "    .dataframe tbody tr th {\n",
       "        vertical-align: top;\n",
       "    }\n",
       "\n",
       "    .dataframe thead th {\n",
       "        text-align: right;\n",
       "    }\n",
       "</style>\n",
       "<table border=\"1\" class=\"dataframe\">\n",
       "  <thead>\n",
       "    <tr style=\"text-align: right;\">\n",
       "      <th></th>\n",
       "      <th>Will_go</th>\n",
       "      <th>Looks_handsome</th>\n",
       "      <th>Looks_repulsive</th>\n",
       "      <th>Alcoholic_beverage_no</th>\n",
       "      <th>Alcoholic_beverage_yes</th>\n",
       "      <th>Eloquence_average</th>\n",
       "      <th>Eloquence_high</th>\n",
       "      <th>Eloquence_low</th>\n",
       "      <th>Money_spent_little</th>\n",
       "      <th>Money_spent_lots</th>\n",
       "    </tr>\n",
       "  </thead>\n",
       "  <tbody>\n",
       "    <tr>\n",
       "      <th>0</th>\n",
       "      <td>0</td>\n",
       "      <td>1</td>\n",
       "      <td>0</td>\n",
       "      <td>0</td>\n",
       "      <td>1</td>\n",
       "      <td>0</td>\n",
       "      <td>1</td>\n",
       "      <td>0</td>\n",
       "      <td>0</td>\n",
       "      <td>1</td>\n",
       "    </tr>\n",
       "    <tr>\n",
       "      <th>1</th>\n",
       "      <td>1</td>\n",
       "      <td>1</td>\n",
       "      <td>0</td>\n",
       "      <td>0</td>\n",
       "      <td>1</td>\n",
       "      <td>0</td>\n",
       "      <td>0</td>\n",
       "      <td>1</td>\n",
       "      <td>1</td>\n",
       "      <td>0</td>\n",
       "    </tr>\n",
       "    <tr>\n",
       "      <th>2</th>\n",
       "      <td>0</td>\n",
       "      <td>1</td>\n",
       "      <td>0</td>\n",
       "      <td>1</td>\n",
       "      <td>0</td>\n",
       "      <td>1</td>\n",
       "      <td>0</td>\n",
       "      <td>0</td>\n",
       "      <td>0</td>\n",
       "      <td>1</td>\n",
       "    </tr>\n",
       "    <tr>\n",
       "      <th>3</th>\n",
       "      <td>1</td>\n",
       "      <td>0</td>\n",
       "      <td>1</td>\n",
       "      <td>1</td>\n",
       "      <td>0</td>\n",
       "      <td>1</td>\n",
       "      <td>0</td>\n",
       "      <td>0</td>\n",
       "      <td>1</td>\n",
       "      <td>0</td>\n",
       "    </tr>\n",
       "    <tr>\n",
       "      <th>4</th>\n",
       "      <td>1</td>\n",
       "      <td>0</td>\n",
       "      <td>1</td>\n",
       "      <td>0</td>\n",
       "      <td>1</td>\n",
       "      <td>0</td>\n",
       "      <td>0</td>\n",
       "      <td>1</td>\n",
       "      <td>0</td>\n",
       "      <td>1</td>\n",
       "    </tr>\n",
       "    <tr>\n",
       "      <th>5</th>\n",
       "      <td>0</td>\n",
       "      <td>0</td>\n",
       "      <td>1</td>\n",
       "      <td>0</td>\n",
       "      <td>1</td>\n",
       "      <td>0</td>\n",
       "      <td>1</td>\n",
       "      <td>0</td>\n",
       "      <td>0</td>\n",
       "      <td>1</td>\n",
       "    </tr>\n",
       "    <tr>\n",
       "      <th>6</th>\n",
       "      <td>0</td>\n",
       "      <td>1</td>\n",
       "      <td>0</td>\n",
       "      <td>0</td>\n",
       "      <td>1</td>\n",
       "      <td>1</td>\n",
       "      <td>0</td>\n",
       "      <td>0</td>\n",
       "      <td>0</td>\n",
       "      <td>1</td>\n",
       "    </tr>\n",
       "  </tbody>\n",
       "</table>\n",
       "</div>"
      ],
      "text/plain": [
       "   Will_go  Looks_handsome  Looks_repulsive  Alcoholic_beverage_no  \\\n",
       "0        0               1                0                      0   \n",
       "1        1               1                0                      0   \n",
       "2        0               1                0                      1   \n",
       "3        1               0                1                      1   \n",
       "4        1               0                1                      0   \n",
       "5        0               0                1                      0   \n",
       "6        0               1                0                      0   \n",
       "\n",
       "   Alcoholic_beverage_yes  Eloquence_average  Eloquence_high  Eloquence_low  \\\n",
       "0                       1                  0               1              0   \n",
       "1                       1                  0               0              1   \n",
       "2                       0                  1               0              0   \n",
       "3                       0                  1               0              0   \n",
       "4                       1                  0               0              1   \n",
       "5                       1                  0               1              0   \n",
       "6                       1                  1               0              0   \n",
       "\n",
       "   Money_spent_little  Money_spent_lots  \n",
       "0                   0                 1  \n",
       "1                   1                 0  \n",
       "2                   0                 1  \n",
       "3                   1                 0  \n",
       "4                   0                 1  \n",
       "5                   0                 1  \n",
       "6                   0                 1  "
      ]
     },
     "execution_count": 4,
     "metadata": {},
     "output_type": "execute_result"
    }
   ],
   "source": [
    "df_train = {}\n",
    "df_train['Looks'] = ['handsome', 'handsome', 'handsome', 'repulsive',\n",
    "                         'repulsive', 'repulsive', 'handsome'] \n",
    "df_train['Alcoholic_beverage'] = ['yes', 'yes', 'no', 'no', 'yes', 'yes', 'yes']\n",
    "df_train['Eloquence'] = ['high', 'low', 'average', 'average', 'low',\n",
    "                                   'high', 'average']\n",
    "df_train['Money_spent'] = ['lots', 'little', 'lots', 'little', 'lots',\n",
    "                                  'lots', 'lots']\n",
    "df_train['Will_go'] = LabelEncoder().fit_transform(['+', '-', '+', '-', '-', '+', '+'])\n",
    "\n",
    "df_train = create_df(df_train, features)\n",
    "df_train"
   ]
  },
  {
   "cell_type": "markdown",
   "metadata": {},
   "source": [
    "#### Test data"
   ]
  },
  {
   "cell_type": "code",
   "execution_count": 5,
   "metadata": {},
   "outputs": [
    {
     "data": {
      "text/html": [
       "<div>\n",
       "<style scoped>\n",
       "    .dataframe tbody tr th:only-of-type {\n",
       "        vertical-align: middle;\n",
       "    }\n",
       "\n",
       "    .dataframe tbody tr th {\n",
       "        vertical-align: top;\n",
       "    }\n",
       "\n",
       "    .dataframe thead th {\n",
       "        text-align: right;\n",
       "    }\n",
       "</style>\n",
       "<table border=\"1\" class=\"dataframe\">\n",
       "  <thead>\n",
       "    <tr style=\"text-align: right;\">\n",
       "      <th></th>\n",
       "      <th>Looks_handsome</th>\n",
       "      <th>Looks_repulsive</th>\n",
       "      <th>Alcoholic_beverage_no</th>\n",
       "      <th>Alcoholic_beverage_yes</th>\n",
       "      <th>Eloquence_average</th>\n",
       "      <th>Eloquence_high</th>\n",
       "      <th>Money_spent_little</th>\n",
       "      <th>Money_spent_lots</th>\n",
       "    </tr>\n",
       "  </thead>\n",
       "  <tbody>\n",
       "    <tr>\n",
       "      <th>0</th>\n",
       "      <td>1</td>\n",
       "      <td>0</td>\n",
       "      <td>1</td>\n",
       "      <td>0</td>\n",
       "      <td>1</td>\n",
       "      <td>0</td>\n",
       "      <td>0</td>\n",
       "      <td>1</td>\n",
       "    </tr>\n",
       "    <tr>\n",
       "      <th>1</th>\n",
       "      <td>1</td>\n",
       "      <td>0</td>\n",
       "      <td>0</td>\n",
       "      <td>1</td>\n",
       "      <td>0</td>\n",
       "      <td>1</td>\n",
       "      <td>1</td>\n",
       "      <td>0</td>\n",
       "    </tr>\n",
       "    <tr>\n",
       "      <th>2</th>\n",
       "      <td>0</td>\n",
       "      <td>1</td>\n",
       "      <td>0</td>\n",
       "      <td>1</td>\n",
       "      <td>1</td>\n",
       "      <td>0</td>\n",
       "      <td>0</td>\n",
       "      <td>1</td>\n",
       "    </tr>\n",
       "  </tbody>\n",
       "</table>\n",
       "</div>"
      ],
      "text/plain": [
       "   Looks_handsome  Looks_repulsive  Alcoholic_beverage_no  \\\n",
       "0               1                0                      1   \n",
       "1               1                0                      0   \n",
       "2               0                1                      0   \n",
       "\n",
       "   Alcoholic_beverage_yes  Eloquence_average  Eloquence_high  \\\n",
       "0                       0                  1               0   \n",
       "1                       1                  0               1   \n",
       "2                       1                  1               0   \n",
       "\n",
       "   Money_spent_little  Money_spent_lots  \n",
       "0                   0                 1  \n",
       "1                   1                 0  \n",
       "2                   0                 1  "
      ]
     },
     "execution_count": 5,
     "metadata": {},
     "output_type": "execute_result"
    }
   ],
   "source": [
    "df_test = {}\n",
    "df_test['Looks'] = ['handsome', 'handsome', 'repulsive'] \n",
    "df_test['Alcoholic_beverage'] = ['no', 'yes', 'yes']\n",
    "df_test['Eloquence'] = ['average', 'high', 'average']\n",
    "df_test['Money_spent'] = ['lots', 'little', 'lots']\n",
    "df_test = create_df(df_test, features)\n",
    "df_test"
   ]
  },
  {
   "cell_type": "code",
   "execution_count": 6,
   "metadata": {},
   "outputs": [
    {
     "data": {
      "text/html": [
       "<div>\n",
       "<style scoped>\n",
       "    .dataframe tbody tr th:only-of-type {\n",
       "        vertical-align: middle;\n",
       "    }\n",
       "\n",
       "    .dataframe tbody tr th {\n",
       "        vertical-align: top;\n",
       "    }\n",
       "\n",
       "    .dataframe thead th {\n",
       "        text-align: right;\n",
       "    }\n",
       "</style>\n",
       "<table border=\"1\" class=\"dataframe\">\n",
       "  <thead>\n",
       "    <tr style=\"text-align: right;\">\n",
       "      <th></th>\n",
       "      <th>Looks_repulsive</th>\n",
       "      <th>Alcoholic_beverage_yes</th>\n",
       "      <th>Alcoholic_beverage_no</th>\n",
       "      <th>Eloquence_average</th>\n",
       "      <th>Eloquence_high</th>\n",
       "      <th>Money_spent_lots</th>\n",
       "      <th>Looks_handsome</th>\n",
       "      <th>Money_spent_little</th>\n",
       "    </tr>\n",
       "  </thead>\n",
       "  <tbody>\n",
       "    <tr>\n",
       "      <th>0</th>\n",
       "      <td>0</td>\n",
       "      <td>1</td>\n",
       "      <td>0</td>\n",
       "      <td>0</td>\n",
       "      <td>1</td>\n",
       "      <td>1</td>\n",
       "      <td>1</td>\n",
       "      <td>0</td>\n",
       "    </tr>\n",
       "    <tr>\n",
       "      <th>1</th>\n",
       "      <td>0</td>\n",
       "      <td>1</td>\n",
       "      <td>0</td>\n",
       "      <td>0</td>\n",
       "      <td>0</td>\n",
       "      <td>0</td>\n",
       "      <td>1</td>\n",
       "      <td>1</td>\n",
       "    </tr>\n",
       "    <tr>\n",
       "      <th>2</th>\n",
       "      <td>0</td>\n",
       "      <td>0</td>\n",
       "      <td>1</td>\n",
       "      <td>1</td>\n",
       "      <td>0</td>\n",
       "      <td>1</td>\n",
       "      <td>1</td>\n",
       "      <td>0</td>\n",
       "    </tr>\n",
       "    <tr>\n",
       "      <th>3</th>\n",
       "      <td>1</td>\n",
       "      <td>0</td>\n",
       "      <td>1</td>\n",
       "      <td>1</td>\n",
       "      <td>0</td>\n",
       "      <td>0</td>\n",
       "      <td>0</td>\n",
       "      <td>1</td>\n",
       "    </tr>\n",
       "    <tr>\n",
       "      <th>4</th>\n",
       "      <td>1</td>\n",
       "      <td>1</td>\n",
       "      <td>0</td>\n",
       "      <td>0</td>\n",
       "      <td>0</td>\n",
       "      <td>1</td>\n",
       "      <td>0</td>\n",
       "      <td>0</td>\n",
       "    </tr>\n",
       "    <tr>\n",
       "      <th>5</th>\n",
       "      <td>1</td>\n",
       "      <td>1</td>\n",
       "      <td>0</td>\n",
       "      <td>0</td>\n",
       "      <td>1</td>\n",
       "      <td>1</td>\n",
       "      <td>0</td>\n",
       "      <td>0</td>\n",
       "    </tr>\n",
       "    <tr>\n",
       "      <th>6</th>\n",
       "      <td>0</td>\n",
       "      <td>1</td>\n",
       "      <td>0</td>\n",
       "      <td>1</td>\n",
       "      <td>0</td>\n",
       "      <td>1</td>\n",
       "      <td>1</td>\n",
       "      <td>0</td>\n",
       "    </tr>\n",
       "  </tbody>\n",
       "</table>\n",
       "</div>"
      ],
      "text/plain": [
       "   Looks_repulsive  Alcoholic_beverage_yes  Alcoholic_beverage_no  \\\n",
       "0                0                       1                      0   \n",
       "1                0                       1                      0   \n",
       "2                0                       0                      1   \n",
       "3                1                       0                      1   \n",
       "4                1                       1                      0   \n",
       "5                1                       1                      0   \n",
       "6                0                       1                      0   \n",
       "\n",
       "   Eloquence_average  Eloquence_high  Money_spent_lots  Looks_handsome  \\\n",
       "0                  0               1                 1               1   \n",
       "1                  0               0                 0               1   \n",
       "2                  1               0                 1               1   \n",
       "3                  1               0                 0               0   \n",
       "4                  0               0                 1               0   \n",
       "5                  0               1                 1               0   \n",
       "6                  1               0                 1               1   \n",
       "\n",
       "   Money_spent_little  \n",
       "0                   0  \n",
       "1                   1  \n",
       "2                   0  \n",
       "3                   1  \n",
       "4                   0  \n",
       "5                   0  \n",
       "6                   0  "
      ]
     },
     "execution_count": 6,
     "metadata": {},
     "output_type": "execute_result"
    }
   ],
   "source": [
    "# Some feature values are present in train and absent in test and vice-versa.\n",
    "y = df_train['Will_go']\n",
    "df_train, df_test = intersect_features(train=df_train, test=df_test)\n",
    "df_train"
   ]
  },
  {
   "cell_type": "code",
   "execution_count": 7,
   "metadata": {},
   "outputs": [
    {
     "data": {
      "text/html": [
       "<div>\n",
       "<style scoped>\n",
       "    .dataframe tbody tr th:only-of-type {\n",
       "        vertical-align: middle;\n",
       "    }\n",
       "\n",
       "    .dataframe tbody tr th {\n",
       "        vertical-align: top;\n",
       "    }\n",
       "\n",
       "    .dataframe thead th {\n",
       "        text-align: right;\n",
       "    }\n",
       "</style>\n",
       "<table border=\"1\" class=\"dataframe\">\n",
       "  <thead>\n",
       "    <tr style=\"text-align: right;\">\n",
       "      <th></th>\n",
       "      <th>Looks_repulsive</th>\n",
       "      <th>Alcoholic_beverage_yes</th>\n",
       "      <th>Alcoholic_beverage_no</th>\n",
       "      <th>Eloquence_average</th>\n",
       "      <th>Eloquence_high</th>\n",
       "      <th>Money_spent_lots</th>\n",
       "      <th>Looks_handsome</th>\n",
       "      <th>Money_spent_little</th>\n",
       "    </tr>\n",
       "  </thead>\n",
       "  <tbody>\n",
       "    <tr>\n",
       "      <th>0</th>\n",
       "      <td>0</td>\n",
       "      <td>0</td>\n",
       "      <td>1</td>\n",
       "      <td>1</td>\n",
       "      <td>0</td>\n",
       "      <td>1</td>\n",
       "      <td>1</td>\n",
       "      <td>0</td>\n",
       "    </tr>\n",
       "    <tr>\n",
       "      <th>1</th>\n",
       "      <td>0</td>\n",
       "      <td>1</td>\n",
       "      <td>0</td>\n",
       "      <td>0</td>\n",
       "      <td>1</td>\n",
       "      <td>0</td>\n",
       "      <td>1</td>\n",
       "      <td>1</td>\n",
       "    </tr>\n",
       "    <tr>\n",
       "      <th>2</th>\n",
       "      <td>1</td>\n",
       "      <td>1</td>\n",
       "      <td>0</td>\n",
       "      <td>1</td>\n",
       "      <td>0</td>\n",
       "      <td>1</td>\n",
       "      <td>0</td>\n",
       "      <td>0</td>\n",
       "    </tr>\n",
       "  </tbody>\n",
       "</table>\n",
       "</div>"
      ],
      "text/plain": [
       "   Looks_repulsive  Alcoholic_beverage_yes  Alcoholic_beverage_no  \\\n",
       "0                0                       0                      1   \n",
       "1                0                       1                      0   \n",
       "2                1                       1                      0   \n",
       "\n",
       "   Eloquence_average  Eloquence_high  Money_spent_lots  Looks_handsome  \\\n",
       "0                  1               0                 1               1   \n",
       "1                  0               1                 0               1   \n",
       "2                  1               0                 1               0   \n",
       "\n",
       "   Money_spent_little  \n",
       "0                   0  \n",
       "1                   1  \n",
       "2                   0  "
      ]
     },
     "execution_count": 7,
     "metadata": {},
     "output_type": "execute_result"
    }
   ],
   "source": [
    "df_test"
   ]
  },
  {
   "cell_type": "markdown",
   "metadata": {},
   "source": [
    "#### Draw a decision tree (by hand or in any graphics editor) for this dataset. Optionally you can also implement tree construction and draw it here."
   ]
  },
  {
   "cell_type": "markdown",
   "metadata": {},
   "source": [
    "1\\. What is the entropy $S_0$ of the initial system? By system states, we mean values of the binary feature \"Will_go\" - 0 or 1 - two states in total."
   ]
  },
  {
   "cell_type": "markdown",
   "metadata": {},
   "source": [
    "<font color='red'>Answer: </font>  $S_0 = -\\frac{3}{7}\\log_2{\\frac{3}{7}}-\\frac{4}{7}\\log_2{\\frac{4}{7}} = 0.985$."
   ]
  },
  {
   "cell_type": "markdown",
   "metadata": {},
   "source": [
    "2\\. Let's split the data by the feature \"Looks_handsome\". What is the entropy $S_1$ of the left group - the one with \"Looks_handsome\". What is the entropy $S_2$ in the opposite group? What is the information gain (IG) if we consider such a split?"
   ]
  },
  {
   "cell_type": "markdown",
   "metadata": {},
   "source": [
    "<font color='red'>Answer: </font> $S_1 = -\\frac{1}{4}\\log_2{\\frac{1}{4}}-\\frac{3}{4}\\log_2{\\frac{3}{4}} = 0.811$, $S_2 = -\\frac{2}{3}\\log_2{\\frac{2}{3}}-\\frac{1}{3}\\log_2{\\frac{1}{3}} = 0.918$, $IG = S_0-\\frac{4}{7}S_1-\\frac{3}{7}S_2 = 0.128$."
   ]
  },
  {
   "cell_type": "markdown",
   "metadata": {},
   "source": [
    "#### Train a decision tree using sklearn on the training data. You may choose any depth for the tree."
   ]
  },
  {
   "cell_type": "code",
   "execution_count": 8,
   "metadata": {},
   "outputs": [],
   "source": [
    "dt = DecisionTreeClassifier(criterion='entropy', random_state=17)\n",
    "dt.fit(df_train, y);"
   ]
  },
  {
   "cell_type": "markdown",
   "metadata": {},
   "source": [
    "#### Additional: display the resulting tree using graphviz."
   ]
  },
  {
   "cell_type": "code",
   "execution_count": 9,
   "metadata": {},
   "outputs": [
    {
     "data": {
      "image/png": "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\n",
      "text/plain": [
       "<Figure size 432x288 with 1 Axes>"
      ]
     },
     "metadata": {
      "needs_background": "light"
     },
     "output_type": "display_data"
    }
   ],
   "source": [
    "plot_tree(dt, feature_names=df_train.columns, filled=True,\n",
    "         class_names=[\"Won't go\", \"Will go\"]);"
   ]
  },
  {
   "cell_type": "markdown",
   "metadata": {},
   "source": [
    "### Part 2. Functions for calculating entropy and information gain."
   ]
  },
  {
   "cell_type": "markdown",
   "metadata": {},
   "source": [
    "Consider the following warm-up example: we have 9 blue balls and 11 yellow balls. Let ball have label **1** if it is blue, **0** otherwise."
   ]
  },
  {
   "cell_type": "code",
   "execution_count": 10,
   "metadata": {},
   "outputs": [],
   "source": [
    "balls = [1 for i in range(9)] + [0 for i in range(11)]"
   ]
  },
  {
   "cell_type": "markdown",
   "metadata": {},
   "source": [
    "<img src = '../../img/decision_tree3.png'>"
   ]
  },
  {
   "cell_type": "markdown",
   "metadata": {},
   "source": [
    "Next split the balls into two groups:"
   ]
  },
  {
   "cell_type": "markdown",
   "metadata": {},
   "source": [
    "<img src = '../../img/decision_tree4.png'>"
   ]
  },
  {
   "cell_type": "code",
   "execution_count": 11,
   "metadata": {},
   "outputs": [],
   "source": [
    "# two groups\n",
    "balls_left  = [1 for i in range(8)] + [0 for i in range(5)] # 8 blue and 5 yellow\n",
    "balls_right = [1 for i in range(1)] + [0 for i in range(6)] # 1 blue and 6 yellow"
   ]
  },
  {
   "cell_type": "markdown",
   "metadata": {},
   "source": [
    "#### Implement a function to calculate the Shannon Entropy"
   ]
  },
  {
   "cell_type": "code",
   "execution_count": 12,
   "metadata": {},
   "outputs": [],
   "source": [
    "from math import log\n",
    "    \n",
    "def entropy(a_list):\n",
    "    lst = list(a_list)\n",
    "    size = len(lst) \n",
    "    entropy = 0\n",
    "    set_elements = len(set(lst))\n",
    "    if set_elements in [0, 1]:\n",
    "        return 0\n",
    "    for i in set(lst):\n",
    "        occ = lst.count(i)\n",
    "        entropy -= occ/size * log (occ/size,2)\n",
    "    return entropy"
   ]
  },
  {
   "cell_type": "markdown",
   "metadata": {},
   "source": [
    "Tests"
   ]
  },
  {
   "cell_type": "code",
   "execution_count": 13,
   "metadata": {},
   "outputs": [
    {
     "name": "stdout",
     "output_type": "stream",
     "text": [
      "0.9927744539878084\n",
      "0.961236604722876\n",
      "0.5916727785823275\n",
      "2.584962500721156\n"
     ]
    }
   ],
   "source": [
    "print(entropy(balls)) # 9 blue and 11 yellow ones\n",
    "print(entropy(balls_left)) # 8 blue and 5 yellow ones\n",
    "print(entropy(balls_right)) # 1 blue and 6 yellow ones\n",
    "print(entropy([1,2,3,4,5,6])) # entropy of a fair 6-sided die"
   ]
  },
  {
   "cell_type": "markdown",
   "metadata": {},
   "source": [
    "3\\. What is the entropy of the state given by the list **balls_left**?"
   ]
  },
  {
   "cell_type": "markdown",
   "metadata": {},
   "source": [
    "<font color='red'>Answer:</font> 0.961"
   ]
  },
  {
   "cell_type": "markdown",
   "metadata": {},
   "source": [
    "4\\. What is the entropy of a fair dice? (where we look at a dice as a system with 6 equally probable states)?"
   ]
  },
  {
   "cell_type": "markdown",
   "metadata": {},
   "source": [
    "<font color='red'>Answer:</font> 2.585"
   ]
  },
  {
   "cell_type": "code",
   "execution_count": 14,
   "metadata": {},
   "outputs": [],
   "source": [
    "# information gain calculation\n",
    "def information_gain(root, left, right):\n",
    "    ''' root - initial data, left and right - two partitions of initial data'''\n",
    "        \n",
    "    return entropy(root) - 1.0 * len(left) / len(root) * entropy(left) \\\n",
    "                         - 1.0 * len(right) / len(root) * entropy(right) "
   ]
  },
  {
   "cell_type": "code",
   "execution_count": 15,
   "metadata": {},
   "outputs": [
    {
     "name": "stdout",
     "output_type": "stream",
     "text": [
      "0.16088518841412436\n"
     ]
    }
   ],
   "source": [
    "print(information_gain(balls, balls_left, balls_right))"
   ]
  },
  {
   "cell_type": "markdown",
   "metadata": {},
   "source": [
    "5\\. What is the information gain from splitting the initial dataset into **balls_left** and **balls_right** ?"
   ]
  },
  {
   "cell_type": "markdown",
   "metadata": {},
   "source": [
    "<font color='red'>Answer:</font> 0.161"
   ]
  },
  {
   "cell_type": "code",
   "execution_count": 16,
   "metadata": {},
   "outputs": [],
   "source": [
    "def information_gains(X, y):\n",
    "    '''Outputs information gain when splitting with each feature'''\n",
    "    out = []\n",
    "    for i in X.columns:\n",
    "        out.append(information_gain(y, y[X[i] == 0], y[X[i] == 1]))\n",
    "    return out"
   ]
  },
  {
   "cell_type": "markdown",
   "metadata": {},
   "source": [
    "#### Optional:\n",
    "- Implement a decision tree building algorithm by calling `information_gains` recursively\n",
    "- Plot the resulting tree"
   ]
  },
  {
   "cell_type": "code",
   "execution_count": 17,
   "metadata": {},
   "outputs": [
    {
     "data": {
      "text/plain": [
       "[0.46956521111470706,\n",
       " 0.02024420715375619,\n",
       " 0.12808527889139454,\n",
       " 0.46956521111470706,\n",
       " 0.005977711423774124,\n",
       " 0.005977711423774124,\n",
       " 0.2916919971380598,\n",
       " 0.12808527889139454]"
      ]
     },
     "execution_count": 17,
     "metadata": {},
     "output_type": "execute_result"
    }
   ],
   "source": [
    "information_gains(df_train, y)"
   ]
  },
  {
   "cell_type": "code",
   "execution_count": 18,
   "metadata": {},
   "outputs": [],
   "source": [
    "def btree(X, y, feature_names):\n",
    "    clf = information_gains(X, y)\n",
    "    best_feat_id = clf.index(max(clf))\n",
    "    best_feature = feature_names[best_feat_id]\n",
    "    print (f'Best feature to split: {best_feature}')\n",
    "    \n",
    "    x_left = X[X.iloc[:, best_feat_id] == 0]\n",
    "    x_right = X[X.iloc[:, best_feat_id] == 1]\n",
    "    print (f'Samples: {len(x_left)} (left) and {len(x_right)} (right)')\n",
    "    \n",
    "    y_left = y[X.iloc[:, best_feat_id] == 0]\n",
    "    y_right = y[X.iloc[:, best_feat_id] == 1]\n",
    "    entropy_left = entropy(y_left)\n",
    "    entropy_right = entropy(y_right)\n",
    "    print (f'Entropy: {entropy_left} (left) and {entropy_right} (right)')\n",
    "    print('_' * 30 + '\\n')\n",
    "    if entropy_left != 0:\n",
    "        print(f'Splitting the left group with {len(x_left)} samples:')\n",
    "        btree(x_left, y_left, feature_names)\n",
    "    if entropy_right != 0:\n",
    "        print(f'Splitting the right group with {len(x_right)} samples:')\n",
    "        btree(x_right, y_right, feature_names)"
   ]
  },
  {
   "cell_type": "code",
   "execution_count": 19,
   "metadata": {},
   "outputs": [
    {
     "name": "stdout",
     "output_type": "stream",
     "text": [
      "Best feature to split: Money_spent_lots\n",
      "Samples: 2 (left) and 5 (right)\n",
      "Entropy: 0 (left) and 0.7219280948873623 (right)\n",
      "______________________________\n",
      "\n",
      "Splitting the right group with 5 samples:\n",
      "Best feature to split: Looks_handsome\n",
      "Samples: 2 (left) and 3 (right)\n",
      "Entropy: 1.0 (left) and 0 (right)\n",
      "______________________________\n",
      "\n",
      "Splitting the left group with 2 samples:\n",
      "Best feature to split: Eloquence_high\n",
      "Samples: 1 (left) and 1 (right)\n",
      "Entropy: 0 (left) and 0 (right)\n",
      "______________________________\n",
      "\n"
     ]
    }
   ],
   "source": [
    "btree (df_train, y, df_train.columns)"
   ]
  },
  {
   "cell_type": "markdown",
   "metadata": {},
   "source": [
    "This visualization is far from perfect, but it's easy to grasp if you compare it to the normal tree visualization (by sklearn) done above."
   ]
  },
  {
   "cell_type": "markdown",
   "metadata": {},
   "source": [
    "### Part 3. The \"Adult\" dataset"
   ]
  },
  {
   "cell_type": "markdown",
   "metadata": {},
   "source": [
    "#### Dataset description:"
   ]
  },
  {
   "cell_type": "markdown",
   "metadata": {},
   "source": [
    "[Dataset](http://archive.ics.uci.edu/ml/machine-learning-databases/adult) UCI Adult (no need to download it, we have a copy in the course repository): classify people using demographical data - whether they earn more than \\$50,000 per year or not."
   ]
  },
  {
   "cell_type": "markdown",
   "metadata": {},
   "source": [
    "Feature descriptions:"
   ]
  },
  {
   "cell_type": "markdown",
   "metadata": {},
   "source": [
    "- **Age** – continuous feature\n",
    "- **Workclass** –  continuous feature\n",
    "- **fnlwgt** – final weight of object, continuous feature\n",
    "- **Education** –  categorical feature\n",
    "- **Education_Num** – number of years of education, continuous feature\n",
    "- **Martial_Status** –  categorical feature\n",
    "- **Occupation** –  categorical feature\n",
    "- **Relationship** – categorical feature\n",
    "- **Race** – categorical feature\n",
    "- **Sex** – categorical feature\n",
    "- **Capital_Gain** – continuous feature\n",
    "- **Capital_Loss** – continuous feature\n",
    "- **Hours_per_week** – continuous feature\n",
    "- **Country** – categorical feature"
   ]
  },
  {
   "cell_type": "markdown",
   "metadata": {},
   "source": [
    "**Target** – earnings level, categorical (binary) feature."
   ]
  },
  {
   "cell_type": "markdown",
   "metadata": {},
   "source": [
    "#### Reading train and test data"
   ]
  },
  {
   "cell_type": "code",
   "execution_count": 20,
   "metadata": {},
   "outputs": [],
   "source": [
    "data_train = pd.read_csv('../../data/adult_train.csv', sep=';')"
   ]
  },
  {
   "cell_type": "code",
   "execution_count": 21,
   "metadata": {},
   "outputs": [
    {
     "data": {
      "text/html": [
       "<div>\n",
       "<style scoped>\n",
       "    .dataframe tbody tr th:only-of-type {\n",
       "        vertical-align: middle;\n",
       "    }\n",
       "\n",
       "    .dataframe tbody tr th {\n",
       "        vertical-align: top;\n",
       "    }\n",
       "\n",
       "    .dataframe thead th {\n",
       "        text-align: right;\n",
       "    }\n",
       "</style>\n",
       "<table border=\"1\" class=\"dataframe\">\n",
       "  <thead>\n",
       "    <tr style=\"text-align: right;\">\n",
       "      <th></th>\n",
       "      <th>Age</th>\n",
       "      <th>Workclass</th>\n",
       "      <th>fnlwgt</th>\n",
       "      <th>Education</th>\n",
       "      <th>Education_Num</th>\n",
       "      <th>Martial_Status</th>\n",
       "      <th>Occupation</th>\n",
       "      <th>Relationship</th>\n",
       "      <th>Race</th>\n",
       "      <th>Sex</th>\n",
       "      <th>Capital_Gain</th>\n",
       "      <th>Capital_Loss</th>\n",
       "      <th>Hours_per_week</th>\n",
       "      <th>Country</th>\n",
       "      <th>Target</th>\n",
       "    </tr>\n",
       "  </thead>\n",
       "  <tbody>\n",
       "    <tr>\n",
       "      <th>32556</th>\n",
       "      <td>27</td>\n",
       "      <td>Private</td>\n",
       "      <td>257302</td>\n",
       "      <td>Assoc-acdm</td>\n",
       "      <td>12</td>\n",
       "      <td>Married-civ-spouse</td>\n",
       "      <td>Tech-support</td>\n",
       "      <td>Wife</td>\n",
       "      <td>White</td>\n",
       "      <td>Female</td>\n",
       "      <td>0</td>\n",
       "      <td>0</td>\n",
       "      <td>38</td>\n",
       "      <td>United-States</td>\n",
       "      <td>&lt;=50K</td>\n",
       "    </tr>\n",
       "    <tr>\n",
       "      <th>32557</th>\n",
       "      <td>40</td>\n",
       "      <td>Private</td>\n",
       "      <td>154374</td>\n",
       "      <td>HS-grad</td>\n",
       "      <td>9</td>\n",
       "      <td>Married-civ-spouse</td>\n",
       "      <td>Machine-op-inspct</td>\n",
       "      <td>Husband</td>\n",
       "      <td>White</td>\n",
       "      <td>Male</td>\n",
       "      <td>0</td>\n",
       "      <td>0</td>\n",
       "      <td>40</td>\n",
       "      <td>United-States</td>\n",
       "      <td>&gt;50K</td>\n",
       "    </tr>\n",
       "    <tr>\n",
       "      <th>32558</th>\n",
       "      <td>58</td>\n",
       "      <td>Private</td>\n",
       "      <td>151910</td>\n",
       "      <td>HS-grad</td>\n",
       "      <td>9</td>\n",
       "      <td>Widowed</td>\n",
       "      <td>Adm-clerical</td>\n",
       "      <td>Unmarried</td>\n",
       "      <td>White</td>\n",
       "      <td>Female</td>\n",
       "      <td>0</td>\n",
       "      <td>0</td>\n",
       "      <td>40</td>\n",
       "      <td>United-States</td>\n",
       "      <td>&lt;=50K</td>\n",
       "    </tr>\n",
       "    <tr>\n",
       "      <th>32559</th>\n",
       "      <td>22</td>\n",
       "      <td>Private</td>\n",
       "      <td>201490</td>\n",
       "      <td>HS-grad</td>\n",
       "      <td>9</td>\n",
       "      <td>Never-married</td>\n",
       "      <td>Adm-clerical</td>\n",
       "      <td>Own-child</td>\n",
       "      <td>White</td>\n",
       "      <td>Male</td>\n",
       "      <td>0</td>\n",
       "      <td>0</td>\n",
       "      <td>20</td>\n",
       "      <td>United-States</td>\n",
       "      <td>&lt;=50K</td>\n",
       "    </tr>\n",
       "    <tr>\n",
       "      <th>32560</th>\n",
       "      <td>52</td>\n",
       "      <td>Self-emp-inc</td>\n",
       "      <td>287927</td>\n",
       "      <td>HS-grad</td>\n",
       "      <td>9</td>\n",
       "      <td>Married-civ-spouse</td>\n",
       "      <td>Exec-managerial</td>\n",
       "      <td>Wife</td>\n",
       "      <td>White</td>\n",
       "      <td>Female</td>\n",
       "      <td>15024</td>\n",
       "      <td>0</td>\n",
       "      <td>40</td>\n",
       "      <td>United-States</td>\n",
       "      <td>&gt;50K</td>\n",
       "    </tr>\n",
       "  </tbody>\n",
       "</table>\n",
       "</div>"
      ],
      "text/plain": [
       "       Age      Workclass  fnlwgt    Education  Education_Num  \\\n",
       "32556   27        Private  257302   Assoc-acdm             12   \n",
       "32557   40        Private  154374      HS-grad              9   \n",
       "32558   58        Private  151910      HS-grad              9   \n",
       "32559   22        Private  201490      HS-grad              9   \n",
       "32560   52   Self-emp-inc  287927      HS-grad              9   \n",
       "\n",
       "            Martial_Status          Occupation Relationship    Race      Sex  \\\n",
       "32556   Married-civ-spouse        Tech-support         Wife   White   Female   \n",
       "32557   Married-civ-spouse   Machine-op-inspct      Husband   White     Male   \n",
       "32558              Widowed        Adm-clerical    Unmarried   White   Female   \n",
       "32559        Never-married        Adm-clerical    Own-child   White     Male   \n",
       "32560   Married-civ-spouse     Exec-managerial         Wife   White   Female   \n",
       "\n",
       "       Capital_Gain  Capital_Loss  Hours_per_week         Country  Target  \n",
       "32556             0             0              38   United-States   <=50K  \n",
       "32557             0             0              40   United-States    >50K  \n",
       "32558             0             0              40   United-States   <=50K  \n",
       "32559             0             0              20   United-States   <=50K  \n",
       "32560         15024             0              40   United-States    >50K  "
      ]
     },
     "execution_count": 21,
     "metadata": {},
     "output_type": "execute_result"
    }
   ],
   "source": [
    "data_train.tail()"
   ]
  },
  {
   "cell_type": "code",
   "execution_count": 22,
   "metadata": {},
   "outputs": [],
   "source": [
    "data_test = pd.read_csv('../../data/adult_test.csv', sep=';')"
   ]
  },
  {
   "cell_type": "code",
   "execution_count": 23,
   "metadata": {},
   "outputs": [
    {
     "data": {
      "text/html": [
       "<div>\n",
       "<style scoped>\n",
       "    .dataframe tbody tr th:only-of-type {\n",
       "        vertical-align: middle;\n",
       "    }\n",
       "\n",
       "    .dataframe tbody tr th {\n",
       "        vertical-align: top;\n",
       "    }\n",
       "\n",
       "    .dataframe thead th {\n",
       "        text-align: right;\n",
       "    }\n",
       "</style>\n",
       "<table border=\"1\" class=\"dataframe\">\n",
       "  <thead>\n",
       "    <tr style=\"text-align: right;\">\n",
       "      <th></th>\n",
       "      <th>Age</th>\n",
       "      <th>Workclass</th>\n",
       "      <th>fnlwgt</th>\n",
       "      <th>Education</th>\n",
       "      <th>Education_Num</th>\n",
       "      <th>Martial_Status</th>\n",
       "      <th>Occupation</th>\n",
       "      <th>Relationship</th>\n",
       "      <th>Race</th>\n",
       "      <th>Sex</th>\n",
       "      <th>Capital_Gain</th>\n",
       "      <th>Capital_Loss</th>\n",
       "      <th>Hours_per_week</th>\n",
       "      <th>Country</th>\n",
       "      <th>Target</th>\n",
       "    </tr>\n",
       "  </thead>\n",
       "  <tbody>\n",
       "    <tr>\n",
       "      <th>16277</th>\n",
       "      <td>39</td>\n",
       "      <td>Private</td>\n",
       "      <td>215419.0</td>\n",
       "      <td>Bachelors</td>\n",
       "      <td>13.0</td>\n",
       "      <td>Divorced</td>\n",
       "      <td>Prof-specialty</td>\n",
       "      <td>Not-in-family</td>\n",
       "      <td>White</td>\n",
       "      <td>Female</td>\n",
       "      <td>0.0</td>\n",
       "      <td>0.0</td>\n",
       "      <td>36.0</td>\n",
       "      <td>United-States</td>\n",
       "      <td>&lt;=50K.</td>\n",
       "    </tr>\n",
       "    <tr>\n",
       "      <th>16278</th>\n",
       "      <td>64</td>\n",
       "      <td>NaN</td>\n",
       "      <td>321403.0</td>\n",
       "      <td>HS-grad</td>\n",
       "      <td>9.0</td>\n",
       "      <td>Widowed</td>\n",
       "      <td>NaN</td>\n",
       "      <td>Other-relative</td>\n",
       "      <td>Black</td>\n",
       "      <td>Male</td>\n",
       "      <td>0.0</td>\n",
       "      <td>0.0</td>\n",
       "      <td>40.0</td>\n",
       "      <td>United-States</td>\n",
       "      <td>&lt;=50K.</td>\n",
       "    </tr>\n",
       "    <tr>\n",
       "      <th>16279</th>\n",
       "      <td>38</td>\n",
       "      <td>Private</td>\n",
       "      <td>374983.0</td>\n",
       "      <td>Bachelors</td>\n",
       "      <td>13.0</td>\n",
       "      <td>Married-civ-spouse</td>\n",
       "      <td>Prof-specialty</td>\n",
       "      <td>Husband</td>\n",
       "      <td>White</td>\n",
       "      <td>Male</td>\n",
       "      <td>0.0</td>\n",
       "      <td>0.0</td>\n",
       "      <td>50.0</td>\n",
       "      <td>United-States</td>\n",
       "      <td>&lt;=50K.</td>\n",
       "    </tr>\n",
       "    <tr>\n",
       "      <th>16280</th>\n",
       "      <td>44</td>\n",
       "      <td>Private</td>\n",
       "      <td>83891.0</td>\n",
       "      <td>Bachelors</td>\n",
       "      <td>13.0</td>\n",
       "      <td>Divorced</td>\n",
       "      <td>Adm-clerical</td>\n",
       "      <td>Own-child</td>\n",
       "      <td>Asian-Pac-Islander</td>\n",
       "      <td>Male</td>\n",
       "      <td>5455.0</td>\n",
       "      <td>0.0</td>\n",
       "      <td>40.0</td>\n",
       "      <td>United-States</td>\n",
       "      <td>&lt;=50K.</td>\n",
       "    </tr>\n",
       "    <tr>\n",
       "      <th>16281</th>\n",
       "      <td>35</td>\n",
       "      <td>Self-emp-inc</td>\n",
       "      <td>182148.0</td>\n",
       "      <td>Bachelors</td>\n",
       "      <td>13.0</td>\n",
       "      <td>Married-civ-spouse</td>\n",
       "      <td>Exec-managerial</td>\n",
       "      <td>Husband</td>\n",
       "      <td>White</td>\n",
       "      <td>Male</td>\n",
       "      <td>0.0</td>\n",
       "      <td>0.0</td>\n",
       "      <td>60.0</td>\n",
       "      <td>United-States</td>\n",
       "      <td>&gt;50K.</td>\n",
       "    </tr>\n",
       "  </tbody>\n",
       "</table>\n",
       "</div>"
      ],
      "text/plain": [
       "      Age      Workclass    fnlwgt   Education  Education_Num  \\\n",
       "16277  39        Private  215419.0   Bachelors           13.0   \n",
       "16278  64            NaN  321403.0     HS-grad            9.0   \n",
       "16279  38        Private  374983.0   Bachelors           13.0   \n",
       "16280  44        Private   83891.0   Bachelors           13.0   \n",
       "16281  35   Self-emp-inc  182148.0   Bachelors           13.0   \n",
       "\n",
       "            Martial_Status        Occupation     Relationship  \\\n",
       "16277             Divorced    Prof-specialty    Not-in-family   \n",
       "16278              Widowed               NaN   Other-relative   \n",
       "16279   Married-civ-spouse    Prof-specialty          Husband   \n",
       "16280             Divorced      Adm-clerical        Own-child   \n",
       "16281   Married-civ-spouse   Exec-managerial          Husband   \n",
       "\n",
       "                      Race      Sex  Capital_Gain  Capital_Loss  \\\n",
       "16277                White   Female           0.0           0.0   \n",
       "16278                Black     Male           0.0           0.0   \n",
       "16279                White     Male           0.0           0.0   \n",
       "16280   Asian-Pac-Islander     Male        5455.0           0.0   \n",
       "16281                White     Male           0.0           0.0   \n",
       "\n",
       "       Hours_per_week         Country   Target  \n",
       "16277            36.0   United-States   <=50K.  \n",
       "16278            40.0   United-States   <=50K.  \n",
       "16279            50.0   United-States   <=50K.  \n",
       "16280            40.0   United-States   <=50K.  \n",
       "16281            60.0   United-States    >50K.  "
      ]
     },
     "execution_count": 23,
     "metadata": {},
     "output_type": "execute_result"
    }
   ],
   "source": [
    "data_test.tail()"
   ]
  },
  {
   "cell_type": "code",
   "execution_count": 24,
   "metadata": {},
   "outputs": [],
   "source": [
    "# necessary to remove rows with incorrect labels in test dataset\n",
    "data_test = data_test[(data_test['Target'] == ' >50K.') | (data_test['Target']==' <=50K.')]\n",
    "\n",
    "# encode target variable as integer\n",
    "data_train.loc[data_train['Target']==' <=50K', 'Target'] = 0\n",
    "data_train.loc[data_train['Target']==' >50K', 'Target'] = 1\n",
    "\n",
    "data_test.loc[data_test['Target']==' <=50K.', 'Target'] = 0\n",
    "data_test.loc[data_test['Target']==' >50K.', 'Target'] = 1"
   ]
  },
  {
   "cell_type": "markdown",
   "metadata": {},
   "source": [
    "#### Primary data analysis"
   ]
  },
  {
   "cell_type": "code",
   "execution_count": 25,
   "metadata": {},
   "outputs": [
    {
     "data": {
      "text/html": [
       "<div>\n",
       "<style scoped>\n",
       "    .dataframe tbody tr th:only-of-type {\n",
       "        vertical-align: middle;\n",
       "    }\n",
       "\n",
       "    .dataframe tbody tr th {\n",
       "        vertical-align: top;\n",
       "    }\n",
       "\n",
       "    .dataframe thead th {\n",
       "        text-align: right;\n",
       "    }\n",
       "</style>\n",
       "<table border=\"1\" class=\"dataframe\">\n",
       "  <thead>\n",
       "    <tr style=\"text-align: right;\">\n",
       "      <th></th>\n",
       "      <th>count</th>\n",
       "      <th>unique</th>\n",
       "      <th>top</th>\n",
       "      <th>freq</th>\n",
       "      <th>mean</th>\n",
       "      <th>std</th>\n",
       "      <th>min</th>\n",
       "      <th>25%</th>\n",
       "      <th>50%</th>\n",
       "      <th>75%</th>\n",
       "      <th>max</th>\n",
       "    </tr>\n",
       "  </thead>\n",
       "  <tbody>\n",
       "    <tr>\n",
       "      <th>Age</th>\n",
       "      <td>16281</td>\n",
       "      <td>73</td>\n",
       "      <td>35</td>\n",
       "      <td>461</td>\n",
       "      <td>NaN</td>\n",
       "      <td>NaN</td>\n",
       "      <td>NaN</td>\n",
       "      <td>NaN</td>\n",
       "      <td>NaN</td>\n",
       "      <td>NaN</td>\n",
       "      <td>NaN</td>\n",
       "    </tr>\n",
       "    <tr>\n",
       "      <th>Workclass</th>\n",
       "      <td>15318</td>\n",
       "      <td>8</td>\n",
       "      <td>Private</td>\n",
       "      <td>11210</td>\n",
       "      <td>NaN</td>\n",
       "      <td>NaN</td>\n",
       "      <td>NaN</td>\n",
       "      <td>NaN</td>\n",
       "      <td>NaN</td>\n",
       "      <td>NaN</td>\n",
       "      <td>NaN</td>\n",
       "    </tr>\n",
       "    <tr>\n",
       "      <th>fnlwgt</th>\n",
       "      <td>16281</td>\n",
       "      <td>NaN</td>\n",
       "      <td>NaN</td>\n",
       "      <td>NaN</td>\n",
       "      <td>189436</td>\n",
       "      <td>105715</td>\n",
       "      <td>13492</td>\n",
       "      <td>116736</td>\n",
       "      <td>177831</td>\n",
       "      <td>238384</td>\n",
       "      <td>1.4904e+06</td>\n",
       "    </tr>\n",
       "    <tr>\n",
       "      <th>Education</th>\n",
       "      <td>16281</td>\n",
       "      <td>16</td>\n",
       "      <td>HS-grad</td>\n",
       "      <td>5283</td>\n",
       "      <td>NaN</td>\n",
       "      <td>NaN</td>\n",
       "      <td>NaN</td>\n",
       "      <td>NaN</td>\n",
       "      <td>NaN</td>\n",
       "      <td>NaN</td>\n",
       "      <td>NaN</td>\n",
       "    </tr>\n",
       "    <tr>\n",
       "      <th>Education_Num</th>\n",
       "      <td>16281</td>\n",
       "      <td>NaN</td>\n",
       "      <td>NaN</td>\n",
       "      <td>NaN</td>\n",
       "      <td>10.0729</td>\n",
       "      <td>2.56755</td>\n",
       "      <td>1</td>\n",
       "      <td>9</td>\n",
       "      <td>10</td>\n",
       "      <td>12</td>\n",
       "      <td>16</td>\n",
       "    </tr>\n",
       "    <tr>\n",
       "      <th>Martial_Status</th>\n",
       "      <td>16281</td>\n",
       "      <td>7</td>\n",
       "      <td>Married-civ-spouse</td>\n",
       "      <td>7403</td>\n",
       "      <td>NaN</td>\n",
       "      <td>NaN</td>\n",
       "      <td>NaN</td>\n",
       "      <td>NaN</td>\n",
       "      <td>NaN</td>\n",
       "      <td>NaN</td>\n",
       "      <td>NaN</td>\n",
       "    </tr>\n",
       "    <tr>\n",
       "      <th>Occupation</th>\n",
       "      <td>15315</td>\n",
       "      <td>14</td>\n",
       "      <td>Prof-specialty</td>\n",
       "      <td>2032</td>\n",
       "      <td>NaN</td>\n",
       "      <td>NaN</td>\n",
       "      <td>NaN</td>\n",
       "      <td>NaN</td>\n",
       "      <td>NaN</td>\n",
       "      <td>NaN</td>\n",
       "      <td>NaN</td>\n",
       "    </tr>\n",
       "    <tr>\n",
       "      <th>Relationship</th>\n",
       "      <td>16281</td>\n",
       "      <td>6</td>\n",
       "      <td>Husband</td>\n",
       "      <td>6523</td>\n",
       "      <td>NaN</td>\n",
       "      <td>NaN</td>\n",
       "      <td>NaN</td>\n",
       "      <td>NaN</td>\n",
       "      <td>NaN</td>\n",
       "      <td>NaN</td>\n",
       "      <td>NaN</td>\n",
       "    </tr>\n",
       "    <tr>\n",
       "      <th>Race</th>\n",
       "      <td>16281</td>\n",
       "      <td>5</td>\n",
       "      <td>White</td>\n",
       "      <td>13946</td>\n",
       "      <td>NaN</td>\n",
       "      <td>NaN</td>\n",
       "      <td>NaN</td>\n",
       "      <td>NaN</td>\n",
       "      <td>NaN</td>\n",
       "      <td>NaN</td>\n",
       "      <td>NaN</td>\n",
       "    </tr>\n",
       "    <tr>\n",
       "      <th>Sex</th>\n",
       "      <td>16281</td>\n",
       "      <td>2</td>\n",
       "      <td>Male</td>\n",
       "      <td>10860</td>\n",
       "      <td>NaN</td>\n",
       "      <td>NaN</td>\n",
       "      <td>NaN</td>\n",
       "      <td>NaN</td>\n",
       "      <td>NaN</td>\n",
       "      <td>NaN</td>\n",
       "      <td>NaN</td>\n",
       "    </tr>\n",
       "    <tr>\n",
       "      <th>Capital_Gain</th>\n",
       "      <td>16281</td>\n",
       "      <td>NaN</td>\n",
       "      <td>NaN</td>\n",
       "      <td>NaN</td>\n",
       "      <td>1081.91</td>\n",
       "      <td>7583.94</td>\n",
       "      <td>0</td>\n",
       "      <td>0</td>\n",
       "      <td>0</td>\n",
       "      <td>0</td>\n",
       "      <td>99999</td>\n",
       "    </tr>\n",
       "    <tr>\n",
       "      <th>Capital_Loss</th>\n",
       "      <td>16281</td>\n",
       "      <td>NaN</td>\n",
       "      <td>NaN</td>\n",
       "      <td>NaN</td>\n",
       "      <td>87.8993</td>\n",
       "      <td>403.105</td>\n",
       "      <td>0</td>\n",
       "      <td>0</td>\n",
       "      <td>0</td>\n",
       "      <td>0</td>\n",
       "      <td>3770</td>\n",
       "    </tr>\n",
       "    <tr>\n",
       "      <th>Hours_per_week</th>\n",
       "      <td>16281</td>\n",
       "      <td>NaN</td>\n",
       "      <td>NaN</td>\n",
       "      <td>NaN</td>\n",
       "      <td>40.3922</td>\n",
       "      <td>12.4793</td>\n",
       "      <td>1</td>\n",
       "      <td>40</td>\n",
       "      <td>40</td>\n",
       "      <td>45</td>\n",
       "      <td>99</td>\n",
       "    </tr>\n",
       "    <tr>\n",
       "      <th>Country</th>\n",
       "      <td>16007</td>\n",
       "      <td>40</td>\n",
       "      <td>United-States</td>\n",
       "      <td>14662</td>\n",
       "      <td>NaN</td>\n",
       "      <td>NaN</td>\n",
       "      <td>NaN</td>\n",
       "      <td>NaN</td>\n",
       "      <td>NaN</td>\n",
       "      <td>NaN</td>\n",
       "      <td>NaN</td>\n",
       "    </tr>\n",
       "    <tr>\n",
       "      <th>Target</th>\n",
       "      <td>16281</td>\n",
       "      <td>NaN</td>\n",
       "      <td>NaN</td>\n",
       "      <td>NaN</td>\n",
       "      <td>0.236226</td>\n",
       "      <td>0.424776</td>\n",
       "      <td>0</td>\n",
       "      <td>0</td>\n",
       "      <td>0</td>\n",
       "      <td>0</td>\n",
       "      <td>1</td>\n",
       "    </tr>\n",
       "  </tbody>\n",
       "</table>\n",
       "</div>"
      ],
      "text/plain": [
       "                count unique                  top   freq      mean       std  \\\n",
       "Age             16281     73                   35    461       NaN       NaN   \n",
       "Workclass       15318      8              Private  11210       NaN       NaN   \n",
       "fnlwgt          16281    NaN                  NaN    NaN    189436    105715   \n",
       "Education       16281     16              HS-grad   5283       NaN       NaN   \n",
       "Education_Num   16281    NaN                  NaN    NaN   10.0729   2.56755   \n",
       "Martial_Status  16281      7   Married-civ-spouse   7403       NaN       NaN   \n",
       "Occupation      15315     14       Prof-specialty   2032       NaN       NaN   \n",
       "Relationship    16281      6              Husband   6523       NaN       NaN   \n",
       "Race            16281      5                White  13946       NaN       NaN   \n",
       "Sex             16281      2                 Male  10860       NaN       NaN   \n",
       "Capital_Gain    16281    NaN                  NaN    NaN   1081.91   7583.94   \n",
       "Capital_Loss    16281    NaN                  NaN    NaN   87.8993   403.105   \n",
       "Hours_per_week  16281    NaN                  NaN    NaN   40.3922   12.4793   \n",
       "Country         16007     40        United-States  14662       NaN       NaN   \n",
       "Target          16281    NaN                  NaN    NaN  0.236226  0.424776   \n",
       "\n",
       "                  min     25%     50%     75%         max  \n",
       "Age               NaN     NaN     NaN     NaN         NaN  \n",
       "Workclass         NaN     NaN     NaN     NaN         NaN  \n",
       "fnlwgt          13492  116736  177831  238384  1.4904e+06  \n",
       "Education         NaN     NaN     NaN     NaN         NaN  \n",
       "Education_Num       1       9      10      12          16  \n",
       "Martial_Status    NaN     NaN     NaN     NaN         NaN  \n",
       "Occupation        NaN     NaN     NaN     NaN         NaN  \n",
       "Relationship      NaN     NaN     NaN     NaN         NaN  \n",
       "Race              NaN     NaN     NaN     NaN         NaN  \n",
       "Sex               NaN     NaN     NaN     NaN         NaN  \n",
       "Capital_Gain        0       0       0       0       99999  \n",
       "Capital_Loss        0       0       0       0        3770  \n",
       "Hours_per_week      1      40      40      45          99  \n",
       "Country           NaN     NaN     NaN     NaN         NaN  \n",
       "Target              0       0       0       0           1  "
      ]
     },
     "execution_count": 25,
     "metadata": {},
     "output_type": "execute_result"
    }
   ],
   "source": [
    "data_test.describe(include='all').T"
   ]
  },
  {
   "cell_type": "code",
   "execution_count": 26,
   "metadata": {},
   "outputs": [
    {
     "data": {
      "text/plain": [
       "0    24720\n",
       "1     7841\n",
       "Name: Target, dtype: int64"
      ]
     },
     "execution_count": 26,
     "metadata": {},
     "output_type": "execute_result"
    }
   ],
   "source": [
    "data_train['Target'].value_counts()"
   ]
  },
  {
   "cell_type": "code",
   "execution_count": 27,
   "metadata": {},
   "outputs": [
    {
     "data": {
      "image/png": "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\n",
      "text/plain": [
       "<Figure size 1800x1080 with 15 Axes>"
      ]
     },
     "metadata": {
      "needs_background": "light"
     },
     "output_type": "display_data"
    }
   ],
   "source": [
    "fig = plt.figure(figsize=(25, 15))\n",
    "cols = 5\n",
    "rows = np.ceil(float(data_train.shape[1]) / cols)\n",
    "for i, column in enumerate(data_train.columns):\n",
    "    ax = fig.add_subplot(rows, cols, i + 1)\n",
    "    ax.set_title(column)\n",
    "    if data_train.dtypes[column] == np.object:\n",
    "        data_train[column].value_counts().plot(kind=\"bar\", axes=ax)\n",
    "    else:\n",
    "        data_train[column].hist(axes=ax)\n",
    "        plt.xticks(rotation=\"vertical\")\n",
    "plt.subplots_adjust(hspace=0.7, wspace=0.2)"
   ]
  },
  {
   "cell_type": "markdown",
   "metadata": {},
   "source": [
    "#### Checking data types"
   ]
  },
  {
   "cell_type": "code",
   "execution_count": 28,
   "metadata": {},
   "outputs": [
    {
     "data": {
      "text/plain": [
       "Age                int64\n",
       "Workclass         object\n",
       "fnlwgt             int64\n",
       "Education         object\n",
       "Education_Num      int64\n",
       "Martial_Status    object\n",
       "Occupation        object\n",
       "Relationship      object\n",
       "Race              object\n",
       "Sex               object\n",
       "Capital_Gain       int64\n",
       "Capital_Loss       int64\n",
       "Hours_per_week     int64\n",
       "Country           object\n",
       "Target             int64\n",
       "dtype: object"
      ]
     },
     "execution_count": 28,
     "metadata": {},
     "output_type": "execute_result"
    }
   ],
   "source": [
    "data_train.dtypes"
   ]
  },
  {
   "cell_type": "code",
   "execution_count": 29,
   "metadata": {},
   "outputs": [
    {
     "data": {
      "text/plain": [
       "Age                object\n",
       "Workclass          object\n",
       "fnlwgt            float64\n",
       "Education          object\n",
       "Education_Num     float64\n",
       "Martial_Status     object\n",
       "Occupation         object\n",
       "Relationship       object\n",
       "Race               object\n",
       "Sex                object\n",
       "Capital_Gain      float64\n",
       "Capital_Loss      float64\n",
       "Hours_per_week    float64\n",
       "Country            object\n",
       "Target              int64\n",
       "dtype: object"
      ]
     },
     "execution_count": 29,
     "metadata": {},
     "output_type": "execute_result"
    }
   ],
   "source": [
    "data_test.dtypes"
   ]
  },
  {
   "cell_type": "markdown",
   "metadata": {},
   "source": [
    "As we see, in the test data, age is treated as type **object**. We need to fix this."
   ]
  },
  {
   "cell_type": "code",
   "execution_count": 30,
   "metadata": {},
   "outputs": [],
   "source": [
    "data_test['Age'] = data_test['Age'].astype(int)"
   ]
  },
  {
   "cell_type": "markdown",
   "metadata": {},
   "source": [
    "Also we'll cast all **float** features to **int** type to keep types consistent between our train and test data."
   ]
  },
  {
   "cell_type": "code",
   "execution_count": 31,
   "metadata": {},
   "outputs": [],
   "source": [
    "data_test['fnlwgt'] = data_test['fnlwgt'].astype(int)\n",
    "data_test['Education_Num'] = data_test['Education_Num'].astype(int)\n",
    "data_test['Capital_Gain'] = data_test['Capital_Gain'].astype(int)\n",
    "data_test['Capital_Loss'] = data_test['Capital_Loss'].astype(int)\n",
    "data_test['Hours_per_week'] = data_test['Hours_per_week'].astype(int)"
   ]
  },
  {
   "cell_type": "markdown",
   "metadata": {},
   "source": [
    "#### Fill in missing data for continuous features with their median values, for categorical features with their mode."
   ]
  },
  {
   "cell_type": "code",
   "execution_count": 32,
   "metadata": {},
   "outputs": [
    {
     "name": "stdout",
     "output_type": "stream",
     "text": [
      "<class 'pandas.core.frame.DataFrame'>\n",
      "RangeIndex: 32561 entries, 0 to 32560\n",
      "Data columns (total 15 columns):\n",
      "Age               32561 non-null int64\n",
      "Workclass         30725 non-null object\n",
      "fnlwgt            32561 non-null int64\n",
      "Education         32561 non-null object\n",
      "Education_Num     32561 non-null int64\n",
      "Martial_Status    32561 non-null object\n",
      "Occupation        30718 non-null object\n",
      "Relationship      32561 non-null object\n",
      "Race              32561 non-null object\n",
      "Sex               32561 non-null object\n",
      "Capital_Gain      32561 non-null int64\n",
      "Capital_Loss      32561 non-null int64\n",
      "Hours_per_week    32561 non-null int64\n",
      "Country           31978 non-null object\n",
      "Target            32561 non-null int64\n",
      "dtypes: int64(7), object(8)\n",
      "memory usage: 3.7+ MB\n"
     ]
    }
   ],
   "source": [
    "# we see some missing values\n",
    "data_train.info()"
   ]
  },
  {
   "cell_type": "code",
   "execution_count": 33,
   "metadata": {},
   "outputs": [
    {
     "name": "stdout",
     "output_type": "stream",
     "text": [
      "categorical_columns: ['Workclass', 'Education', 'Martial_Status', 'Occupation', 'Relationship', 'Race', 'Sex', 'Country']\n",
      "numerical_columns: ['Age', 'fnlwgt', 'Education_Num', 'Capital_Gain', 'Capital_Loss', 'Hours_per_week', 'Target']\n"
     ]
    }
   ],
   "source": [
    "# choose categorical and continuous features from data\n",
    "\n",
    "categorical_columns = [c for c in data_train.columns \n",
    "                       if data_train[c].dtype.name == 'object']\n",
    "numerical_columns = [c for c in data_train.columns \n",
    "                     if data_train[c].dtype.name != 'object']\n",
    "\n",
    "print('categorical_columns:', categorical_columns)\n",
    "print('numerical_columns:', numerical_columns)"
   ]
  },
  {
   "cell_type": "code",
   "execution_count": 34,
   "metadata": {},
   "outputs": [],
   "source": [
    "# fill missing data\n",
    "\n",
    "for c in categorical_columns:\n",
    "    data_train[c].fillna(data_train[c].mode()[0], inplace=True)\n",
    "    data_test[c].fillna(data_train[c].mode()[0], inplace=True)\n",
    "    \n",
    "for c in numerical_columns:\n",
    "    data_train[c].fillna(data_train[c].median(), inplace=True)\n",
    "    data_test[c].fillna(data_train[c].median(), inplace=True)"
   ]
  },
  {
   "cell_type": "code",
   "execution_count": 35,
   "metadata": {},
   "outputs": [
    {
     "name": "stdout",
     "output_type": "stream",
     "text": [
      "<class 'pandas.core.frame.DataFrame'>\n",
      "RangeIndex: 32561 entries, 0 to 32560\n",
      "Data columns (total 15 columns):\n",
      "Age               32561 non-null int64\n",
      "Workclass         32561 non-null object\n",
      "fnlwgt            32561 non-null int64\n",
      "Education         32561 non-null object\n",
      "Education_Num     32561 non-null int64\n",
      "Martial_Status    32561 non-null object\n",
      "Occupation        32561 non-null object\n",
      "Relationship      32561 non-null object\n",
      "Race              32561 non-null object\n",
      "Sex               32561 non-null object\n",
      "Capital_Gain      32561 non-null int64\n",
      "Capital_Loss      32561 non-null int64\n",
      "Hours_per_week    32561 non-null int64\n",
      "Country           32561 non-null object\n",
      "Target            32561 non-null int64\n",
      "dtypes: int64(7), object(8)\n",
      "memory usage: 3.7+ MB\n"
     ]
    }
   ],
   "source": [
    "# no more missing values\n",
    "data_train.info()"
   ]
  },
  {
   "cell_type": "markdown",
   "metadata": {},
   "source": [
    "We'll dummy code some categorical features: **Workclass**, **Education**, **Martial_Status**, **Occupation**, **Relationship**, **Race**, **Sex**, **Country**. It can be done via pandas method **get_dummies**"
   ]
  },
  {
   "cell_type": "code",
   "execution_count": 36,
   "metadata": {},
   "outputs": [],
   "source": [
    "data_train = pd.concat([data_train[numerical_columns],\n",
    "    pd.get_dummies(data_train[categorical_columns])], axis=1)\n",
    "\n",
    "data_test = pd.concat([data_test[numerical_columns],\n",
    "    pd.get_dummies(data_test[categorical_columns])], axis=1)"
   ]
  },
  {
   "cell_type": "code",
   "execution_count": 37,
   "metadata": {},
   "outputs": [
    {
     "data": {
      "text/plain": [
       "{'Country_ Holand-Netherlands'}"
      ]
     },
     "execution_count": 37,
     "metadata": {},
     "output_type": "execute_result"
    }
   ],
   "source": [
    "set(data_train.columns) - set(data_test.columns)"
   ]
  },
  {
   "cell_type": "code",
   "execution_count": 38,
   "metadata": {},
   "outputs": [
    {
     "data": {
      "text/plain": [
       "((32561, 106), (16281, 105))"
      ]
     },
     "execution_count": 38,
     "metadata": {},
     "output_type": "execute_result"
    }
   ],
   "source": [
    "data_train.shape, data_test.shape"
   ]
  },
  {
   "cell_type": "markdown",
   "metadata": {},
   "source": [
    "#### There is no Holland in the test data. Create new zero-valued feature."
   ]
  },
  {
   "cell_type": "code",
   "execution_count": 39,
   "metadata": {},
   "outputs": [],
   "source": [
    "data_test['Country_ Holand-Netherlands'] = 0"
   ]
  },
  {
   "cell_type": "code",
   "execution_count": 40,
   "metadata": {},
   "outputs": [
    {
     "data": {
      "text/plain": [
       "set()"
      ]
     },
     "execution_count": 40,
     "metadata": {},
     "output_type": "execute_result"
    }
   ],
   "source": [
    "set(data_train.columns) - set(data_test.columns)"
   ]
  },
  {
   "cell_type": "code",
   "execution_count": 41,
   "metadata": {},
   "outputs": [
    {
     "data": {
      "text/html": [
       "<div>\n",
       "<style scoped>\n",
       "    .dataframe tbody tr th:only-of-type {\n",
       "        vertical-align: middle;\n",
       "    }\n",
       "\n",
       "    .dataframe tbody tr th {\n",
       "        vertical-align: top;\n",
       "    }\n",
       "\n",
       "    .dataframe thead th {\n",
       "        text-align: right;\n",
       "    }\n",
       "</style>\n",
       "<table border=\"1\" class=\"dataframe\">\n",
       "  <thead>\n",
       "    <tr style=\"text-align: right;\">\n",
       "      <th></th>\n",
       "      <th>Age</th>\n",
       "      <th>fnlwgt</th>\n",
       "      <th>Education_Num</th>\n",
       "      <th>Capital_Gain</th>\n",
       "      <th>Capital_Loss</th>\n",
       "      <th>Hours_per_week</th>\n",
       "      <th>Target</th>\n",
       "      <th>Workclass_ Federal-gov</th>\n",
       "      <th>Workclass_ Local-gov</th>\n",
       "      <th>Workclass_ Never-worked</th>\n",
       "      <th>...</th>\n",
       "      <th>Country_ Portugal</th>\n",
       "      <th>Country_ Puerto-Rico</th>\n",
       "      <th>Country_ Scotland</th>\n",
       "      <th>Country_ South</th>\n",
       "      <th>Country_ Taiwan</th>\n",
       "      <th>Country_ Thailand</th>\n",
       "      <th>Country_ Trinadad&amp;Tobago</th>\n",
       "      <th>Country_ United-States</th>\n",
       "      <th>Country_ Vietnam</th>\n",
       "      <th>Country_ Yugoslavia</th>\n",
       "    </tr>\n",
       "  </thead>\n",
       "  <tbody>\n",
       "    <tr>\n",
       "      <th>0</th>\n",
       "      <td>39</td>\n",
       "      <td>77516</td>\n",
       "      <td>13</td>\n",
       "      <td>2174</td>\n",
       "      <td>0</td>\n",
       "      <td>40</td>\n",
       "      <td>0</td>\n",
       "      <td>0</td>\n",
       "      <td>0</td>\n",
       "      <td>0</td>\n",
       "      <td>...</td>\n",
       "      <td>0</td>\n",
       "      <td>0</td>\n",
       "      <td>0</td>\n",
       "      <td>0</td>\n",
       "      <td>0</td>\n",
       "      <td>0</td>\n",
       "      <td>0</td>\n",
       "      <td>1</td>\n",
       "      <td>0</td>\n",
       "      <td>0</td>\n",
       "    </tr>\n",
       "    <tr>\n",
       "      <th>1</th>\n",
       "      <td>50</td>\n",
       "      <td>83311</td>\n",
       "      <td>13</td>\n",
       "      <td>0</td>\n",
       "      <td>0</td>\n",
       "      <td>13</td>\n",
       "      <td>0</td>\n",
       "      <td>0</td>\n",
       "      <td>0</td>\n",
       "      <td>0</td>\n",
       "      <td>...</td>\n",
       "      <td>0</td>\n",
       "      <td>0</td>\n",
       "      <td>0</td>\n",
       "      <td>0</td>\n",
       "      <td>0</td>\n",
       "      <td>0</td>\n",
       "      <td>0</td>\n",
       "      <td>1</td>\n",
       "      <td>0</td>\n",
       "      <td>0</td>\n",
       "    </tr>\n",
       "  </tbody>\n",
       "</table>\n",
       "<p>2 rows × 106 columns</p>\n",
       "</div>"
      ],
      "text/plain": [
       "   Age  fnlwgt  Education_Num  Capital_Gain  Capital_Loss  Hours_per_week  \\\n",
       "0   39   77516             13          2174             0              40   \n",
       "1   50   83311             13             0             0              13   \n",
       "\n",
       "   Target  Workclass_ Federal-gov  Workclass_ Local-gov  \\\n",
       "0       0                       0                     0   \n",
       "1       0                       0                     0   \n",
       "\n",
       "   Workclass_ Never-worked  ...  Country_ Portugal  Country_ Puerto-Rico  \\\n",
       "0                        0  ...                  0                     0   \n",
       "1                        0  ...                  0                     0   \n",
       "\n",
       "   Country_ Scotland  Country_ South  Country_ Taiwan  Country_ Thailand  \\\n",
       "0                  0               0                0                  0   \n",
       "1                  0               0                0                  0   \n",
       "\n",
       "   Country_ Trinadad&Tobago  Country_ United-States  Country_ Vietnam  \\\n",
       "0                         0                       1                 0   \n",
       "1                         0                       1                 0   \n",
       "\n",
       "   Country_ Yugoslavia  \n",
       "0                    0  \n",
       "1                    0  \n",
       "\n",
       "[2 rows x 106 columns]"
      ]
     },
     "execution_count": 41,
     "metadata": {},
     "output_type": "execute_result"
    }
   ],
   "source": [
    "data_train.head(2)"
   ]
  },
  {
   "cell_type": "code",
   "execution_count": 42,
   "metadata": {},
   "outputs": [
    {
     "data": {
      "text/html": [
       "<div>\n",
       "<style scoped>\n",
       "    .dataframe tbody tr th:only-of-type {\n",
       "        vertical-align: middle;\n",
       "    }\n",
       "\n",
       "    .dataframe tbody tr th {\n",
       "        vertical-align: top;\n",
       "    }\n",
       "\n",
       "    .dataframe thead th {\n",
       "        text-align: right;\n",
       "    }\n",
       "</style>\n",
       "<table border=\"1\" class=\"dataframe\">\n",
       "  <thead>\n",
       "    <tr style=\"text-align: right;\">\n",
       "      <th></th>\n",
       "      <th>Age</th>\n",
       "      <th>fnlwgt</th>\n",
       "      <th>Education_Num</th>\n",
       "      <th>Capital_Gain</th>\n",
       "      <th>Capital_Loss</th>\n",
       "      <th>Hours_per_week</th>\n",
       "      <th>Target</th>\n",
       "      <th>Workclass_ Federal-gov</th>\n",
       "      <th>Workclass_ Local-gov</th>\n",
       "      <th>Workclass_ Never-worked</th>\n",
       "      <th>...</th>\n",
       "      <th>Country_ Puerto-Rico</th>\n",
       "      <th>Country_ Scotland</th>\n",
       "      <th>Country_ South</th>\n",
       "      <th>Country_ Taiwan</th>\n",
       "      <th>Country_ Thailand</th>\n",
       "      <th>Country_ Trinadad&amp;Tobago</th>\n",
       "      <th>Country_ United-States</th>\n",
       "      <th>Country_ Vietnam</th>\n",
       "      <th>Country_ Yugoslavia</th>\n",
       "      <th>Country_ Holand-Netherlands</th>\n",
       "    </tr>\n",
       "  </thead>\n",
       "  <tbody>\n",
       "    <tr>\n",
       "      <th>1</th>\n",
       "      <td>25</td>\n",
       "      <td>226802</td>\n",
       "      <td>7</td>\n",
       "      <td>0</td>\n",
       "      <td>0</td>\n",
       "      <td>40</td>\n",
       "      <td>0</td>\n",
       "      <td>0</td>\n",
       "      <td>0</td>\n",
       "      <td>0</td>\n",
       "      <td>...</td>\n",
       "      <td>0</td>\n",
       "      <td>0</td>\n",
       "      <td>0</td>\n",
       "      <td>0</td>\n",
       "      <td>0</td>\n",
       "      <td>0</td>\n",
       "      <td>1</td>\n",
       "      <td>0</td>\n",
       "      <td>0</td>\n",
       "      <td>0</td>\n",
       "    </tr>\n",
       "    <tr>\n",
       "      <th>2</th>\n",
       "      <td>38</td>\n",
       "      <td>89814</td>\n",
       "      <td>9</td>\n",
       "      <td>0</td>\n",
       "      <td>0</td>\n",
       "      <td>50</td>\n",
       "      <td>0</td>\n",
       "      <td>0</td>\n",
       "      <td>0</td>\n",
       "      <td>0</td>\n",
       "      <td>...</td>\n",
       "      <td>0</td>\n",
       "      <td>0</td>\n",
       "      <td>0</td>\n",
       "      <td>0</td>\n",
       "      <td>0</td>\n",
       "      <td>0</td>\n",
       "      <td>1</td>\n",
       "      <td>0</td>\n",
       "      <td>0</td>\n",
       "      <td>0</td>\n",
       "    </tr>\n",
       "  </tbody>\n",
       "</table>\n",
       "<p>2 rows × 106 columns</p>\n",
       "</div>"
      ],
      "text/plain": [
       "   Age  fnlwgt  Education_Num  Capital_Gain  Capital_Loss  Hours_per_week  \\\n",
       "1   25  226802              7             0             0              40   \n",
       "2   38   89814              9             0             0              50   \n",
       "\n",
       "   Target  Workclass_ Federal-gov  Workclass_ Local-gov  \\\n",
       "1       0                       0                     0   \n",
       "2       0                       0                     0   \n",
       "\n",
       "   Workclass_ Never-worked  ...  Country_ Puerto-Rico  Country_ Scotland  \\\n",
       "1                        0  ...                     0                  0   \n",
       "2                        0  ...                     0                  0   \n",
       "\n",
       "   Country_ South  Country_ Taiwan  Country_ Thailand  \\\n",
       "1               0                0                  0   \n",
       "2               0                0                  0   \n",
       "\n",
       "   Country_ Trinadad&Tobago  Country_ United-States  Country_ Vietnam  \\\n",
       "1                         0                       1                 0   \n",
       "2                         0                       1                 0   \n",
       "\n",
       "   Country_ Yugoslavia  Country_ Holand-Netherlands  \n",
       "1                    0                            0  \n",
       "2                    0                            0  \n",
       "\n",
       "[2 rows x 106 columns]"
      ]
     },
     "execution_count": 42,
     "metadata": {},
     "output_type": "execute_result"
    }
   ],
   "source": [
    "data_test.head(2)"
   ]
  },
  {
   "cell_type": "code",
   "execution_count": 43,
   "metadata": {},
   "outputs": [],
   "source": [
    "X_train = data_train.drop(['Target'], axis=1)\n",
    "y_train = data_train['Target']\n",
    "\n",
    "X_test = data_test.drop(['Target'], axis=1)\n",
    "y_test = data_test['Target']"
   ]
  },
  {
   "cell_type": "markdown",
   "metadata": {},
   "source": [
    "### 3.1 Decision tree without parameter tuning"
   ]
  },
  {
   "cell_type": "markdown",
   "metadata": {},
   "source": [
    "Train a decision tree **(DecisionTreeClassifier)** with a maximum depth of 3, and evaluate the accuracy metric on the test data. Use parameter **random_state = 17** for results reproducibility."
   ]
  },
  {
   "cell_type": "code",
   "execution_count": 44,
   "metadata": {},
   "outputs": [
    {
     "data": {
      "text/plain": [
       "DecisionTreeClassifier(class_weight=None, criterion='gini', max_depth=3,\n",
       "                       max_features=None, max_leaf_nodes=None,\n",
       "                       min_impurity_decrease=0.0, min_impurity_split=None,\n",
       "                       min_samples_leaf=1, min_samples_split=2,\n",
       "                       min_weight_fraction_leaf=0.0, presort=False,\n",
       "                       random_state=17, splitter='best')"
      ]
     },
     "execution_count": 44,
     "metadata": {},
     "output_type": "execute_result"
    }
   ],
   "source": [
    "tree = DecisionTreeClassifier(max_depth=3, random_state=17)\n",
    "tree.fit(X_train, y_train)"
   ]
  },
  {
   "cell_type": "markdown",
   "metadata": {},
   "source": [
    "Make a prediction with the trained model on the test data."
   ]
  },
  {
   "cell_type": "code",
   "execution_count": 45,
   "metadata": {},
   "outputs": [],
   "source": [
    "tree_predictions = tree.predict(X_test) "
   ]
  },
  {
   "cell_type": "code",
   "execution_count": 46,
   "metadata": {},
   "outputs": [
    {
     "data": {
      "text/plain": [
       "0.8447884036607088"
      ]
     },
     "execution_count": 46,
     "metadata": {},
     "output_type": "execute_result"
    }
   ],
   "source": [
    "accuracy_score(y_test, tree_predictions)"
   ]
  },
  {
   "cell_type": "markdown",
   "metadata": {},
   "source": [
    "6\\. What is the test set accuracy of a decision tree with maximum tree depth of 3 and **random_state = 17**?"
   ]
  },
  {
   "cell_type": "markdown",
   "metadata": {},
   "source": [
    "### 3.2 Decision tree with parameter tuning"
   ]
  },
  {
   "cell_type": "markdown",
   "metadata": {},
   "source": [
    "Train a decision tree **(DecisionTreeClassifier, random_state = 17).** Find the optimal maximum depth using 5-fold cross-validation **(GridSearchCV)**."
   ]
  },
  {
   "cell_type": "code",
   "execution_count": 47,
   "metadata": {},
   "outputs": [
    {
     "name": "stdout",
     "output_type": "stream",
     "text": [
      "CPU times: user 21.8 s, sys: 860 ms, total: 22.7 s\n",
      "Wall time: 5.99 s\n"
     ]
    },
    {
     "data": {
      "text/plain": [
       "GridSearchCV(cv=5, error_score='raise-deprecating',\n",
       "             estimator=DecisionTreeClassifier(class_weight=None,\n",
       "                                              criterion='gini', max_depth=None,\n",
       "                                              max_features=None,\n",
       "                                              max_leaf_nodes=None,\n",
       "                                              min_impurity_decrease=0.0,\n",
       "                                              min_impurity_split=None,\n",
       "                                              min_samples_leaf=1,\n",
       "                                              min_samples_split=2,\n",
       "                                              min_weight_fraction_leaf=0.0,\n",
       "                                              presort=False, random_state=17,\n",
       "                                              splitter='best'),\n",
       "             iid='warn', n_jobs=None, param_grid={'max_depth': range(2, 11)},\n",
       "             pre_dispatch='2*n_jobs', refit=True, return_train_score=False,\n",
       "             scoring=None, verbose=0)"
      ]
     },
     "execution_count": 47,
     "metadata": {},
     "output_type": "execute_result"
    }
   ],
   "source": [
    "%%time\n",
    "tree_params = {'max_depth': range(2, 11)}\n",
    "\n",
    "locally_best_tree = GridSearchCV(DecisionTreeClassifier(random_state=17),\n",
    "                                 tree_params, cv=5)                  \n",
    "\n",
    "locally_best_tree.fit(X_train, y_train)"
   ]
  },
  {
   "cell_type": "code",
   "execution_count": 48,
   "metadata": {},
   "outputs": [
    {
     "name": "stdout",
     "output_type": "stream",
     "text": [
      "Best params: {'max_depth': 9}\n",
      "Best cross validaton score 0.8565768864592611\n"
     ]
    }
   ],
   "source": [
    "print(\"Best params:\", locally_best_tree.best_params_)\n",
    "print(\"Best cross validaton score\", locally_best_tree.best_score_)"
   ]
  },
  {
   "cell_type": "markdown",
   "metadata": {},
   "source": [
    "Train a decision tree with maximum depth of 9 (it is the best **max_depth** in my case), and compute the test set accuracy. Use parameter **random_state = 17** for reproducibility."
   ]
  },
  {
   "cell_type": "code",
   "execution_count": 49,
   "metadata": {},
   "outputs": [
    {
     "data": {
      "text/plain": [
       "0.847798046803022"
      ]
     },
     "execution_count": 49,
     "metadata": {},
     "output_type": "execute_result"
    }
   ],
   "source": [
    "tuned_tree = DecisionTreeClassifier(max_depth=9, random_state=17)\n",
    "tuned_tree.fit(X_train, y_train)\n",
    "tuned_tree_predictions = tuned_tree.predict(X_test)\n",
    "accuracy_score(y_test, tuned_tree_predictions)"
   ]
  },
  {
   "cell_type": "markdown",
   "metadata": {},
   "source": [
    "7\\. What is the test set accuracy of a decision tree with maximum depth of 9 and **random_state = 17**?"
   ]
  },
  {
   "cell_type": "markdown",
   "metadata": {},
   "source": [
    "<font color='red'>Answer:</font> 0.848"
   ]
  },
  {
   "cell_type": "markdown",
   "metadata": {},
   "source": [
    "### 3.3 (Optional) Random forest without parameter tuning"
   ]
  },
  {
   "cell_type": "markdown",
   "metadata": {},
   "source": [
    "Let's take a sneak peek of upcoming lectures and try to use a random forest for our task. For now, you can imagine a random forest as a bunch of decision trees, trained on slightly different subsets of the training data."
   ]
  },
  {
   "cell_type": "markdown",
   "metadata": {},
   "source": [
    "Train a random forest **(RandomForestClassifier)**. Set the number of trees to 100 and use **random_state = 17**."
   ]
  },
  {
   "cell_type": "code",
   "execution_count": 50,
   "metadata": {},
   "outputs": [
    {
     "data": {
      "text/plain": [
       "RandomForestClassifier(bootstrap=True, class_weight=None, criterion='gini',\n",
       "                       max_depth=None, max_features='auto', max_leaf_nodes=None,\n",
       "                       min_impurity_decrease=0.0, min_impurity_split=None,\n",
       "                       min_samples_leaf=1, min_samples_split=2,\n",
       "                       min_weight_fraction_leaf=0.0, n_estimators=100,\n",
       "                       n_jobs=None, oob_score=False, random_state=17, verbose=0,\n",
       "                       warm_start=False)"
      ]
     },
     "execution_count": 50,
     "metadata": {},
     "output_type": "execute_result"
    }
   ],
   "source": [
    "rf = RandomForestClassifier(n_estimators=100, random_state=17)\n",
    "rf.fit(X_train, y_train)"
   ]
  },
  {
   "cell_type": "markdown",
   "metadata": {},
   "source": [
    "Perfrom cross-validation."
   ]
  },
  {
   "cell_type": "code",
   "execution_count": 51,
   "metadata": {},
   "outputs": [
    {
     "name": "stdout",
     "output_type": "stream",
     "text": [
      "CPU times: user 10.7 s, sys: 200 ms, total: 10.9 s\n",
      "Wall time: 9.35 s\n"
     ]
    }
   ],
   "source": [
    "%%time\n",
    "cv_scores = cross_val_score(rf, X_train, y_train, cv=3)"
   ]
  },
  {
   "cell_type": "code",
   "execution_count": 52,
   "metadata": {},
   "outputs": [
    {
     "data": {
      "text/plain": [
       "(array([0.85194398, 0.85572139, 0.859578  ]), 0.8557477912289437)"
      ]
     },
     "execution_count": 52,
     "metadata": {},
     "output_type": "execute_result"
    }
   ],
   "source": [
    "cv_scores, cv_scores.mean()"
   ]
  },
  {
   "cell_type": "markdown",
   "metadata": {},
   "source": [
    "Make predictions for the test data."
   ]
  },
  {
   "cell_type": "code",
   "execution_count": 53,
   "metadata": {},
   "outputs": [],
   "source": [
    "forest_predictions = rf.predict(X_test) "
   ]
  },
  {
   "cell_type": "code",
   "execution_count": 54,
   "metadata": {},
   "outputs": [
    {
     "data": {
      "text/plain": [
       "0.8585467723112831"
      ]
     },
     "execution_count": 54,
     "metadata": {},
     "output_type": "execute_result"
    }
   ],
   "source": [
    "accuracy_score(y_test,forest_predictions)"
   ]
  },
  {
   "cell_type": "markdown",
   "metadata": {},
   "source": [
    "### 3.4 (Optional) Random forest with parameter tuning"
   ]
  },
  {
   "cell_type": "markdown",
   "metadata": {},
   "source": [
    "Train a random forest **(RandomForestClassifier)** of 10 trees. Tune the maximum depth and maximum number of features for each tree using **GridSearchCV**. "
   ]
  },
  {
   "cell_type": "code",
   "execution_count": 55,
   "metadata": {},
   "outputs": [
    {
     "name": "stdout",
     "output_type": "stream",
     "text": [
      "Fitting 3 folds for each of 30 candidates, totalling 90 fits\n"
     ]
    },
    {
     "name": "stderr",
     "output_type": "stream",
     "text": [
      "[Parallel(n_jobs=1)]: Using backend SequentialBackend with 1 concurrent workers.\n",
      "[Parallel(n_jobs=1)]: Done  90 out of  90 | elapsed:   34.2s finished\n"
     ]
    },
    {
     "data": {
      "text/plain": [
       "GridSearchCV(cv=3, error_score='raise-deprecating',\n",
       "             estimator=RandomForestClassifier(bootstrap=True, class_weight=None,\n",
       "                                              criterion='gini', max_depth=None,\n",
       "                                              max_features='auto',\n",
       "                                              max_leaf_nodes=None,\n",
       "                                              min_impurity_decrease=0.0,\n",
       "                                              min_impurity_split=None,\n",
       "                                              min_samples_leaf=1,\n",
       "                                              min_samples_split=2,\n",
       "                                              min_weight_fraction_leaf=0.0,\n",
       "                                              n_estimators=10, n_jobs=-1,\n",
       "                                              oob_score=False, random_state=17,\n",
       "                                              verbose=0, warm_start=False),\n",
       "             iid='warn', n_jobs=None,\n",
       "             param_grid={'max_depth': range(10, 16),\n",
       "                         'max_features': range(5, 105, 20)},\n",
       "             pre_dispatch='2*n_jobs', refit=True, return_train_score=False,\n",
       "             scoring=None, verbose=1)"
      ]
     },
     "execution_count": 55,
     "metadata": {},
     "output_type": "execute_result"
    }
   ],
   "source": [
    "forest_params = {'max_depth': range(10, 16),\n",
    "                 'max_features': range(5, 105, 20)}\n",
    "\n",
    "locally_best_forest = GridSearchCV(\n",
    "    RandomForestClassifier(n_estimators=10, random_state=17,\n",
    "                           n_jobs=-1),\n",
    "    forest_params, cv=3, verbose=1)\n",
    "\n",
    "locally_best_forest.fit(X_train, y_train)"
   ]
  },
  {
   "cell_type": "code",
   "execution_count": 56,
   "metadata": {},
   "outputs": [
    {
     "name": "stdout",
     "output_type": "stream",
     "text": [
      "Best params: {'max_depth': 14, 'max_features': 45}\n",
      "Best cross validaton score 0.8619821258560855\n"
     ]
    }
   ],
   "source": [
    "print(\"Best params:\", locally_best_forest.best_params_)\n",
    "print(\"Best cross validaton score\", locally_best_forest.best_score_)"
   ]
  },
  {
   "cell_type": "markdown",
   "metadata": {},
   "source": [
    "Make predictions for the test data."
   ]
  },
  {
   "cell_type": "code",
   "execution_count": 57,
   "metadata": {},
   "outputs": [
    {
     "data": {
      "text/plain": [
       "0.8611264664332657"
      ]
     },
     "execution_count": 57,
     "metadata": {},
     "output_type": "execute_result"
    }
   ],
   "source": [
    "tuned_forest_predictions = locally_best_forest.predict(X_test) \n",
    "accuracy_score(y_test,tuned_forest_predictions)"
   ]
  },
  {
   "cell_type": "markdown",
   "metadata": {},
   "source": [
    "Wow! Looks that with some tuning we made a forest of 10 trees perform better than a forest of 100 trees with default hyperparameter values. "
   ]
  }
 ],
 "metadata": {
  "kernelspec": {
   "display_name": "Python 3",
   "language": "python",
   "name": "python3"
  },
  "language_info": {
   "codemirror_mode": {
    "name": "ipython",
    "version": 3
   },
   "file_extension": ".py",
   "mimetype": "text/x-python",
   "name": "python",
   "nbconvert_exporter": "python",
   "pygments_lexer": "ipython3",
   "version": "3.7.3"
  }
 },
 "nbformat": 4,
 "nbformat_minor": 2
}
=======
{
 "cells": [
  {
   "cell_type": "markdown",
   "metadata": {},
   "source": [
    "<center>\n",
    "<img src=\"../../img/ods_stickers.jpg\">\n",
    "    \n",
    "## [mlcourse.ai](https://mlcourse.ai) - Open Machine Learning Course\n",
    "\n",
    "Authors: [Maria Sumarokova](https://www.linkedin.com/in/mariya-sumarokova-230b4054/), and [Yury Kashnitsky](https://www.linkedin.com/in/festline/). Translated and edited by Gleb Filatov, Aleksey Kiselev, [Anastasia Manokhina](https://www.linkedin.com/in/anastasiamanokhina/), [Egor Polusmak](https://www.linkedin.com/in/egor-polusmak/), and [Yuanyuan Pao](https://www.linkedin.com/in/yuanyuanpao/). All content is distributed under the [Creative Commons CC BY-NC-SA 4.0](https://creativecommons.org/licenses/by-nc-sa/4.0/) license."
   ]
  },
  {
   "cell_type": "markdown",
   "metadata": {
    "collapsed": true
   },
   "source": [
    "# <center> Assignment #3 (demo). Solution\n",
    "## <center>  Decision trees with a toy task and the UCI Adult dataset \n",
    "\n",
    "Same assignment as a [Kaggle Kernel](https://www.kaggle.com/kashnitsky/a3-demo-decision-trees) + [solution](https://www.kaggle.com/kashnitsky/a3-demo-decision-trees-solution). Fill in the answers in the [web-form](https://docs.google.com/forms/d/1wfWYYoqXTkZNOPy1wpewACXaj2MZjBdLOL58htGWYBA/edit)."
   ]
  },
  {
   "cell_type": "markdown",
   "metadata": {},
   "source": [
    "Let's start by loading all necessary libraries:"
   ]
  },
  {
   "cell_type": "code",
   "execution_count": 1,
   "metadata": {},
   "outputs": [],
   "source": [
    "%matplotlib inline\n",
    "from matplotlib import pyplot as plt\n",
    "plt.rcParams['figure.figsize'] = (10, 8)\n",
    "import seaborn as sns\n",
    "import numpy as np\n",
    "import pandas as pd\n",
    "from sklearn.preprocessing import LabelEncoder\n",
    "import collections\n",
    "from sklearn.model_selection import GridSearchCV, cross_val_score\n",
    "from sklearn import preprocessing\n",
    "from sklearn.tree import DecisionTreeClassifier, export_graphviz\n",
    "from sklearn.ensemble import RandomForestClassifier\n",
    "from sklearn.metrics import accuracy_score\n",
    "from ipywidgets import Image\n",
    "from io import StringIO\n",
    "import pydotplus #pip install pydotplus"
   ]
  },
  {
   "cell_type": "markdown",
   "metadata": {},
   "source": [
    "### Part 1. Toy dataset \"Will They? Won't They?\""
   ]
  },
  {
   "cell_type": "markdown",
   "metadata": {},
   "source": [
    "Your goal is to figure out how decision trees work by walking through a toy problem. While a single decision tree does not yield outstanding results, other performant algorithms like gradient boosting and random forests are based on the same idea. That is why knowing how decision trees work might be useful."
   ]
  },
  {
   "cell_type": "markdown",
   "metadata": {},
   "source": [
    "We'll go through a toy example of binary classification - Person A is deciding whether they will go on a second date with Person B. It will depend on their looks, eloquence, alcohol consumption (only for example), and how much money was spent on the first date."
   ]
  },
  {
   "cell_type": "markdown",
   "metadata": {},
   "source": [
    "#### Creating the dataset"
   ]
  },
  {
   "cell_type": "code",
   "execution_count": 2,
   "metadata": {},
   "outputs": [],
   "source": [
    "# Create dataframe with dummy variables\n",
    "def create_df(dic, feature_list):\n",
    "    out = pd.DataFrame(dic)\n",
    "    out = pd.concat([out, pd.get_dummies(out[feature_list])], axis = 1)\n",
    "    out.drop(feature_list, axis = 1, inplace = True)\n",
    "    return out\n",
    "\n",
    "# Some feature values are present in train and absent in test and vice-versa.\n",
    "def intersect_features(train, test):\n",
    "    common_feat = list( set(train.keys()) & set(test.keys()))\n",
    "    return train[common_feat], test[common_feat]"
   ]
  },
  {
   "cell_type": "code",
   "execution_count": 3,
   "metadata": {},
   "outputs": [],
   "source": [
    "features = ['Looks', 'Alcoholic_beverage','Eloquence','Money_spent']"
   ]
  },
  {
   "cell_type": "markdown",
   "metadata": {},
   "source": [
    "#### Training data"
   ]
  },
  {
   "cell_type": "code",
   "execution_count": 4,
   "metadata": {},
   "outputs": [
    {
     "data": {
      "text/html": [
       "<div>\n",
       "<style scoped>\n",
       "    .dataframe tbody tr th:only-of-type {\n",
       "        vertical-align: middle;\n",
       "    }\n",
       "\n",
       "    .dataframe tbody tr th {\n",
       "        vertical-align: top;\n",
       "    }\n",
       "\n",
       "    .dataframe thead th {\n",
       "        text-align: right;\n",
       "    }\n",
       "</style>\n",
       "<table border=\"1\" class=\"dataframe\">\n",
       "  <thead>\n",
       "    <tr style=\"text-align: right;\">\n",
       "      <th></th>\n",
       "      <th>Will_go</th>\n",
       "      <th>Looks_handsome</th>\n",
       "      <th>Looks_repulsive</th>\n",
       "      <th>Alcoholic_beverage_no</th>\n",
       "      <th>Alcoholic_beverage_yes</th>\n",
       "      <th>Eloquence_average</th>\n",
       "      <th>Eloquence_high</th>\n",
       "      <th>Eloquence_low</th>\n",
       "      <th>Money_spent_little</th>\n",
       "      <th>Money_spent_lots</th>\n",
       "    </tr>\n",
       "  </thead>\n",
       "  <tbody>\n",
       "    <tr>\n",
       "      <th>0</th>\n",
       "      <td>0</td>\n",
       "      <td>1</td>\n",
       "      <td>0</td>\n",
       "      <td>0</td>\n",
       "      <td>1</td>\n",
       "      <td>0</td>\n",
       "      <td>1</td>\n",
       "      <td>0</td>\n",
       "      <td>0</td>\n",
       "      <td>1</td>\n",
       "    </tr>\n",
       "    <tr>\n",
       "      <th>1</th>\n",
       "      <td>1</td>\n",
       "      <td>1</td>\n",
       "      <td>0</td>\n",
       "      <td>0</td>\n",
       "      <td>1</td>\n",
       "      <td>0</td>\n",
       "      <td>0</td>\n",
       "      <td>1</td>\n",
       "      <td>1</td>\n",
       "      <td>0</td>\n",
       "    </tr>\n",
       "    <tr>\n",
       "      <th>2</th>\n",
       "      <td>0</td>\n",
       "      <td>1</td>\n",
       "      <td>0</td>\n",
       "      <td>1</td>\n",
       "      <td>0</td>\n",
       "      <td>1</td>\n",
       "      <td>0</td>\n",
       "      <td>0</td>\n",
       "      <td>0</td>\n",
       "      <td>1</td>\n",
       "    </tr>\n",
       "    <tr>\n",
       "      <th>3</th>\n",
       "      <td>1</td>\n",
       "      <td>0</td>\n",
       "      <td>1</td>\n",
       "      <td>1</td>\n",
       "      <td>0</td>\n",
       "      <td>1</td>\n",
       "      <td>0</td>\n",
       "      <td>0</td>\n",
       "      <td>1</td>\n",
       "      <td>0</td>\n",
       "    </tr>\n",
       "    <tr>\n",
       "      <th>4</th>\n",
       "      <td>1</td>\n",
       "      <td>0</td>\n",
       "      <td>1</td>\n",
       "      <td>0</td>\n",
       "      <td>1</td>\n",
       "      <td>0</td>\n",
       "      <td>0</td>\n",
       "      <td>1</td>\n",
       "      <td>0</td>\n",
       "      <td>1</td>\n",
       "    </tr>\n",
       "    <tr>\n",
       "      <th>5</th>\n",
       "      <td>0</td>\n",
       "      <td>0</td>\n",
       "      <td>1</td>\n",
       "      <td>0</td>\n",
       "      <td>1</td>\n",
       "      <td>0</td>\n",
       "      <td>1</td>\n",
       "      <td>0</td>\n",
       "      <td>0</td>\n",
       "      <td>1</td>\n",
       "    </tr>\n",
       "    <tr>\n",
       "      <th>6</th>\n",
       "      <td>0</td>\n",
       "      <td>1</td>\n",
       "      <td>0</td>\n",
       "      <td>0</td>\n",
       "      <td>1</td>\n",
       "      <td>1</td>\n",
       "      <td>0</td>\n",
       "      <td>0</td>\n",
       "      <td>0</td>\n",
       "      <td>1</td>\n",
       "    </tr>\n",
       "  </tbody>\n",
       "</table>\n",
       "</div>"
      ],
      "text/plain": [
       "   Will_go  Looks_handsome  Looks_repulsive  Alcoholic_beverage_no  \\\n",
       "0        0               1                0                      0   \n",
       "1        1               1                0                      0   \n",
       "2        0               1                0                      1   \n",
       "3        1               0                1                      1   \n",
       "4        1               0                1                      0   \n",
       "5        0               0                1                      0   \n",
       "6        0               1                0                      0   \n",
       "\n",
       "   Alcoholic_beverage_yes  Eloquence_average  Eloquence_high  Eloquence_low  \\\n",
       "0                       1                  0               1              0   \n",
       "1                       1                  0               0              1   \n",
       "2                       0                  1               0              0   \n",
       "3                       0                  1               0              0   \n",
       "4                       1                  0               0              1   \n",
       "5                       1                  0               1              0   \n",
       "6                       1                  1               0              0   \n",
       "\n",
       "   Money_spent_little  Money_spent_lots  \n",
       "0                   0                 1  \n",
       "1                   1                 0  \n",
       "2                   0                 1  \n",
       "3                   1                 0  \n",
       "4                   0                 1  \n",
       "5                   0                 1  \n",
       "6                   0                 1  "
      ]
     },
     "execution_count": 4,
     "metadata": {},
     "output_type": "execute_result"
    }
   ],
   "source": [
    "df_train = {}\n",
    "df_train['Looks'] = ['handsome', 'handsome', 'handsome', 'repulsive',\n",
    "                         'repulsive', 'repulsive', 'handsome'] \n",
    "df_train['Alcoholic_beverage'] = ['yes', 'yes', 'no', 'no', 'yes', 'yes', 'yes']\n",
    "df_train['Eloquence'] = ['high', 'low', 'average', 'average', 'low',\n",
    "                                   'high', 'average']\n",
    "df_train['Money_spent'] = ['lots', 'little', 'lots', 'little', 'lots',\n",
    "                                  'lots', 'lots']\n",
    "df_train['Will_go'] = LabelEncoder().fit_transform(['+', '-', '+', '-', '-', '+', '+'])\n",
    "\n",
    "df_train = create_df(df_train, features)\n",
    "df_train"
   ]
  },
  {
   "cell_type": "markdown",
   "metadata": {},
   "source": [
    "#### Test data"
   ]
  },
  {
   "cell_type": "code",
   "execution_count": 5,
   "metadata": {},
   "outputs": [
    {
     "data": {
      "text/html": [
       "<div>\n",
       "<style scoped>\n",
       "    .dataframe tbody tr th:only-of-type {\n",
       "        vertical-align: middle;\n",
       "    }\n",
       "\n",
       "    .dataframe tbody tr th {\n",
       "        vertical-align: top;\n",
       "    }\n",
       "\n",
       "    .dataframe thead th {\n",
       "        text-align: right;\n",
       "    }\n",
       "</style>\n",
       "<table border=\"1\" class=\"dataframe\">\n",
       "  <thead>\n",
       "    <tr style=\"text-align: right;\">\n",
       "      <th></th>\n",
       "      <th>Looks_handsome</th>\n",
       "      <th>Looks_repulsive</th>\n",
       "      <th>Alcoholic_beverage_no</th>\n",
       "      <th>Alcoholic_beverage_yes</th>\n",
       "      <th>Eloquence_average</th>\n",
       "      <th>Eloquence_high</th>\n",
       "      <th>Money_spent_little</th>\n",
       "      <th>Money_spent_lots</th>\n",
       "    </tr>\n",
       "  </thead>\n",
       "  <tbody>\n",
       "    <tr>\n",
       "      <th>0</th>\n",
       "      <td>1</td>\n",
       "      <td>0</td>\n",
       "      <td>1</td>\n",
       "      <td>0</td>\n",
       "      <td>1</td>\n",
       "      <td>0</td>\n",
       "      <td>0</td>\n",
       "      <td>1</td>\n",
       "    </tr>\n",
       "    <tr>\n",
       "      <th>1</th>\n",
       "      <td>1</td>\n",
       "      <td>0</td>\n",
       "      <td>0</td>\n",
       "      <td>1</td>\n",
       "      <td>0</td>\n",
       "      <td>1</td>\n",
       "      <td>1</td>\n",
       "      <td>0</td>\n",
       "    </tr>\n",
       "    <tr>\n",
       "      <th>2</th>\n",
       "      <td>0</td>\n",
       "      <td>1</td>\n",
       "      <td>0</td>\n",
       "      <td>1</td>\n",
       "      <td>1</td>\n",
       "      <td>0</td>\n",
       "      <td>0</td>\n",
       "      <td>1</td>\n",
       "    </tr>\n",
       "  </tbody>\n",
       "</table>\n",
       "</div>"
      ],
      "text/plain": [
       "   Looks_handsome  Looks_repulsive  Alcoholic_beverage_no  \\\n",
       "0               1                0                      1   \n",
       "1               1                0                      0   \n",
       "2               0                1                      0   \n",
       "\n",
       "   Alcoholic_beverage_yes  Eloquence_average  Eloquence_high  \\\n",
       "0                       0                  1               0   \n",
       "1                       1                  0               1   \n",
       "2                       1                  1               0   \n",
       "\n",
       "   Money_spent_little  Money_spent_lots  \n",
       "0                   0                 1  \n",
       "1                   1                 0  \n",
       "2                   0                 1  "
      ]
     },
     "execution_count": 5,
     "metadata": {},
     "output_type": "execute_result"
    }
   ],
   "source": [
    "df_test = {}\n",
    "df_test['Looks'] = ['handsome', 'handsome', 'repulsive'] \n",
    "df_test['Alcoholic_beverage'] = ['no', 'yes', 'yes']\n",
    "df_test['Eloquence'] = ['average', 'high', 'average']\n",
    "df_test['Money_spent'] = ['lots', 'little', 'lots']\n",
    "df_test = create_df(df_test, features)\n",
    "df_test"
   ]
  },
  {
   "cell_type": "code",
   "execution_count": 6,
   "metadata": {},
   "outputs": [
    {
     "data": {
      "text/html": [
       "<div>\n",
       "<style scoped>\n",
       "    .dataframe tbody tr th:only-of-type {\n",
       "        vertical-align: middle;\n",
       "    }\n",
       "\n",
       "    .dataframe tbody tr th {\n",
       "        vertical-align: top;\n",
       "    }\n",
       "\n",
       "    .dataframe thead th {\n",
       "        text-align: right;\n",
       "    }\n",
       "</style>\n",
       "<table border=\"1\" class=\"dataframe\">\n",
       "  <thead>\n",
       "    <tr style=\"text-align: right;\">\n",
       "      <th></th>\n",
       "      <th>Alcoholic_beverage_no</th>\n",
       "      <th>Money_spent_little</th>\n",
       "      <th>Eloquence_average</th>\n",
       "      <th>Looks_handsome</th>\n",
       "      <th>Money_spent_lots</th>\n",
       "      <th>Alcoholic_beverage_yes</th>\n",
       "      <th>Looks_repulsive</th>\n",
       "      <th>Eloquence_high</th>\n",
       "    </tr>\n",
       "  </thead>\n",
       "  <tbody>\n",
       "    <tr>\n",
       "      <th>0</th>\n",
       "      <td>0</td>\n",
       "      <td>0</td>\n",
       "      <td>0</td>\n",
       "      <td>1</td>\n",
       "      <td>1</td>\n",
       "      <td>1</td>\n",
       "      <td>0</td>\n",
       "      <td>1</td>\n",
       "    </tr>\n",
       "    <tr>\n",
       "      <th>1</th>\n",
       "      <td>0</td>\n",
       "      <td>1</td>\n",
       "      <td>0</td>\n",
       "      <td>1</td>\n",
       "      <td>0</td>\n",
       "      <td>1</td>\n",
       "      <td>0</td>\n",
       "      <td>0</td>\n",
       "    </tr>\n",
       "    <tr>\n",
       "      <th>2</th>\n",
       "      <td>1</td>\n",
       "      <td>0</td>\n",
       "      <td>1</td>\n",
       "      <td>1</td>\n",
       "      <td>1</td>\n",
       "      <td>0</td>\n",
       "      <td>0</td>\n",
       "      <td>0</td>\n",
       "    </tr>\n",
       "    <tr>\n",
       "      <th>3</th>\n",
       "      <td>1</td>\n",
       "      <td>1</td>\n",
       "      <td>1</td>\n",
       "      <td>0</td>\n",
       "      <td>0</td>\n",
       "      <td>0</td>\n",
       "      <td>1</td>\n",
       "      <td>0</td>\n",
       "    </tr>\n",
       "    <tr>\n",
       "      <th>4</th>\n",
       "      <td>0</td>\n",
       "      <td>0</td>\n",
       "      <td>0</td>\n",
       "      <td>0</td>\n",
       "      <td>1</td>\n",
       "      <td>1</td>\n",
       "      <td>1</td>\n",
       "      <td>0</td>\n",
       "    </tr>\n",
       "    <tr>\n",
       "      <th>5</th>\n",
       "      <td>0</td>\n",
       "      <td>0</td>\n",
       "      <td>0</td>\n",
       "      <td>0</td>\n",
       "      <td>1</td>\n",
       "      <td>1</td>\n",
       "      <td>1</td>\n",
       "      <td>1</td>\n",
       "    </tr>\n",
       "    <tr>\n",
       "      <th>6</th>\n",
       "      <td>0</td>\n",
       "      <td>0</td>\n",
       "      <td>1</td>\n",
       "      <td>1</td>\n",
       "      <td>1</td>\n",
       "      <td>1</td>\n",
       "      <td>0</td>\n",
       "      <td>0</td>\n",
       "    </tr>\n",
       "  </tbody>\n",
       "</table>\n",
       "</div>"
      ],
      "text/plain": [
       "   Alcoholic_beverage_no  Money_spent_little  Eloquence_average  \\\n",
       "0                      0                   0                  0   \n",
       "1                      0                   1                  0   \n",
       "2                      1                   0                  1   \n",
       "3                      1                   1                  1   \n",
       "4                      0                   0                  0   \n",
       "5                      0                   0                  0   \n",
       "6                      0                   0                  1   \n",
       "\n",
       "   Looks_handsome  Money_spent_lots  Alcoholic_beverage_yes  Looks_repulsive  \\\n",
       "0               1                 1                       1                0   \n",
       "1               1                 0                       1                0   \n",
       "2               1                 1                       0                0   \n",
       "3               0                 0                       0                1   \n",
       "4               0                 1                       1                1   \n",
       "5               0                 1                       1                1   \n",
       "6               1                 1                       1                0   \n",
       "\n",
       "   Eloquence_high  \n",
       "0               1  \n",
       "1               0  \n",
       "2               0  \n",
       "3               0  \n",
       "4               0  \n",
       "5               1  \n",
       "6               0  "
      ]
     },
     "execution_count": 6,
     "metadata": {},
     "output_type": "execute_result"
    }
   ],
   "source": [
    "# Some feature values are present in train and absent in test and vice-versa.\n",
    "y = df_train['Will_go']\n",
    "df_train, df_test = intersect_features(train=df_train, test=df_test)\n",
    "df_train"
   ]
  },
  {
   "cell_type": "code",
   "execution_count": 7,
   "metadata": {},
   "outputs": [
    {
     "data": {
      "text/html": [
       "<div>\n",
       "<style scoped>\n",
       "    .dataframe tbody tr th:only-of-type {\n",
       "        vertical-align: middle;\n",
       "    }\n",
       "\n",
       "    .dataframe tbody tr th {\n",
       "        vertical-align: top;\n",
       "    }\n",
       "\n",
       "    .dataframe thead th {\n",
       "        text-align: right;\n",
       "    }\n",
       "</style>\n",
       "<table border=\"1\" class=\"dataframe\">\n",
       "  <thead>\n",
       "    <tr style=\"text-align: right;\">\n",
       "      <th></th>\n",
       "      <th>Alcoholic_beverage_no</th>\n",
       "      <th>Money_spent_little</th>\n",
       "      <th>Eloquence_average</th>\n",
       "      <th>Looks_handsome</th>\n",
       "      <th>Money_spent_lots</th>\n",
       "      <th>Alcoholic_beverage_yes</th>\n",
       "      <th>Looks_repulsive</th>\n",
       "      <th>Eloquence_high</th>\n",
       "    </tr>\n",
       "  </thead>\n",
       "  <tbody>\n",
       "    <tr>\n",
       "      <th>0</th>\n",
       "      <td>1</td>\n",
       "      <td>0</td>\n",
       "      <td>1</td>\n",
       "      <td>1</td>\n",
       "      <td>1</td>\n",
       "      <td>0</td>\n",
       "      <td>0</td>\n",
       "      <td>0</td>\n",
       "    </tr>\n",
       "    <tr>\n",
       "      <th>1</th>\n",
       "      <td>0</td>\n",
       "      <td>1</td>\n",
       "      <td>0</td>\n",
       "      <td>1</td>\n",
       "      <td>0</td>\n",
       "      <td>1</td>\n",
       "      <td>0</td>\n",
       "      <td>1</td>\n",
       "    </tr>\n",
       "    <tr>\n",
       "      <th>2</th>\n",
       "      <td>0</td>\n",
       "      <td>0</td>\n",
       "      <td>1</td>\n",
       "      <td>0</td>\n",
       "      <td>1</td>\n",
       "      <td>1</td>\n",
       "      <td>1</td>\n",
       "      <td>0</td>\n",
       "    </tr>\n",
       "  </tbody>\n",
       "</table>\n",
       "</div>"
      ],
      "text/plain": [
       "   Alcoholic_beverage_no  Money_spent_little  Eloquence_average  \\\n",
       "0                      1                   0                  1   \n",
       "1                      0                   1                  0   \n",
       "2                      0                   0                  1   \n",
       "\n",
       "   Looks_handsome  Money_spent_lots  Alcoholic_beverage_yes  Looks_repulsive  \\\n",
       "0               1                 1                       0                0   \n",
       "1               1                 0                       1                0   \n",
       "2               0                 1                       1                1   \n",
       "\n",
       "   Eloquence_high  \n",
       "0               0  \n",
       "1               1  \n",
       "2               0  "
      ]
     },
     "execution_count": 7,
     "metadata": {},
     "output_type": "execute_result"
    }
   ],
   "source": [
    "df_test"
   ]
  },
  {
   "cell_type": "markdown",
   "metadata": {},
   "source": [
    "#### Draw a decision tree (by hand or in any graphics editor) for this dataset. Optionally you can also implement tree construction and draw it here."
   ]
  },
  {
   "cell_type": "markdown",
   "metadata": {},
   "source": [
    "1\\. What is the entropy $S_0$ of the initial system? By system states, we mean values of the binary feature \"Will_go\" - 0 or 1 - two states in total."
   ]
  },
  {
   "cell_type": "markdown",
   "metadata": {},
   "source": [
    "<font color='red'>Answer: </font>  $S_0 = -\\frac{3}{7}\\log_2{\\frac{3}{7}}-\\frac{4}{7}\\log_2{\\frac{4}{7}} = 0.985$."
   ]
  },
  {
   "cell_type": "markdown",
   "metadata": {},
   "source": [
    "2\\. Let's split the data by the feature \"Looks_handsome\". What is the entropy $S_1$ of the left group - the one with \"Looks_handsome\". What is the entropy $S_2$ in the opposite group? What is the information gain (IG) if we consider such a split?"
   ]
  },
  {
   "cell_type": "markdown",
   "metadata": {},
   "source": [
    "<font color='red'>Answer: </font> $S_1 = -\\frac{1}{4}\\log_2{\\frac{1}{4}}-\\frac{3}{4}\\log_2{\\frac{3}{4}} = 0.811$, $S_2 = -\\frac{2}{3}\\log_2{\\frac{2}{3}}-\\frac{1}{3}\\log_2{\\frac{1}{3}} = 0.918$, $IG = S_0-\\frac{4}{7}S_1-\\frac{3}{7}S_2 = 0.128$."
   ]
  },
  {
   "cell_type": "markdown",
   "metadata": {},
   "source": [
    "#### Train a decision tree using sklearn on the training data. You may choose any depth for the tree."
   ]
  },
  {
   "cell_type": "code",
   "execution_count": 8,
   "metadata": {},
   "outputs": [],
   "source": [
    "dt = DecisionTreeClassifier(criterion='entropy', random_state=17)\n",
    "dt.fit(df_train, y);"
   ]
  },
  {
   "cell_type": "markdown",
   "metadata": {},
   "source": [
    "#### Additional: display the resulting tree using graphviz. You can use pydot or [web-service](https://www.coolutils.com/ru/online/DOT-to-PNG) dot2png."
   ]
  },
  {
   "cell_type": "code",
   "execution_count": 9,
   "metadata": {},
   "outputs": [
    {
     "data": {
      "application/vnd.jupyter.widget-view+json": {
       "model_id": "420666d22aad4fdaafbae00546766d67",
       "version_major": 2,
       "version_minor": 0
      },
      "text/plain": [
       "Image(value=b'\\x89PNG\\r\\n\\x1a\\n\\x00\\x00\\x00\\rIHDR\\x00\\x00\\x01\\x9c\\x00\\x00\\x01\\xf1\\x08\\x02\\x00\\x00\\x00\\xd6I\\x9d…"
      ]
     },
     "metadata": {},
     "output_type": "display_data"
    }
   ],
   "source": [
    "dot_data = StringIO()\n",
    "export_graphviz(dt, feature_names = df_train.columns, out_file=dot_data,\n",
    "                filled=True) \n",
    "graph = pydotplus.graph_from_dot_data(dot_data.getvalue())\n",
    "Image(value=graph.create_png())"
   ]
  },
  {
   "cell_type": "markdown",
   "metadata": {},
   "source": [
    "### Part 2. Functions for calculating entropy and information gain."
   ]
  },
  {
   "cell_type": "markdown",
   "metadata": {},
   "source": [
    "Consider the following warm-up example: we have 9 blue balls and 11 yellow balls. Let ball have label **1** if it is blue, **0** otherwise."
   ]
  },
  {
   "cell_type": "code",
   "execution_count": 10,
   "metadata": {},
   "outputs": [],
   "source": [
    "balls = [1 for i in range(9)] + [0 for i in range(11)]"
   ]
  },
  {
   "cell_type": "markdown",
   "metadata": {},
   "source": [
    "<img src = '../../img/decision_tree3.png'>"
   ]
  },
  {
   "cell_type": "markdown",
   "metadata": {},
   "source": [
    "Next split the balls into two groups:"
   ]
  },
  {
   "cell_type": "markdown",
   "metadata": {},
   "source": [
    "<img src = '../../img/decision_tree4.png'>"
   ]
  },
  {
   "cell_type": "code",
   "execution_count": 11,
   "metadata": {},
   "outputs": [],
   "source": [
    "# two groups\n",
    "balls_left  = [1 for i in range(8)] + [0 for i in range(5)] # 8 blue and 5 yellow\n",
    "balls_right = [1 for i in range(1)] + [0 for i in range(6)] # 1 blue and 6 yellow"
   ]
  },
  {
   "cell_type": "markdown",
   "metadata": {},
   "source": [
    "#### Implement a function to calculate the Shannon Entropy"
   ]
  },
  {
   "cell_type": "code",
   "execution_count": 12,
   "metadata": {},
   "outputs": [],
   "source": [
    "from math import log\n",
    "    \n",
    "def entropy(a_list):\n",
    "    lst = list(a_list)\n",
    "    size = len(lst) * 1.0\n",
    "    entropy = 0\n",
    "    set_elements = len(set(lst))\n",
    "    if set_elements in [0,1]:\n",
    "        return 0\n",
    "    for i in set(lst):\n",
    "        occ = lst.count(i)\n",
    "        entropy -= occ/size * log (occ/size,2)\n",
    "    return entropy"
   ]
  },
  {
   "cell_type": "markdown",
   "metadata": {},
   "source": [
    "Tests"
   ]
  },
  {
   "cell_type": "code",
   "execution_count": 13,
   "metadata": {},
   "outputs": [
    {
     "name": "stdout",
     "output_type": "stream",
     "text": [
      "0.9927744539878084\n",
      "0.961236604722876\n",
      "0.5916727785823275\n",
      "2.584962500721156\n"
     ]
    }
   ],
   "source": [
    "print(entropy(balls)) # 9 blue и 11 yellow\n",
    "print(entropy(balls_left)) # 8 blue и 5 yellow\n",
    "print(entropy(balls_right)) # 1 blue и 6 yellow\n",
    "print(entropy([1,2,3,4,5,6])) # entropy of a fair 6-sided die"
   ]
  },
  {
   "cell_type": "markdown",
   "metadata": {},
   "source": [
    "3\\. What is the entropy of the state given by the list **balls_left**?"
   ]
  },
  {
   "cell_type": "markdown",
   "metadata": {},
   "source": [
    "<font color='red'>Answer:</font> 0.961"
   ]
  },
  {
   "cell_type": "markdown",
   "metadata": {},
   "source": [
    "4\\. What is the entropy of a fair dice? (where we look at a dice as a system with 6 equally probable states)?"
   ]
  },
  {
   "cell_type": "markdown",
   "metadata": {},
   "source": [
    "<font color='red'>Answer:</font> 2.585"
   ]
  },
  {
   "cell_type": "code",
   "execution_count": 14,
   "metadata": {},
   "outputs": [],
   "source": [
    "# information gain calculation\n",
    "def information_gain(root, left, right):\n",
    "    ''' root - initial data, left and right - two partitions of initial data'''\n",
    "        \n",
    "    return entropy(root) - 1.0 * len(left) / len(root) * entropy(left) \\\n",
    "                         - 1.0 * len(right) / len(root) * entropy(right) "
   ]
  },
  {
   "cell_type": "code",
   "execution_count": 15,
   "metadata": {},
   "outputs": [
    {
     "name": "stdout",
     "output_type": "stream",
     "text": [
      "0.16088518841412436\n"
     ]
    }
   ],
   "source": [
    "print(information_gain(balls, balls_left, balls_right))"
   ]
  },
  {
   "cell_type": "markdown",
   "metadata": {},
   "source": [
    "5\\. What is the information gain from splitting the initial dataset into **balls_left** and **balls_right** ?"
   ]
  },
  {
   "cell_type": "markdown",
   "metadata": {},
   "source": [
    "<font color='red'>Answer:</font> 0.161"
   ]
  },
  {
   "cell_type": "code",
   "execution_count": 16,
   "metadata": {},
   "outputs": [],
   "source": [
    "def best_feature_to_split(X, y):\n",
    "    '''Outputs information gain when splitting on best feature'''\n",
    "    out = []\n",
    "    for i in X.columns:\n",
    "        out.append(information_gain(y,y[X[i] == 0], y[X[i] == 1]))\n",
    "    return out"
   ]
  },
  {
   "cell_type": "markdown",
   "metadata": {},
   "source": [
    "#### Optional:\n",
    "- Implement a decision tree building algorithm by calling **best_feature_to_split** recursively\n",
    "- Plot the resulting tree"
   ]
  },
  {
   "cell_type": "code",
   "execution_count": 17,
   "metadata": {},
   "outputs": [
    {
     "data": {
      "text/plain": [
       "[0.005977711423774124,\n",
       " 0.46956521111470706,\n",
       " 0.02024420715375619,\n",
       " 0.12808527889139454,\n",
       " 0.46956521111470706,\n",
       " 0.005977711423774124,\n",
       " 0.12808527889139454,\n",
       " 0.2916919971380598]"
      ]
     },
     "execution_count": 17,
     "metadata": {},
     "output_type": "execute_result"
    }
   ],
   "source": [
    "best_feature_to_split(df_train, y)"
   ]
  },
  {
   "cell_type": "code",
   "execution_count": 18,
   "metadata": {},
   "outputs": [],
   "source": [
    "def btree(X,y):\n",
    "    clf = best_feature_to_split(X, y)\n",
    "    param = clf.index(max(clf))\n",
    "    ly = y[X.iloc[:,param] == 0]\n",
    "    ry = y[X.iloc[:,param] == 1]\n",
    "    print ('Column_' + str(param) + ' N/Y?')\n",
    "    print ('Entropy: ',entropy (ly), entropy (ry))\n",
    "    print ('N count:',ly.count(),'/', 'Y count:',ry.count())\n",
    "    if entropy (ly) != 0:\n",
    "        left = X[X.iloc[:,param] == 0]\n",
    "        btree(left, ly)\n",
    "    if entropy (ry) != 0:\n",
    "        right = X[X.iloc[:,param] == 1]\n",
    "        btree(right, ry)"
   ]
  },
  {
   "cell_type": "code",
   "execution_count": 19,
   "metadata": {},
   "outputs": [
    {
     "name": "stdout",
     "output_type": "stream",
     "text": [
      "Column_1 N/Y?\n",
      "Entropy:  0.7219280948873623 0\n",
      "N count: 5 / Y count: 2\n",
      "Column_3 N/Y?\n",
      "Entropy:  1.0 0\n",
      "N count: 2 / Y count: 3\n",
      "Column_7 N/Y?\n",
      "Entropy:  0 0\n",
      "N count: 1 / Y count: 1\n"
     ]
    }
   ],
   "source": [
    "btree (df_train,y)"
   ]
  },
  {
   "cell_type": "markdown",
   "metadata": {},
   "source": [
    "### Part 3. The \"Adult\" dataset"
   ]
  },
  {
   "cell_type": "markdown",
   "metadata": {},
   "source": [
    "#### Dataset description:"
   ]
  },
  {
   "cell_type": "markdown",
   "metadata": {},
   "source": [
    "[Dataset](http://archive.ics.uci.edu/ml/machine-learning-databases/adult) UCI Adult (no need to download it, we have a copy in the course repository): classify people using demographical data - whether they earn more than \\$50,000 per year or not."
   ]
  },
  {
   "cell_type": "markdown",
   "metadata": {},
   "source": [
    "Feature descriptions:"
   ]
  },
  {
   "cell_type": "markdown",
   "metadata": {},
   "source": [
    "- **Age** – continuous feature\n",
    "- **Workclass** –  continuous feature\n",
    "- **fnlwgt** – final weight of object, continuous feature\n",
    "- **Education** –  categorical feature\n",
    "- **Education_Num** – number of years of education, continuous feature\n",
    "- **Martial_Status** –  categorical feature\n",
    "- **Occupation** –  categorical feature\n",
    "- **Relationship** – categorical feature\n",
    "- **Race** – categorical feature\n",
    "- **Sex** – categorical feature\n",
    "- **Capital_Gain** – continuous feature\n",
    "- **Capital_Loss** – continuous feature\n",
    "- **Hours_per_week** – continuous feature\n",
    "- **Country** – categorical feature"
   ]
  },
  {
   "cell_type": "markdown",
   "metadata": {},
   "source": [
    "**Target** – earnings level, categorical (binary) feature."
   ]
  },
  {
   "cell_type": "markdown",
   "metadata": {},
   "source": [
    "#### Reading train and test data"
   ]
  },
  {
   "cell_type": "code",
   "execution_count": 20,
   "metadata": {},
   "outputs": [],
   "source": [
    "data_train = pd.read_csv('../../data/adult_train.csv', sep=';')"
   ]
  },
  {
   "cell_type": "code",
   "execution_count": 21,
   "metadata": {},
   "outputs": [
    {
     "data": {
      "text/html": [
       "<div>\n",
       "<style scoped>\n",
       "    .dataframe tbody tr th:only-of-type {\n",
       "        vertical-align: middle;\n",
       "    }\n",
       "\n",
       "    .dataframe tbody tr th {\n",
       "        vertical-align: top;\n",
       "    }\n",
       "\n",
       "    .dataframe thead th {\n",
       "        text-align: right;\n",
       "    }\n",
       "</style>\n",
       "<table border=\"1\" class=\"dataframe\">\n",
       "  <thead>\n",
       "    <tr style=\"text-align: right;\">\n",
       "      <th></th>\n",
       "      <th>Age</th>\n",
       "      <th>Workclass</th>\n",
       "      <th>fnlwgt</th>\n",
       "      <th>Education</th>\n",
       "      <th>Education_Num</th>\n",
       "      <th>Martial_Status</th>\n",
       "      <th>Occupation</th>\n",
       "      <th>Relationship</th>\n",
       "      <th>Race</th>\n",
       "      <th>Sex</th>\n",
       "      <th>Capital_Gain</th>\n",
       "      <th>Capital_Loss</th>\n",
       "      <th>Hours_per_week</th>\n",
       "      <th>Country</th>\n",
       "      <th>Target</th>\n",
       "    </tr>\n",
       "  </thead>\n",
       "  <tbody>\n",
       "    <tr>\n",
       "      <th>32556</th>\n",
       "      <td>27</td>\n",
       "      <td>Private</td>\n",
       "      <td>257302</td>\n",
       "      <td>Assoc-acdm</td>\n",
       "      <td>12</td>\n",
       "      <td>Married-civ-spouse</td>\n",
       "      <td>Tech-support</td>\n",
       "      <td>Wife</td>\n",
       "      <td>White</td>\n",
       "      <td>Female</td>\n",
       "      <td>0</td>\n",
       "      <td>0</td>\n",
       "      <td>38</td>\n",
       "      <td>United-States</td>\n",
       "      <td>&lt;=50K</td>\n",
       "    </tr>\n",
       "    <tr>\n",
       "      <th>32557</th>\n",
       "      <td>40</td>\n",
       "      <td>Private</td>\n",
       "      <td>154374</td>\n",
       "      <td>HS-grad</td>\n",
       "      <td>9</td>\n",
       "      <td>Married-civ-spouse</td>\n",
       "      <td>Machine-op-inspct</td>\n",
       "      <td>Husband</td>\n",
       "      <td>White</td>\n",
       "      <td>Male</td>\n",
       "      <td>0</td>\n",
       "      <td>0</td>\n",
       "      <td>40</td>\n",
       "      <td>United-States</td>\n",
       "      <td>&gt;50K</td>\n",
       "    </tr>\n",
       "    <tr>\n",
       "      <th>32558</th>\n",
       "      <td>58</td>\n",
       "      <td>Private</td>\n",
       "      <td>151910</td>\n",
       "      <td>HS-grad</td>\n",
       "      <td>9</td>\n",
       "      <td>Widowed</td>\n",
       "      <td>Adm-clerical</td>\n",
       "      <td>Unmarried</td>\n",
       "      <td>White</td>\n",
       "      <td>Female</td>\n",
       "      <td>0</td>\n",
       "      <td>0</td>\n",
       "      <td>40</td>\n",
       "      <td>United-States</td>\n",
       "      <td>&lt;=50K</td>\n",
       "    </tr>\n",
       "    <tr>\n",
       "      <th>32559</th>\n",
       "      <td>22</td>\n",
       "      <td>Private</td>\n",
       "      <td>201490</td>\n",
       "      <td>HS-grad</td>\n",
       "      <td>9</td>\n",
       "      <td>Never-married</td>\n",
       "      <td>Adm-clerical</td>\n",
       "      <td>Own-child</td>\n",
       "      <td>White</td>\n",
       "      <td>Male</td>\n",
       "      <td>0</td>\n",
       "      <td>0</td>\n",
       "      <td>20</td>\n",
       "      <td>United-States</td>\n",
       "      <td>&lt;=50K</td>\n",
       "    </tr>\n",
       "    <tr>\n",
       "      <th>32560</th>\n",
       "      <td>52</td>\n",
       "      <td>Self-emp-inc</td>\n",
       "      <td>287927</td>\n",
       "      <td>HS-grad</td>\n",
       "      <td>9</td>\n",
       "      <td>Married-civ-spouse</td>\n",
       "      <td>Exec-managerial</td>\n",
       "      <td>Wife</td>\n",
       "      <td>White</td>\n",
       "      <td>Female</td>\n",
       "      <td>15024</td>\n",
       "      <td>0</td>\n",
       "      <td>40</td>\n",
       "      <td>United-States</td>\n",
       "      <td>&gt;50K</td>\n",
       "    </tr>\n",
       "  </tbody>\n",
       "</table>\n",
       "</div>"
      ],
      "text/plain": [
       "       Age      Workclass  fnlwgt    Education  Education_Num  \\\n",
       "32556   27        Private  257302   Assoc-acdm             12   \n",
       "32557   40        Private  154374      HS-grad              9   \n",
       "32558   58        Private  151910      HS-grad              9   \n",
       "32559   22        Private  201490      HS-grad              9   \n",
       "32560   52   Self-emp-inc  287927      HS-grad              9   \n",
       "\n",
       "            Martial_Status          Occupation Relationship    Race      Sex  \\\n",
       "32556   Married-civ-spouse        Tech-support         Wife   White   Female   \n",
       "32557   Married-civ-spouse   Machine-op-inspct      Husband   White     Male   \n",
       "32558              Widowed        Adm-clerical    Unmarried   White   Female   \n",
       "32559        Never-married        Adm-clerical    Own-child   White     Male   \n",
       "32560   Married-civ-spouse     Exec-managerial         Wife   White   Female   \n",
       "\n",
       "       Capital_Gain  Capital_Loss  Hours_per_week         Country  Target  \n",
       "32556             0             0              38   United-States   <=50K  \n",
       "32557             0             0              40   United-States    >50K  \n",
       "32558             0             0              40   United-States   <=50K  \n",
       "32559             0             0              20   United-States   <=50K  \n",
       "32560         15024             0              40   United-States    >50K  "
      ]
     },
     "execution_count": 21,
     "metadata": {},
     "output_type": "execute_result"
    }
   ],
   "source": [
    "data_train.tail()"
   ]
  },
  {
   "cell_type": "code",
   "execution_count": 22,
   "metadata": {},
   "outputs": [],
   "source": [
    "data_test = pd.read_csv('../../data/adult_test.csv', sep=';')"
   ]
  },
  {
   "cell_type": "code",
   "execution_count": 23,
   "metadata": {},
   "outputs": [
    {
     "data": {
      "text/html": [
       "<div>\n",
       "<style scoped>\n",
       "    .dataframe tbody tr th:only-of-type {\n",
       "        vertical-align: middle;\n",
       "    }\n",
       "\n",
       "    .dataframe tbody tr th {\n",
       "        vertical-align: top;\n",
       "    }\n",
       "\n",
       "    .dataframe thead th {\n",
       "        text-align: right;\n",
       "    }\n",
       "</style>\n",
       "<table border=\"1\" class=\"dataframe\">\n",
       "  <thead>\n",
       "    <tr style=\"text-align: right;\">\n",
       "      <th></th>\n",
       "      <th>Age</th>\n",
       "      <th>Workclass</th>\n",
       "      <th>fnlwgt</th>\n",
       "      <th>Education</th>\n",
       "      <th>Education_Num</th>\n",
       "      <th>Martial_Status</th>\n",
       "      <th>Occupation</th>\n",
       "      <th>Relationship</th>\n",
       "      <th>Race</th>\n",
       "      <th>Sex</th>\n",
       "      <th>Capital_Gain</th>\n",
       "      <th>Capital_Loss</th>\n",
       "      <th>Hours_per_week</th>\n",
       "      <th>Country</th>\n",
       "      <th>Target</th>\n",
       "    </tr>\n",
       "  </thead>\n",
       "  <tbody>\n",
       "    <tr>\n",
       "      <th>16277</th>\n",
       "      <td>39</td>\n",
       "      <td>Private</td>\n",
       "      <td>215419.0</td>\n",
       "      <td>Bachelors</td>\n",
       "      <td>13.0</td>\n",
       "      <td>Divorced</td>\n",
       "      <td>Prof-specialty</td>\n",
       "      <td>Not-in-family</td>\n",
       "      <td>White</td>\n",
       "      <td>Female</td>\n",
       "      <td>0.0</td>\n",
       "      <td>0.0</td>\n",
       "      <td>36.0</td>\n",
       "      <td>United-States</td>\n",
       "      <td>&lt;=50K.</td>\n",
       "    </tr>\n",
       "    <tr>\n",
       "      <th>16278</th>\n",
       "      <td>64</td>\n",
       "      <td>NaN</td>\n",
       "      <td>321403.0</td>\n",
       "      <td>HS-grad</td>\n",
       "      <td>9.0</td>\n",
       "      <td>Widowed</td>\n",
       "      <td>NaN</td>\n",
       "      <td>Other-relative</td>\n",
       "      <td>Black</td>\n",
       "      <td>Male</td>\n",
       "      <td>0.0</td>\n",
       "      <td>0.0</td>\n",
       "      <td>40.0</td>\n",
       "      <td>United-States</td>\n",
       "      <td>&lt;=50K.</td>\n",
       "    </tr>\n",
       "    <tr>\n",
       "      <th>16279</th>\n",
       "      <td>38</td>\n",
       "      <td>Private</td>\n",
       "      <td>374983.0</td>\n",
       "      <td>Bachelors</td>\n",
       "      <td>13.0</td>\n",
       "      <td>Married-civ-spouse</td>\n",
       "      <td>Prof-specialty</td>\n",
       "      <td>Husband</td>\n",
       "      <td>White</td>\n",
       "      <td>Male</td>\n",
       "      <td>0.0</td>\n",
       "      <td>0.0</td>\n",
       "      <td>50.0</td>\n",
       "      <td>United-States</td>\n",
       "      <td>&lt;=50K.</td>\n",
       "    </tr>\n",
       "    <tr>\n",
       "      <th>16280</th>\n",
       "      <td>44</td>\n",
       "      <td>Private</td>\n",
       "      <td>83891.0</td>\n",
       "      <td>Bachelors</td>\n",
       "      <td>13.0</td>\n",
       "      <td>Divorced</td>\n",
       "      <td>Adm-clerical</td>\n",
       "      <td>Own-child</td>\n",
       "      <td>Asian-Pac-Islander</td>\n",
       "      <td>Male</td>\n",
       "      <td>5455.0</td>\n",
       "      <td>0.0</td>\n",
       "      <td>40.0</td>\n",
       "      <td>United-States</td>\n",
       "      <td>&lt;=50K.</td>\n",
       "    </tr>\n",
       "    <tr>\n",
       "      <th>16281</th>\n",
       "      <td>35</td>\n",
       "      <td>Self-emp-inc</td>\n",
       "      <td>182148.0</td>\n",
       "      <td>Bachelors</td>\n",
       "      <td>13.0</td>\n",
       "      <td>Married-civ-spouse</td>\n",
       "      <td>Exec-managerial</td>\n",
       "      <td>Husband</td>\n",
       "      <td>White</td>\n",
       "      <td>Male</td>\n",
       "      <td>0.0</td>\n",
       "      <td>0.0</td>\n",
       "      <td>60.0</td>\n",
       "      <td>United-States</td>\n",
       "      <td>&gt;50K.</td>\n",
       "    </tr>\n",
       "  </tbody>\n",
       "</table>\n",
       "</div>"
      ],
      "text/plain": [
       "      Age      Workclass    fnlwgt   Education  Education_Num  \\\n",
       "16277  39        Private  215419.0   Bachelors           13.0   \n",
       "16278  64            NaN  321403.0     HS-grad            9.0   \n",
       "16279  38        Private  374983.0   Bachelors           13.0   \n",
       "16280  44        Private   83891.0   Bachelors           13.0   \n",
       "16281  35   Self-emp-inc  182148.0   Bachelors           13.0   \n",
       "\n",
       "            Martial_Status        Occupation     Relationship  \\\n",
       "16277             Divorced    Prof-specialty    Not-in-family   \n",
       "16278              Widowed               NaN   Other-relative   \n",
       "16279   Married-civ-spouse    Prof-specialty          Husband   \n",
       "16280             Divorced      Adm-clerical        Own-child   \n",
       "16281   Married-civ-spouse   Exec-managerial          Husband   \n",
       "\n",
       "                      Race      Sex  Capital_Gain  Capital_Loss  \\\n",
       "16277                White   Female           0.0           0.0   \n",
       "16278                Black     Male           0.0           0.0   \n",
       "16279                White     Male           0.0           0.0   \n",
       "16280   Asian-Pac-Islander     Male        5455.0           0.0   \n",
       "16281                White     Male           0.0           0.0   \n",
       "\n",
       "       Hours_per_week         Country   Target  \n",
       "16277            36.0   United-States   <=50K.  \n",
       "16278            40.0   United-States   <=50K.  \n",
       "16279            50.0   United-States   <=50K.  \n",
       "16280            40.0   United-States   <=50K.  \n",
       "16281            60.0   United-States    >50K.  "
      ]
     },
     "execution_count": 23,
     "metadata": {},
     "output_type": "execute_result"
    }
   ],
   "source": [
    "data_test.tail()"
   ]
  },
  {
   "cell_type": "code",
   "execution_count": 24,
   "metadata": {},
   "outputs": [],
   "source": [
    "# necessary to remove rows with incorrect labels in test dataset\n",
    "data_test = data_test[(data_test['Target'] == ' >50K.') | (data_test['Target']==' <=50K.')]\n",
    "\n",
    "# encode target variable as integer\n",
    "data_train.loc[data_train['Target']==' <=50K', 'Target'] = 0\n",
    "data_train.loc[data_train['Target']==' >50K', 'Target'] = 1\n",
    "\n",
    "data_test.loc[data_test['Target']==' <=50K.', 'Target'] = 0\n",
    "data_test.loc[data_test['Target']==' >50K.', 'Target'] = 1"
   ]
  },
  {
   "cell_type": "markdown",
   "metadata": {},
   "source": [
    "#### Primary data analysis"
   ]
  },
  {
   "cell_type": "code",
   "execution_count": 25,
   "metadata": {},
   "outputs": [
    {
     "data": {
      "text/html": [
       "<div>\n",
       "<style scoped>\n",
       "    .dataframe tbody tr th:only-of-type {\n",
       "        vertical-align: middle;\n",
       "    }\n",
       "\n",
       "    .dataframe tbody tr th {\n",
       "        vertical-align: top;\n",
       "    }\n",
       "\n",
       "    .dataframe thead th {\n",
       "        text-align: right;\n",
       "    }\n",
       "</style>\n",
       "<table border=\"1\" class=\"dataframe\">\n",
       "  <thead>\n",
       "    <tr style=\"text-align: right;\">\n",
       "      <th></th>\n",
       "      <th>count</th>\n",
       "      <th>unique</th>\n",
       "      <th>top</th>\n",
       "      <th>freq</th>\n",
       "      <th>mean</th>\n",
       "      <th>std</th>\n",
       "      <th>min</th>\n",
       "      <th>25%</th>\n",
       "      <th>50%</th>\n",
       "      <th>75%</th>\n",
       "      <th>max</th>\n",
       "    </tr>\n",
       "  </thead>\n",
       "  <tbody>\n",
       "    <tr>\n",
       "      <th>Age</th>\n",
       "      <td>16281</td>\n",
       "      <td>73</td>\n",
       "      <td>35</td>\n",
       "      <td>461</td>\n",
       "      <td>NaN</td>\n",
       "      <td>NaN</td>\n",
       "      <td>NaN</td>\n",
       "      <td>NaN</td>\n",
       "      <td>NaN</td>\n",
       "      <td>NaN</td>\n",
       "      <td>NaN</td>\n",
       "    </tr>\n",
       "    <tr>\n",
       "      <th>Workclass</th>\n",
       "      <td>15318</td>\n",
       "      <td>8</td>\n",
       "      <td>Private</td>\n",
       "      <td>11210</td>\n",
       "      <td>NaN</td>\n",
       "      <td>NaN</td>\n",
       "      <td>NaN</td>\n",
       "      <td>NaN</td>\n",
       "      <td>NaN</td>\n",
       "      <td>NaN</td>\n",
       "      <td>NaN</td>\n",
       "    </tr>\n",
       "    <tr>\n",
       "      <th>fnlwgt</th>\n",
       "      <td>16281</td>\n",
       "      <td>NaN</td>\n",
       "      <td>NaN</td>\n",
       "      <td>NaN</td>\n",
       "      <td>189436</td>\n",
       "      <td>105715</td>\n",
       "      <td>13492</td>\n",
       "      <td>116736</td>\n",
       "      <td>177831</td>\n",
       "      <td>238384</td>\n",
       "      <td>1.4904e+06</td>\n",
       "    </tr>\n",
       "    <tr>\n",
       "      <th>Education</th>\n",
       "      <td>16281</td>\n",
       "      <td>16</td>\n",
       "      <td>HS-grad</td>\n",
       "      <td>5283</td>\n",
       "      <td>NaN</td>\n",
       "      <td>NaN</td>\n",
       "      <td>NaN</td>\n",
       "      <td>NaN</td>\n",
       "      <td>NaN</td>\n",
       "      <td>NaN</td>\n",
       "      <td>NaN</td>\n",
       "    </tr>\n",
       "    <tr>\n",
       "      <th>Education_Num</th>\n",
       "      <td>16281</td>\n",
       "      <td>NaN</td>\n",
       "      <td>NaN</td>\n",
       "      <td>NaN</td>\n",
       "      <td>10.0729</td>\n",
       "      <td>2.56755</td>\n",
       "      <td>1</td>\n",
       "      <td>9</td>\n",
       "      <td>10</td>\n",
       "      <td>12</td>\n",
       "      <td>16</td>\n",
       "    </tr>\n",
       "    <tr>\n",
       "      <th>Martial_Status</th>\n",
       "      <td>16281</td>\n",
       "      <td>7</td>\n",
       "      <td>Married-civ-spouse</td>\n",
       "      <td>7403</td>\n",
       "      <td>NaN</td>\n",
       "      <td>NaN</td>\n",
       "      <td>NaN</td>\n",
       "      <td>NaN</td>\n",
       "      <td>NaN</td>\n",
       "      <td>NaN</td>\n",
       "      <td>NaN</td>\n",
       "    </tr>\n",
       "    <tr>\n",
       "      <th>Occupation</th>\n",
       "      <td>15315</td>\n",
       "      <td>14</td>\n",
       "      <td>Prof-specialty</td>\n",
       "      <td>2032</td>\n",
       "      <td>NaN</td>\n",
       "      <td>NaN</td>\n",
       "      <td>NaN</td>\n",
       "      <td>NaN</td>\n",
       "      <td>NaN</td>\n",
       "      <td>NaN</td>\n",
       "      <td>NaN</td>\n",
       "    </tr>\n",
       "    <tr>\n",
       "      <th>Relationship</th>\n",
       "      <td>16281</td>\n",
       "      <td>6</td>\n",
       "      <td>Husband</td>\n",
       "      <td>6523</td>\n",
       "      <td>NaN</td>\n",
       "      <td>NaN</td>\n",
       "      <td>NaN</td>\n",
       "      <td>NaN</td>\n",
       "      <td>NaN</td>\n",
       "      <td>NaN</td>\n",
       "      <td>NaN</td>\n",
       "    </tr>\n",
       "    <tr>\n",
       "      <th>Race</th>\n",
       "      <td>16281</td>\n",
       "      <td>5</td>\n",
       "      <td>White</td>\n",
       "      <td>13946</td>\n",
       "      <td>NaN</td>\n",
       "      <td>NaN</td>\n",
       "      <td>NaN</td>\n",
       "      <td>NaN</td>\n",
       "      <td>NaN</td>\n",
       "      <td>NaN</td>\n",
       "      <td>NaN</td>\n",
       "    </tr>\n",
       "    <tr>\n",
       "      <th>Sex</th>\n",
       "      <td>16281</td>\n",
       "      <td>2</td>\n",
       "      <td>Male</td>\n",
       "      <td>10860</td>\n",
       "      <td>NaN</td>\n",
       "      <td>NaN</td>\n",
       "      <td>NaN</td>\n",
       "      <td>NaN</td>\n",
       "      <td>NaN</td>\n",
       "      <td>NaN</td>\n",
       "      <td>NaN</td>\n",
       "    </tr>\n",
       "    <tr>\n",
       "      <th>Capital_Gain</th>\n",
       "      <td>16281</td>\n",
       "      <td>NaN</td>\n",
       "      <td>NaN</td>\n",
       "      <td>NaN</td>\n",
       "      <td>1081.91</td>\n",
       "      <td>7583.94</td>\n",
       "      <td>0</td>\n",
       "      <td>0</td>\n",
       "      <td>0</td>\n",
       "      <td>0</td>\n",
       "      <td>99999</td>\n",
       "    </tr>\n",
       "    <tr>\n",
       "      <th>Capital_Loss</th>\n",
       "      <td>16281</td>\n",
       "      <td>NaN</td>\n",
       "      <td>NaN</td>\n",
       "      <td>NaN</td>\n",
       "      <td>87.8993</td>\n",
       "      <td>403.105</td>\n",
       "      <td>0</td>\n",
       "      <td>0</td>\n",
       "      <td>0</td>\n",
       "      <td>0</td>\n",
       "      <td>3770</td>\n",
       "    </tr>\n",
       "    <tr>\n",
       "      <th>Hours_per_week</th>\n",
       "      <td>16281</td>\n",
       "      <td>NaN</td>\n",
       "      <td>NaN</td>\n",
       "      <td>NaN</td>\n",
       "      <td>40.3922</td>\n",
       "      <td>12.4793</td>\n",
       "      <td>1</td>\n",
       "      <td>40</td>\n",
       "      <td>40</td>\n",
       "      <td>45</td>\n",
       "      <td>99</td>\n",
       "    </tr>\n",
       "    <tr>\n",
       "      <th>Country</th>\n",
       "      <td>16007</td>\n",
       "      <td>40</td>\n",
       "      <td>United-States</td>\n",
       "      <td>14662</td>\n",
       "      <td>NaN</td>\n",
       "      <td>NaN</td>\n",
       "      <td>NaN</td>\n",
       "      <td>NaN</td>\n",
       "      <td>NaN</td>\n",
       "      <td>NaN</td>\n",
       "      <td>NaN</td>\n",
       "    </tr>\n",
       "    <tr>\n",
       "      <th>Target</th>\n",
       "      <td>16281</td>\n",
       "      <td>NaN</td>\n",
       "      <td>NaN</td>\n",
       "      <td>NaN</td>\n",
       "      <td>0.236226</td>\n",
       "      <td>0.424776</td>\n",
       "      <td>0</td>\n",
       "      <td>0</td>\n",
       "      <td>0</td>\n",
       "      <td>0</td>\n",
       "      <td>1</td>\n",
       "    </tr>\n",
       "  </tbody>\n",
       "</table>\n",
       "</div>"
      ],
      "text/plain": [
       "                count unique                  top   freq      mean       std  \\\n",
       "Age             16281     73                   35    461       NaN       NaN   \n",
       "Workclass       15318      8              Private  11210       NaN       NaN   \n",
       "fnlwgt          16281    NaN                  NaN    NaN    189436    105715   \n",
       "Education       16281     16              HS-grad   5283       NaN       NaN   \n",
       "Education_Num   16281    NaN                  NaN    NaN   10.0729   2.56755   \n",
       "Martial_Status  16281      7   Married-civ-spouse   7403       NaN       NaN   \n",
       "Occupation      15315     14       Prof-specialty   2032       NaN       NaN   \n",
       "Relationship    16281      6              Husband   6523       NaN       NaN   \n",
       "Race            16281      5                White  13946       NaN       NaN   \n",
       "Sex             16281      2                 Male  10860       NaN       NaN   \n",
       "Capital_Gain    16281    NaN                  NaN    NaN   1081.91   7583.94   \n",
       "Capital_Loss    16281    NaN                  NaN    NaN   87.8993   403.105   \n",
       "Hours_per_week  16281    NaN                  NaN    NaN   40.3922   12.4793   \n",
       "Country         16007     40        United-States  14662       NaN       NaN   \n",
       "Target          16281    NaN                  NaN    NaN  0.236226  0.424776   \n",
       "\n",
       "                  min     25%     50%     75%         max  \n",
       "Age               NaN     NaN     NaN     NaN         NaN  \n",
       "Workclass         NaN     NaN     NaN     NaN         NaN  \n",
       "fnlwgt          13492  116736  177831  238384  1.4904e+06  \n",
       "Education         NaN     NaN     NaN     NaN         NaN  \n",
       "Education_Num       1       9      10      12          16  \n",
       "Martial_Status    NaN     NaN     NaN     NaN         NaN  \n",
       "Occupation        NaN     NaN     NaN     NaN         NaN  \n",
       "Relationship      NaN     NaN     NaN     NaN         NaN  \n",
       "Race              NaN     NaN     NaN     NaN         NaN  \n",
       "Sex               NaN     NaN     NaN     NaN         NaN  \n",
       "Capital_Gain        0       0       0       0       99999  \n",
       "Capital_Loss        0       0       0       0        3770  \n",
       "Hours_per_week      1      40      40      45          99  \n",
       "Country           NaN     NaN     NaN     NaN         NaN  \n",
       "Target              0       0       0       0           1  "
      ]
     },
     "execution_count": 25,
     "metadata": {},
     "output_type": "execute_result"
    }
   ],
   "source": [
    "data_test.describe(include='all').T"
   ]
  },
  {
   "cell_type": "code",
   "execution_count": 26,
   "metadata": {},
   "outputs": [
    {
     "data": {
      "text/plain": [
       "0    24720\n",
       "1     7841\n",
       "Name: Target, dtype: int64"
      ]
     },
     "execution_count": 26,
     "metadata": {},
     "output_type": "execute_result"
    }
   ],
   "source": [
    "data_train['Target'].value_counts()"
   ]
  },
  {
   "cell_type": "code",
   "execution_count": 27,
   "metadata": {},
   "outputs": [
    {
     "data": {
      "image/png": "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\n",
      "text/plain": [
       "<Figure size 1800x1080 with 15 Axes>"
      ]
     },
     "metadata": {
      "needs_background": "light"
     },
     "output_type": "display_data"
    }
   ],
   "source": [
    "fig = plt.figure(figsize=(25, 15))\n",
    "cols = 5\n",
    "rows = np.ceil(float(data_train.shape[1]) / cols)\n",
    "for i, column in enumerate(data_train.columns):\n",
    "    ax = fig.add_subplot(rows, cols, i + 1)\n",
    "    ax.set_title(column)\n",
    "    if data_train.dtypes[column] == np.object:\n",
    "        data_train[column].value_counts().plot(kind=\"bar\", axes=ax)\n",
    "    else:\n",
    "        data_train[column].hist(axes=ax)\n",
    "        plt.xticks(rotation=\"vertical\")\n",
    "plt.subplots_adjust(hspace=0.7, wspace=0.2)"
   ]
  },
  {
   "cell_type": "markdown",
   "metadata": {},
   "source": [
    "#### Checking data types"
   ]
  },
  {
   "cell_type": "code",
   "execution_count": 28,
   "metadata": {},
   "outputs": [
    {
     "data": {
      "text/plain": [
       "Age                int64\n",
       "Workclass         object\n",
       "fnlwgt             int64\n",
       "Education         object\n",
       "Education_Num      int64\n",
       "Martial_Status    object\n",
       "Occupation        object\n",
       "Relationship      object\n",
       "Race              object\n",
       "Sex               object\n",
       "Capital_Gain       int64\n",
       "Capital_Loss       int64\n",
       "Hours_per_week     int64\n",
       "Country           object\n",
       "Target             int64\n",
       "dtype: object"
      ]
     },
     "execution_count": 28,
     "metadata": {},
     "output_type": "execute_result"
    }
   ],
   "source": [
    "data_train.dtypes"
   ]
  },
  {
   "cell_type": "code",
   "execution_count": 29,
   "metadata": {},
   "outputs": [
    {
     "data": {
      "text/plain": [
       "Age                object\n",
       "Workclass          object\n",
       "fnlwgt            float64\n",
       "Education          object\n",
       "Education_Num     float64\n",
       "Martial_Status     object\n",
       "Occupation         object\n",
       "Relationship       object\n",
       "Race               object\n",
       "Sex                object\n",
       "Capital_Gain      float64\n",
       "Capital_Loss      float64\n",
       "Hours_per_week    float64\n",
       "Country            object\n",
       "Target              int64\n",
       "dtype: object"
      ]
     },
     "execution_count": 29,
     "metadata": {},
     "output_type": "execute_result"
    }
   ],
   "source": [
    "data_test.dtypes"
   ]
  },
  {
   "cell_type": "markdown",
   "metadata": {},
   "source": [
    "As we see, in the test data, age is treated as type **object**. We need to fix this."
   ]
  },
  {
   "cell_type": "code",
   "execution_count": 30,
   "metadata": {},
   "outputs": [],
   "source": [
    "data_test['Age'] = data_test['Age'].astype(int)"
   ]
  },
  {
   "cell_type": "markdown",
   "metadata": {},
   "source": [
    "Also we'll cast all **float** features to **int** type to keep types consistent between our train and test data."
   ]
  },
  {
   "cell_type": "code",
   "execution_count": 31,
   "metadata": {},
   "outputs": [],
   "source": [
    "data_test['fnlwgt'] = data_test['fnlwgt'].astype(int)\n",
    "data_test['Education_Num'] = data_test['Education_Num'].astype(int)\n",
    "data_test['Capital_Gain'] = data_test['Capital_Gain'].astype(int)\n",
    "data_test['Capital_Loss'] = data_test['Capital_Loss'].astype(int)\n",
    "data_test['Hours_per_week'] = data_test['Hours_per_week'].astype(int)"
   ]
  },
  {
   "cell_type": "markdown",
   "metadata": {},
   "source": [
    "#### Fill in missing data for continuous features with their median values, for categorical features with their mode."
   ]
  },
  {
   "cell_type": "code",
   "execution_count": 32,
   "metadata": {},
   "outputs": [
    {
     "name": "stdout",
     "output_type": "stream",
     "text": [
      "<class 'pandas.core.frame.DataFrame'>\n",
      "RangeIndex: 32561 entries, 0 to 32560\n",
      "Data columns (total 15 columns):\n",
      "Age               32561 non-null int64\n",
      "Workclass         30725 non-null object\n",
      "fnlwgt            32561 non-null int64\n",
      "Education         32561 non-null object\n",
      "Education_Num     32561 non-null int64\n",
      "Martial_Status    32561 non-null object\n",
      "Occupation        30718 non-null object\n",
      "Relationship      32561 non-null object\n",
      "Race              32561 non-null object\n",
      "Sex               32561 non-null object\n",
      "Capital_Gain      32561 non-null int64\n",
      "Capital_Loss      32561 non-null int64\n",
      "Hours_per_week    32561 non-null int64\n",
      "Country           31978 non-null object\n",
      "Target            32561 non-null int64\n",
      "dtypes: int64(7), object(8)\n",
      "memory usage: 3.7+ MB\n"
     ]
    }
   ],
   "source": [
    "# we see some missing values\n",
    "data_train.info()"
   ]
  },
  {
   "cell_type": "code",
   "execution_count": 33,
   "metadata": {},
   "outputs": [
    {
     "name": "stdout",
     "output_type": "stream",
     "text": [
      "categorical_columns: ['Workclass', 'Education', 'Martial_Status', 'Occupation', 'Relationship', 'Race', 'Sex', 'Country']\n",
      "numerical_columns: ['Age', 'fnlwgt', 'Education_Num', 'Capital_Gain', 'Capital_Loss', 'Hours_per_week', 'Target']\n"
     ]
    }
   ],
   "source": [
    "# choose categorical and continuous features from data\n",
    "\n",
    "categorical_columns = [c for c in data_train.columns \n",
    "                       if data_train[c].dtype.name == 'object']\n",
    "numerical_columns = [c for c in data_train.columns \n",
    "                     if data_train[c].dtype.name != 'object']\n",
    "\n",
    "print('categorical_columns:', categorical_columns)\n",
    "print('numerical_columns:', numerical_columns)"
   ]
  },
  {
   "cell_type": "code",
   "execution_count": 34,
   "metadata": {},
   "outputs": [],
   "source": [
    "# fill missing data\n",
    "\n",
    "for c in categorical_columns:\n",
    "    data_train[c].fillna(data_train[c].mode()[0], inplace=True)\n",
    "    data_test[c].fillna(data_train[c].mode()[0], inplace=True)\n",
    "    \n",
    "for c in numerical_columns:\n",
    "    data_train[c].fillna(data_train[c].median(), inplace=True)\n",
    "    data_test[c].fillna(data_train[c].median(), inplace=True)"
   ]
  },
  {
   "cell_type": "code",
   "execution_count": 35,
   "metadata": {},
   "outputs": [
    {
     "name": "stdout",
     "output_type": "stream",
     "text": [
      "<class 'pandas.core.frame.DataFrame'>\n",
      "RangeIndex: 32561 entries, 0 to 32560\n",
      "Data columns (total 15 columns):\n",
      "Age               32561 non-null int64\n",
      "Workclass         32561 non-null object\n",
      "fnlwgt            32561 non-null int64\n",
      "Education         32561 non-null object\n",
      "Education_Num     32561 non-null int64\n",
      "Martial_Status    32561 non-null object\n",
      "Occupation        32561 non-null object\n",
      "Relationship      32561 non-null object\n",
      "Race              32561 non-null object\n",
      "Sex               32561 non-null object\n",
      "Capital_Gain      32561 non-null int64\n",
      "Capital_Loss      32561 non-null int64\n",
      "Hours_per_week    32561 non-null int64\n",
      "Country           32561 non-null object\n",
      "Target            32561 non-null int64\n",
      "dtypes: int64(7), object(8)\n",
      "memory usage: 3.7+ MB\n"
     ]
    }
   ],
   "source": [
    "# no more missing values\n",
    "data_train.info()"
   ]
  },
  {
   "cell_type": "markdown",
   "metadata": {},
   "source": [
    "We'll dummy code some categorical features: **Workclass**, **Education**, **Martial_Status**, **Occupation**, **Relationship**, **Race**, **Sex**, **Country**. It can be done via pandas method **get_dummies**"
   ]
  },
  {
   "cell_type": "code",
   "execution_count": 36,
   "metadata": {},
   "outputs": [],
   "source": [
    "data_train = pd.concat([data_train[numerical_columns],\n",
    "    pd.get_dummies(data_train[categorical_columns])], axis=1)\n",
    "\n",
    "data_test = pd.concat([data_test[numerical_columns],\n",
    "    pd.get_dummies(data_test[categorical_columns])], axis=1)"
   ]
  },
  {
   "cell_type": "code",
   "execution_count": 37,
   "metadata": {},
   "outputs": [
    {
     "data": {
      "text/plain": [
       "{'Country_ Holand-Netherlands'}"
      ]
     },
     "execution_count": 37,
     "metadata": {},
     "output_type": "execute_result"
    }
   ],
   "source": [
    "set(data_train.columns) - set(data_test.columns)"
   ]
  },
  {
   "cell_type": "code",
   "execution_count": 38,
   "metadata": {},
   "outputs": [
    {
     "data": {
      "text/plain": [
       "((32561, 106), (16281, 105))"
      ]
     },
     "execution_count": 38,
     "metadata": {},
     "output_type": "execute_result"
    }
   ],
   "source": [
    "data_train.shape, data_test.shape"
   ]
  },
  {
   "cell_type": "markdown",
   "metadata": {},
   "source": [
    "#### There is no Holland in the test data. Create new zero-valued feature."
   ]
  },
  {
   "cell_type": "code",
   "execution_count": 39,
   "metadata": {},
   "outputs": [],
   "source": [
    "data_test['Country_ Holand-Netherlands'] = 0"
   ]
  },
  {
   "cell_type": "code",
   "execution_count": 40,
   "metadata": {},
   "outputs": [
    {
     "data": {
      "text/plain": [
       "set()"
      ]
     },
     "execution_count": 40,
     "metadata": {},
     "output_type": "execute_result"
    }
   ],
   "source": [
    "set(data_train.columns) - set(data_test.columns)"
   ]
  },
  {
   "cell_type": "code",
   "execution_count": 41,
   "metadata": {},
   "outputs": [
    {
     "data": {
      "text/html": [
       "<div>\n",
       "<style scoped>\n",
       "    .dataframe tbody tr th:only-of-type {\n",
       "        vertical-align: middle;\n",
       "    }\n",
       "\n",
       "    .dataframe tbody tr th {\n",
       "        vertical-align: top;\n",
       "    }\n",
       "\n",
       "    .dataframe thead th {\n",
       "        text-align: right;\n",
       "    }\n",
       "</style>\n",
       "<table border=\"1\" class=\"dataframe\">\n",
       "  <thead>\n",
       "    <tr style=\"text-align: right;\">\n",
       "      <th></th>\n",
       "      <th>Age</th>\n",
       "      <th>fnlwgt</th>\n",
       "      <th>Education_Num</th>\n",
       "      <th>Capital_Gain</th>\n",
       "      <th>Capital_Loss</th>\n",
       "      <th>Hours_per_week</th>\n",
       "      <th>Target</th>\n",
       "      <th>Workclass_ Federal-gov</th>\n",
       "      <th>Workclass_ Local-gov</th>\n",
       "      <th>Workclass_ Never-worked</th>\n",
       "      <th>...</th>\n",
       "      <th>Country_ Portugal</th>\n",
       "      <th>Country_ Puerto-Rico</th>\n",
       "      <th>Country_ Scotland</th>\n",
       "      <th>Country_ South</th>\n",
       "      <th>Country_ Taiwan</th>\n",
       "      <th>Country_ Thailand</th>\n",
       "      <th>Country_ Trinadad&amp;Tobago</th>\n",
       "      <th>Country_ United-States</th>\n",
       "      <th>Country_ Vietnam</th>\n",
       "      <th>Country_ Yugoslavia</th>\n",
       "    </tr>\n",
       "  </thead>\n",
       "  <tbody>\n",
       "    <tr>\n",
       "      <th>0</th>\n",
       "      <td>39</td>\n",
       "      <td>77516</td>\n",
       "      <td>13</td>\n",
       "      <td>2174</td>\n",
       "      <td>0</td>\n",
       "      <td>40</td>\n",
       "      <td>0</td>\n",
       "      <td>0</td>\n",
       "      <td>0</td>\n",
       "      <td>0</td>\n",
       "      <td>...</td>\n",
       "      <td>0</td>\n",
       "      <td>0</td>\n",
       "      <td>0</td>\n",
       "      <td>0</td>\n",
       "      <td>0</td>\n",
       "      <td>0</td>\n",
       "      <td>0</td>\n",
       "      <td>1</td>\n",
       "      <td>0</td>\n",
       "      <td>0</td>\n",
       "    </tr>\n",
       "    <tr>\n",
       "      <th>1</th>\n",
       "      <td>50</td>\n",
       "      <td>83311</td>\n",
       "      <td>13</td>\n",
       "      <td>0</td>\n",
       "      <td>0</td>\n",
       "      <td>13</td>\n",
       "      <td>0</td>\n",
       "      <td>0</td>\n",
       "      <td>0</td>\n",
       "      <td>0</td>\n",
       "      <td>...</td>\n",
       "      <td>0</td>\n",
       "      <td>0</td>\n",
       "      <td>0</td>\n",
       "      <td>0</td>\n",
       "      <td>0</td>\n",
       "      <td>0</td>\n",
       "      <td>0</td>\n",
       "      <td>1</td>\n",
       "      <td>0</td>\n",
       "      <td>0</td>\n",
       "    </tr>\n",
       "  </tbody>\n",
       "</table>\n",
       "<p>2 rows × 106 columns</p>\n",
       "</div>"
      ],
      "text/plain": [
       "   Age  fnlwgt  Education_Num  Capital_Gain  Capital_Loss  Hours_per_week  \\\n",
       "0   39   77516             13          2174             0              40   \n",
       "1   50   83311             13             0             0              13   \n",
       "\n",
       "   Target  Workclass_ Federal-gov  Workclass_ Local-gov  \\\n",
       "0       0                       0                     0   \n",
       "1       0                       0                     0   \n",
       "\n",
       "   Workclass_ Never-worked         ...           Country_ Portugal  \\\n",
       "0                        0         ...                           0   \n",
       "1                        0         ...                           0   \n",
       "\n",
       "   Country_ Puerto-Rico  Country_ Scotland  Country_ South  Country_ Taiwan  \\\n",
       "0                     0                  0               0                0   \n",
       "1                     0                  0               0                0   \n",
       "\n",
       "   Country_ Thailand  Country_ Trinadad&Tobago  Country_ United-States  \\\n",
       "0                  0                         0                       1   \n",
       "1                  0                         0                       1   \n",
       "\n",
       "   Country_ Vietnam  Country_ Yugoslavia  \n",
       "0                 0                    0  \n",
       "1                 0                    0  \n",
       "\n",
       "[2 rows x 106 columns]"
      ]
     },
     "execution_count": 41,
     "metadata": {},
     "output_type": "execute_result"
    }
   ],
   "source": [
    "data_train.head(2)"
   ]
  },
  {
   "cell_type": "code",
   "execution_count": 42,
   "metadata": {},
   "outputs": [
    {
     "data": {
      "text/html": [
       "<div>\n",
       "<style scoped>\n",
       "    .dataframe tbody tr th:only-of-type {\n",
       "        vertical-align: middle;\n",
       "    }\n",
       "\n",
       "    .dataframe tbody tr th {\n",
       "        vertical-align: top;\n",
       "    }\n",
       "\n",
       "    .dataframe thead th {\n",
       "        text-align: right;\n",
       "    }\n",
       "</style>\n",
       "<table border=\"1\" class=\"dataframe\">\n",
       "  <thead>\n",
       "    <tr style=\"text-align: right;\">\n",
       "      <th></th>\n",
       "      <th>Age</th>\n",
       "      <th>fnlwgt</th>\n",
       "      <th>Education_Num</th>\n",
       "      <th>Capital_Gain</th>\n",
       "      <th>Capital_Loss</th>\n",
       "      <th>Hours_per_week</th>\n",
       "      <th>Target</th>\n",
       "      <th>Workclass_ Federal-gov</th>\n",
       "      <th>Workclass_ Local-gov</th>\n",
       "      <th>Workclass_ Never-worked</th>\n",
       "      <th>...</th>\n",
       "      <th>Country_ Puerto-Rico</th>\n",
       "      <th>Country_ Scotland</th>\n",
       "      <th>Country_ South</th>\n",
       "      <th>Country_ Taiwan</th>\n",
       "      <th>Country_ Thailand</th>\n",
       "      <th>Country_ Trinadad&amp;Tobago</th>\n",
       "      <th>Country_ United-States</th>\n",
       "      <th>Country_ Vietnam</th>\n",
       "      <th>Country_ Yugoslavia</th>\n",
       "      <th>Country_ Holand-Netherlands</th>\n",
       "    </tr>\n",
       "  </thead>\n",
       "  <tbody>\n",
       "    <tr>\n",
       "      <th>1</th>\n",
       "      <td>25</td>\n",
       "      <td>226802</td>\n",
       "      <td>7</td>\n",
       "      <td>0</td>\n",
       "      <td>0</td>\n",
       "      <td>40</td>\n",
       "      <td>0</td>\n",
       "      <td>0</td>\n",
       "      <td>0</td>\n",
       "      <td>0</td>\n",
       "      <td>...</td>\n",
       "      <td>0</td>\n",
       "      <td>0</td>\n",
       "      <td>0</td>\n",
       "      <td>0</td>\n",
       "      <td>0</td>\n",
       "      <td>0</td>\n",
       "      <td>1</td>\n",
       "      <td>0</td>\n",
       "      <td>0</td>\n",
       "      <td>0</td>\n",
       "    </tr>\n",
       "    <tr>\n",
       "      <th>2</th>\n",
       "      <td>38</td>\n",
       "      <td>89814</td>\n",
       "      <td>9</td>\n",
       "      <td>0</td>\n",
       "      <td>0</td>\n",
       "      <td>50</td>\n",
       "      <td>0</td>\n",
       "      <td>0</td>\n",
       "      <td>0</td>\n",
       "      <td>0</td>\n",
       "      <td>...</td>\n",
       "      <td>0</td>\n",
       "      <td>0</td>\n",
       "      <td>0</td>\n",
       "      <td>0</td>\n",
       "      <td>0</td>\n",
       "      <td>0</td>\n",
       "      <td>1</td>\n",
       "      <td>0</td>\n",
       "      <td>0</td>\n",
       "      <td>0</td>\n",
       "    </tr>\n",
       "  </tbody>\n",
       "</table>\n",
       "<p>2 rows × 106 columns</p>\n",
       "</div>"
      ],
      "text/plain": [
       "   Age  fnlwgt  Education_Num  Capital_Gain  Capital_Loss  Hours_per_week  \\\n",
       "1   25  226802              7             0             0              40   \n",
       "2   38   89814              9             0             0              50   \n",
       "\n",
       "   Target  Workclass_ Federal-gov  Workclass_ Local-gov  \\\n",
       "1       0                       0                     0   \n",
       "2       0                       0                     0   \n",
       "\n",
       "   Workclass_ Never-worked             ...               Country_ Puerto-Rico  \\\n",
       "1                        0             ...                                  0   \n",
       "2                        0             ...                                  0   \n",
       "\n",
       "   Country_ Scotland  Country_ South  Country_ Taiwan  Country_ Thailand  \\\n",
       "1                  0               0                0                  0   \n",
       "2                  0               0                0                  0   \n",
       "\n",
       "   Country_ Trinadad&Tobago  Country_ United-States  Country_ Vietnam  \\\n",
       "1                         0                       1                 0   \n",
       "2                         0                       1                 0   \n",
       "\n",
       "   Country_ Yugoslavia  Country_ Holand-Netherlands  \n",
       "1                    0                            0  \n",
       "2                    0                            0  \n",
       "\n",
       "[2 rows x 106 columns]"
      ]
     },
     "execution_count": 42,
     "metadata": {},
     "output_type": "execute_result"
    }
   ],
   "source": [
    "data_test.head(2)"
   ]
  },
  {
   "cell_type": "code",
   "execution_count": 43,
   "metadata": {},
   "outputs": [],
   "source": [
    "X_train = data_train.drop(['Target'], axis=1)\n",
    "y_train = data_train['Target']\n",
    "\n",
    "X_test = data_test.drop(['Target'], axis=1)\n",
    "y_test = data_test['Target']"
   ]
  },
  {
   "cell_type": "markdown",
   "metadata": {},
   "source": [
    "### 3.1 Decision tree without parameter tuning"
   ]
  },
  {
   "cell_type": "markdown",
   "metadata": {},
   "source": [
    "Train a decision tree **(DecisionTreeClassifier)** with a maximum depth of 3, and evaluate the accuracy metric on the test data. Use parameter **random_state = 17** for results reproducibility."
   ]
  },
  {
   "cell_type": "code",
   "execution_count": 44,
   "metadata": {},
   "outputs": [
    {
     "data": {
      "text/plain": [
       "DecisionTreeClassifier(class_weight=None, criterion='gini', max_depth=3,\n",
       "            max_features=None, max_leaf_nodes=None,\n",
       "            min_impurity_decrease=0.0, min_impurity_split=None,\n",
       "            min_samples_leaf=1, min_samples_split=2,\n",
       "            min_weight_fraction_leaf=0.0, presort=False, random_state=17,\n",
       "            splitter='best')"
      ]
     },
     "execution_count": 44,
     "metadata": {},
     "output_type": "execute_result"
    }
   ],
   "source": [
    "tree = DecisionTreeClassifier(max_depth=3, random_state=17)\n",
    "tree.fit(X_train, y_train)"
   ]
  },
  {
   "cell_type": "markdown",
   "metadata": {},
   "source": [
    "Make a prediction with the trained model on the test data."
   ]
  },
  {
   "cell_type": "code",
   "execution_count": 45,
   "metadata": {},
   "outputs": [],
   "source": [
    "tree_predictions = tree.predict(X_test) "
   ]
  },
  {
   "cell_type": "code",
   "execution_count": 46,
   "metadata": {},
   "outputs": [
    {
     "data": {
      "text/plain": [
       "0.8447884036607088"
      ]
     },
     "execution_count": 46,
     "metadata": {},
     "output_type": "execute_result"
    }
   ],
   "source": [
    "accuracy_score(y_test,tree_predictions)"
   ]
  },
  {
   "cell_type": "markdown",
   "metadata": {},
   "source": [
    "6\\. What is the test set accuracy of a decision tree with maximum tree depth of 3 and **random_state = 17**?"
   ]
  },
  {
   "cell_type": "markdown",
   "metadata": {},
   "source": [
    "### 3.2 Decision tree with parameter tuning"
   ]
  },
  {
   "cell_type": "markdown",
   "metadata": {},
   "source": [
    "Train a decision tree **(DecisionTreeClassifier, random_state = 17).** Find the optimal maximum depth using 5-fold cross-validation **(GridSearchCV)**."
   ]
  },
  {
   "cell_type": "code",
   "execution_count": 47,
   "metadata": {},
   "outputs": [
    {
     "name": "stdout",
     "output_type": "stream",
     "text": [
      "CPU times: user 13 s, sys: 446 ms, total: 13.4 s\n",
      "Wall time: 6.99 s\n"
     ]
    }
   ],
   "source": [
    "%%time\n",
    "tree_params = {'max_depth': range(2, 11)}\n",
    "\n",
    "locally_best_tree = GridSearchCV(DecisionTreeClassifier(random_state=17),\n",
    "                                 tree_params, cv=5)                  \n",
    "\n",
    "locally_best_tree.fit(X_train, y_train)"
   ]
  },
  {
   "cell_type": "code",
   "execution_count": 48,
   "metadata": {},
   "outputs": [
    {
     "name": "stdout",
     "output_type": "stream",
     "text": [
      "Best params: {'max_depth': 9}\n",
      "Best cross validaton score 0.8565768864592611\n"
     ]
    }
   ],
   "source": [
    "print(\"Best params:\", locally_best_tree.best_params_)\n",
    "print(\"Best cross validaton score\", locally_best_tree.best_score_)"
   ]
  },
  {
   "cell_type": "markdown",
   "metadata": {},
   "source": [
    "Train a decision tree with maximum depth of 9 (it is the best **max_depth** in my case), and compute the test set accuracy. Use parameter **random_state = 17** for reproducibility."
   ]
  },
  {
   "cell_type": "code",
   "execution_count": 49,
   "metadata": {},
   "outputs": [
    {
     "data": {
      "text/plain": [
       "0.847798046803022"
      ]
     },
     "execution_count": 49,
     "metadata": {},
     "output_type": "execute_result"
    }
   ],
   "source": [
    "tuned_tree = DecisionTreeClassifier(max_depth=9, random_state=17)\n",
    "tuned_tree.fit(X_train, y_train)\n",
    "tuned_tree_predictions = tuned_tree.predict(X_test)\n",
    "accuracy_score(y_test, tuned_tree_predictions)"
   ]
  },
  {
   "cell_type": "markdown",
   "metadata": {},
   "source": [
    "7\\. What is the test set accuracy of a decision tree with maximum depth of 9 and **random_state = 17**?"
   ]
  },
  {
   "cell_type": "markdown",
   "metadata": {},
   "source": [
    "<font color='red'>Answer:</font> 0.848"
   ]
  },
  {
   "cell_type": "markdown",
   "metadata": {},
   "source": [
    "### 3.3 (Optional) Random forest without parameter tuning"
   ]
  },
  {
   "cell_type": "markdown",
   "metadata": {},
   "source": [
    "Let's take a sneak peek of upcoming lectures and try to use a random forest for our task. For now, you can imagine a random forest as a bunch of decision trees, trained on slightly different subsets of the training data."
   ]
  },
  {
   "cell_type": "markdown",
   "metadata": {},
   "source": [
    "Train a random forest **(RandomForestClassifier)**. Set the number of trees to 100 and use **random_state = 17**."
   ]
  },
  {
   "cell_type": "code",
   "execution_count": 50,
   "metadata": {},
   "outputs": [
    {
     "data": {
      "text/plain": [
       "RandomForestClassifier(bootstrap=True, class_weight=None, criterion='gini',\n",
       "            max_depth=None, max_features='auto', max_leaf_nodes=None,\n",
       "            min_impurity_decrease=0.0, min_impurity_split=None,\n",
       "            min_samples_leaf=1, min_samples_split=2,\n",
       "            min_weight_fraction_leaf=0.0, n_estimators=100, n_jobs=None,\n",
       "            oob_score=False, random_state=17, verbose=0, warm_start=False)"
      ]
     },
     "execution_count": 50,
     "metadata": {},
     "output_type": "execute_result"
    }
   ],
   "source": [
    "rf = RandomForestClassifier(n_estimators=100, random_state=17)\n",
    "rf.fit(X_train, y_train)"
   ]
  },
  {
   "cell_type": "markdown",
   "metadata": {},
   "source": [
    "Perfrom cross-validation."
   ]
  },
  {
   "cell_type": "code",
   "execution_count": 51,
   "metadata": {},
   "outputs": [
    {
     "name": "stdout",
     "output_type": "stream",
     "text": [
      "CPU times: user 9.21 s, sys: 67.8 ms, total: 9.27 s\n",
      "Wall time: 8.66 s\n"
     ]
    }
   ],
   "source": [
    "%%time\n",
    "cv_scores = cross_val_score(rf, X_train, y_train, cv=3)"
   ]
  },
  {
   "cell_type": "code",
   "execution_count": 52,
   "metadata": {},
   "outputs": [
    {
     "data": {
      "text/plain": [
       "(array([0.85194398, 0.85572139, 0.859578  ]), 0.8557477912289437)"
      ]
     },
     "execution_count": 52,
     "metadata": {},
     "output_type": "execute_result"
    }
   ],
   "source": [
    "cv_scores, cv_scores.mean()"
   ]
  },
  {
   "cell_type": "markdown",
   "metadata": {},
   "source": [
    "Make predictions for the test data."
   ]
  },
  {
   "cell_type": "code",
   "execution_count": 53,
   "metadata": {},
   "outputs": [],
   "source": [
    "forest_predictions = rf.predict(X_test) "
   ]
  },
  {
   "cell_type": "code",
   "execution_count": 54,
   "metadata": {},
   "outputs": [
    {
     "data": {
      "text/plain": [
       "0.8585467723112831"
      ]
     },
     "execution_count": 54,
     "metadata": {},
     "output_type": "execute_result"
    }
   ],
   "source": [
    "accuracy_score(y_test,forest_predictions)"
   ]
  },
  {
   "cell_type": "markdown",
   "metadata": {},
   "source": [
    "### 3.4 (Optional) Random forest with parameter tuning"
   ]
  },
  {
   "cell_type": "markdown",
   "metadata": {},
   "source": [
    "Train a random forest **(RandomForestClassifier)** of 10 trees. Tune the maximum depth and maximum number of features for each tree using **GridSearchCV**. "
   ]
  },
  {
   "cell_type": "code",
   "execution_count": 55,
   "metadata": {},
   "outputs": [
    {
     "name": "stdout",
     "output_type": "stream",
     "text": [
      "Fitting 3 folds for each of 30 candidates, totalling 90 fits\n"
     ]
    },
    {
     "name": "stderr",
     "output_type": "stream",
     "text": [
      "[Parallel(n_jobs=1)]: Using backend SequentialBackend with 1 concurrent workers.\n",
      "[Parallel(n_jobs=1)]: Done  90 out of  90 | elapsed:   58.3s finished\n"
     ]
    },
    {
     "data": {
      "text/plain": [
       "GridSearchCV(cv=3, error_score='raise-deprecating',\n",
       "       estimator=RandomForestClassifier(bootstrap=True, class_weight=None, criterion='gini',\n",
       "            max_depth=None, max_features='auto', max_leaf_nodes=None,\n",
       "            min_impurity_decrease=0.0, min_impurity_split=None,\n",
       "            min_samples_leaf=1, min_samples_split=2,\n",
       "            min_weight_fraction_leaf=0.0, n_estimators=10, n_jobs=-1,\n",
       "            oob_score=False, random_state=17, verbose=0, warm_start=False),\n",
       "       fit_params=None, iid='warn', n_jobs=None,\n",
       "       param_grid={'max_depth': range(10, 16), 'max_features': range(5, 105, 20)},\n",
       "       pre_dispatch='2*n_jobs', refit=True, return_train_score='warn',\n",
       "       scoring=None, verbose=1)"
      ]
     },
     "execution_count": 55,
     "metadata": {},
     "output_type": "execute_result"
    }
   ],
   "source": [
    "forest_params = {'max_depth': range(10, 16),\n",
    "                 'max_features': range(5, 105, 20)}\n",
    "\n",
    "locally_best_forest = GridSearchCV(RandomForestClassifier(n_estimators=10, random_state=17,\n",
    "                                                         n_jobs=-1),\n",
    "                                   forest_params, cv=3, verbose=1)\n",
    "\n",
    "locally_best_forest.fit(X_train, y_train)"
   ]
  },
  {
   "cell_type": "code",
   "execution_count": 56,
   "metadata": {},
   "outputs": [
    {
     "name": "stdout",
     "output_type": "stream",
     "text": [
      "Best params: {'max_depth': 14, 'max_features': 45}\n",
      "Best cross validaton score 0.8619821258560855\n"
     ]
    }
   ],
   "source": [
    "print(\"Best params:\", locally_best_forest.best_params_)\n",
    "print(\"Best cross validaton score\", locally_best_forest.best_score_)"
   ]
  },
  {
   "cell_type": "markdown",
   "metadata": {},
   "source": [
    "Make predictions for the test data."
   ]
  },
  {
   "cell_type": "code",
   "execution_count": 57,
   "metadata": {},
   "outputs": [
    {
     "data": {
      "text/plain": [
       "0.8611264664332657"
      ]
     },
     "execution_count": 57,
     "metadata": {},
     "output_type": "execute_result"
    }
   ],
   "source": [
    "tuned_forest_predictions = locally_best_forest.predict(X_test) \n",
    "accuracy_score(y_test,tuned_forest_predictions)"
   ]
  },
  {
   "cell_type": "markdown",
   "metadata": {},
   "source": [
    "Wow! Looks that with some tuning we made a forest of 10 trees perform better than a forest of 100 trees with default hyperparameter values. "
   ]
  }
 ],
 "metadata": {
  "kernelspec": {
   "display_name": "Python 3",
   "language": "python",
   "name": "python3"
  },
  "language_info": {
   "codemirror_mode": {
    "name": "ipython",
    "version": 3
   },
   "file_extension": ".py",
   "mimetype": "text/x-python",
   "name": "python",
   "nbconvert_exporter": "python",
   "pygments_lexer": "ipython3",
   "version": "3.7.1"
  }
 },
 "nbformat": 4,
 "nbformat_minor": 2
}
>>>>>>> 90bf0400b0ee8ebde0e182ceb2fdbada72ccb352
