{
  "cells": [
    {
      "cell_type": "markdown",
      "metadata": {
        "pycharm": {}
      },
      "source": [
        "\u003ccenter\u003e\n",
        "\u003cimg src\u003d\"../../img/ods_stickers.jpg\" /\u003e\n",
        "    \n",
        "## [mlcourse.ai](https://mlcourse.ai) – Open Machine Learning Course \n",
        "Author: Arina Lopukhova (@erynn). Edited by [Yury Kashnitskiy](https://yorko.github.io) (@yorko) and Vadim Shestopalov (@vchulski). This material is subject to the terms and conditions of the [Creative Commons CC BY-NC-SA 4.0](https://creativecommons.org/licenses/by-nc-sa/4.0/) license. Free use is permitted for any non-commercial purpose."
      ]
    },
    {
      "cell_type": "markdown",
      "metadata": {
        "pycharm": {}
      },
      "source": [
        "# \u003ccenter\u003eAssignment #1. Fall 2019\n",
        "## \u003ccenter\u003eExploratory data analysis of Olympic games with Pandas\n",
        "    \n",
        "\u003cimg src\u003d\u0027../../img/olympic_logo.png\u0027 width\u003d50%\u003e"
      ]
    },
    {
      "cell_type": "markdown",
      "metadata": {
        "pycharm": {}
      },
      "source": [
        "Prior to working on the assignment, you\u0027d better check out the corresponding course material:\n",
        " - [Exploratory data analysis with Pandas](https://nbviewer.jupyter.org/github/Yorko/mlcourse_open/blob/master/jupyter_english/topic01_pandas_data_analysis/topic1_pandas_data_analysis.ipynb?flush_cache\u003dtrue), the same as an interactive web-based [Kaggle Kernel](https://www.kaggle.com/kashnitsky/topic-1-exploratory-data-analysis-with-pandas)\n",
        " - first lectures in mlcourse.ai [YouTube playlist ](https://www.youtube.com/watch?v\u003dQKTuw4PNOsU\u0026list\u003dPLVlY_7IJCMJeRfZ68eVfEcu-UcN9BbwiX) \n",
        " - you can also practice with demo assignments, which are simpler and already shared with solutions: [A1 demo](https://www.kaggle.com/kashnitsky/a1-demo-pandas-and-uci-adult-dataset), [solution](https://www.kaggle.com/kashnitsky/a1-demo-pandas-and-uci-adult-dataset-solution)\n",
        "\n",
        "### Your task is to:\n",
        " 1. write code and perform computations in the cells below\n",
        " 2. choose answers in the [webform](https://docs.google.com/forms/d/1JxhQ9Bg4OpM3E5N47ZuRbILgDuMRbvEnUbDMZK8L-NU). Solutions will be shared only with those who\u0027ve filled in this form \n",
        " 3. submit answers with some email and **remember it**! This will be your ID during the course. Specify your real full name in the form as well (no nicks allowed in the final top-100 [rating](https://mlcourse.ai/rating)). If in doubt, you can re-submit the form till the deadline for A1, no problem, but stick to only one email.\n",
        " \n",
        "### \u003ccenter\u003e Deadline for A1: 2019 September 15, 20:59 GMT (London time)\n",
        "    \n",
        "You\u0027ll get up to 10 credits for this assignment.\n",
        "\n",
        "### How to get help\n",
        "In [ODS Slack](https://opendatascience.slack.com) (if you still don\u0027t have access, fill in the [form](https://docs.google.com/forms/d/10HAN5huM996snUKjsNYyT_oOlm2uOsTKulKurb3oiNM/) mentioned on the mlcourse.ai main page), we have a channel **#mlcourse_ai_news** with announcements from the course team.\n",
        "You can discuss the course content freely in the **#mlcourse_ai** channel (we still have a huge Russian-speaking group, they have a separate channel **#mlcourse_ai_rus**).\n",
        "\n",
        "Here\u0027s how you reply in a thread (press this dialog icon to drill down into a thread):\n",
        "\n",
        "\u003cimg src\u003d\"../../img/start_a_thread.png\" /\u003e\n",
        "\n",
        "Please stick to special threads *a1_q1-5_fall2019* and *a1_q6-10_fall2019* in **#mlcourse_ai_news** for your questions on A1. Help each other without sharing correct code and answers. Our TA **Vadim @vchulski** is there to help (only in the mentioned thread, do not write to him directly).\n",
        "\n",
        "Lastly, you can save useful messages by pinning them, further you can find pinned items on the top, just below the channel name:\n",
        "\n",
        "\u003cimg src\u003d\"../../img/pinned_item.png\" /\u003e\n",
        "\n",
        "### Assignment \n",
        "__There are ten questions about 120 years of Olympic history in this task. Your task is to fill in the missing Python code and choose answers in [this web-form](https://docs.google.com/forms/d/1JxhQ9Bg4OpM3E5N47ZuRbILgDuMRbvEnUbDMZK8L-NU).__"
      ]
    },
    {
      "cell_type": "markdown",
      "metadata": {
        "pycharm": {}
      },
      "source": [
        "Download the file `athlete_events.csv` from [here](https://drive.google.com/file/d/1f5v6Z2ayc7h698FG_98wP5x1Y2zZQeox/view?usp\u003dsharing) (scraped by [rgriffin](https://www.randigriffin.com/) from www.sports-reference.com). The dataset has the following features:\n",
        "\n",
        "- __ID__ - Unique number for each athlete\n",
        "- __Name__ - Athlete\u0027s name\n",
        "- __Sex__ - M or F\n",
        "- __Age__ - Integer\n",
        "- __Height__ - In centimeters\n",
        "- __Weight__ - In kilograms\n",
        "- __Team__ - Team name\n",
        "- __NOC__ - National Olympic Committee 3-letter code\n",
        "- __Games__ - Year and season\n",
        "- __Year__ - Integer\n",
        "- __Season__ - Summer or Winter\n",
        "- __City__ - Host city\n",
        "- __Sport__ - Sport\n",
        "- __Event__ - Event\n",
        "- __Medal__ - Gold, Silver, Bronze, or NA"
      ]
    },
    {
      "cell_type": "code",
      "execution_count": 1,
      "metadata": {
        "pycharm": {}
      },
      "outputs": [],
      "source": [
        "import pandas as pd"
      ]
    },
    {
      "cell_type": "code",
      "execution_count": 2,
      "metadata": {
        "pycharm": {}
      },
      "outputs": [],
      "source": [
        "# Change the path to the dataset file if needed. \n",
        "PATH \u003d \u0027../../data/athlete_events.csv\u0027"
      ]
    },
    {
      "cell_type": "code",
      "execution_count": 3,
      "metadata": {
        "pycharm": {}
      },
      "outputs": [
        {
          "data": {
            "text/html": [
              "\u003cdiv\u003e\n",
              "\u003cstyle scoped\u003e\n",
              "    .dataframe tbody tr th:only-of-type {\n",
              "        vertical-align: middle;\n",
              "    }\n",
              "\n",
              "    .dataframe tbody tr th {\n",
              "        vertical-align: top;\n",
              "    }\n",
              "\n",
              "    .dataframe thead th {\n",
              "        text-align: right;\n",
              "    }\n",
              "\u003c/style\u003e\n",
              "\u003ctable border\u003d\"1\" class\u003d\"dataframe\"\u003e\n",
              "  \u003cthead\u003e\n",
              "    \u003ctr style\u003d\"text-align: right;\"\u003e\n",
              "      \u003cth\u003e\u003c/th\u003e\n",
              "      \u003cth\u003eID\u003c/th\u003e\n",
              "      \u003cth\u003eName\u003c/th\u003e\n",
              "      \u003cth\u003eSex\u003c/th\u003e\n",
              "      \u003cth\u003eAge\u003c/th\u003e\n",
              "      \u003cth\u003eHeight\u003c/th\u003e\n",
              "      \u003cth\u003eWeight\u003c/th\u003e\n",
              "      \u003cth\u003eTeam\u003c/th\u003e\n",
              "      \u003cth\u003eNOC\u003c/th\u003e\n",
              "      \u003cth\u003eGames\u003c/th\u003e\n",
              "      \u003cth\u003eYear\u003c/th\u003e\n",
              "      \u003cth\u003eSeason\u003c/th\u003e\n",
              "      \u003cth\u003eCity\u003c/th\u003e\n",
              "      \u003cth\u003eSport\u003c/th\u003e\n",
              "      \u003cth\u003eEvent\u003c/th\u003e\n",
              "      \u003cth\u003eMedal\u003c/th\u003e\n",
              "    \u003c/tr\u003e\n",
              "  \u003c/thead\u003e\n",
              "  \u003ctbody\u003e\n",
              "    \u003ctr\u003e\n",
              "      \u003cth\u003e0\u003c/th\u003e\n",
              "      \u003ctd\u003e1\u003c/td\u003e\n",
              "      \u003ctd\u003eA Dijiang\u003c/td\u003e\n",
              "      \u003ctd\u003eM\u003c/td\u003e\n",
              "      \u003ctd\u003e24.0\u003c/td\u003e\n",
              "      \u003ctd\u003e180.0\u003c/td\u003e\n",
              "      \u003ctd\u003e80.0\u003c/td\u003e\n",
              "      \u003ctd\u003eChina\u003c/td\u003e\n",
              "      \u003ctd\u003eCHN\u003c/td\u003e\n",
              "      \u003ctd\u003e1992 Summer\u003c/td\u003e\n",
              "      \u003ctd\u003e1992\u003c/td\u003e\n",
              "      \u003ctd\u003eSummer\u003c/td\u003e\n",
              "      \u003ctd\u003eBarcelona\u003c/td\u003e\n",
              "      \u003ctd\u003eBasketball\u003c/td\u003e\n",
              "      \u003ctd\u003eBasketball Men\u0027s Basketball\u003c/td\u003e\n",
              "      \u003ctd\u003eNaN\u003c/td\u003e\n",
              "    \u003c/tr\u003e\n",
              "    \u003ctr\u003e\n",
              "      \u003cth\u003e1\u003c/th\u003e\n",
              "      \u003ctd\u003e2\u003c/td\u003e\n",
              "      \u003ctd\u003eA Lamusi\u003c/td\u003e\n",
              "      \u003ctd\u003eM\u003c/td\u003e\n",
              "      \u003ctd\u003e23.0\u003c/td\u003e\n",
              "      \u003ctd\u003e170.0\u003c/td\u003e\n",
              "      \u003ctd\u003e60.0\u003c/td\u003e\n",
              "      \u003ctd\u003eChina\u003c/td\u003e\n",
              "      \u003ctd\u003eCHN\u003c/td\u003e\n",
              "      \u003ctd\u003e2012 Summer\u003c/td\u003e\n",
              "      \u003ctd\u003e2012\u003c/td\u003e\n",
              "      \u003ctd\u003eSummer\u003c/td\u003e\n",
              "      \u003ctd\u003eLondon\u003c/td\u003e\n",
              "      \u003ctd\u003eJudo\u003c/td\u003e\n",
              "      \u003ctd\u003eJudo Men\u0027s Extra-Lightweight\u003c/td\u003e\n",
              "      \u003ctd\u003eNaN\u003c/td\u003e\n",
              "    \u003c/tr\u003e\n",
              "    \u003ctr\u003e\n",
              "      \u003cth\u003e2\u003c/th\u003e\n",
              "      \u003ctd\u003e3\u003c/td\u003e\n",
              "      \u003ctd\u003eGunnar Nielsen Aaby\u003c/td\u003e\n",
              "      \u003ctd\u003eM\u003c/td\u003e\n",
              "      \u003ctd\u003e24.0\u003c/td\u003e\n",
              "      \u003ctd\u003eNaN\u003c/td\u003e\n",
              "      \u003ctd\u003eNaN\u003c/td\u003e\n",
              "      \u003ctd\u003eDenmark\u003c/td\u003e\n",
              "      \u003ctd\u003eDEN\u003c/td\u003e\n",
              "      \u003ctd\u003e1920 Summer\u003c/td\u003e\n",
              "      \u003ctd\u003e1920\u003c/td\u003e\n",
              "      \u003ctd\u003eSummer\u003c/td\u003e\n",
              "      \u003ctd\u003eAntwerpen\u003c/td\u003e\n",
              "      \u003ctd\u003eFootball\u003c/td\u003e\n",
              "      \u003ctd\u003eFootball Men\u0027s Football\u003c/td\u003e\n",
              "      \u003ctd\u003eNaN\u003c/td\u003e\n",
              "    \u003c/tr\u003e\n",
              "    \u003ctr\u003e\n",
              "      \u003cth\u003e3\u003c/th\u003e\n",
              "      \u003ctd\u003e4\u003c/td\u003e\n",
              "      \u003ctd\u003eEdgar Lindenau Aabye\u003c/td\u003e\n",
              "      \u003ctd\u003eM\u003c/td\u003e\n",
              "      \u003ctd\u003e34.0\u003c/td\u003e\n",
              "      \u003ctd\u003eNaN\u003c/td\u003e\n",
              "      \u003ctd\u003eNaN\u003c/td\u003e\n",
              "      \u003ctd\u003eDenmark/Sweden\u003c/td\u003e\n",
              "      \u003ctd\u003eDEN\u003c/td\u003e\n",
              "      \u003ctd\u003e1900 Summer\u003c/td\u003e\n",
              "      \u003ctd\u003e1900\u003c/td\u003e\n",
              "      \u003ctd\u003eSummer\u003c/td\u003e\n",
              "      \u003ctd\u003eParis\u003c/td\u003e\n",
              "      \u003ctd\u003eTug-Of-War\u003c/td\u003e\n",
              "      \u003ctd\u003eTug-Of-War Men\u0027s Tug-Of-War\u003c/td\u003e\n",
              "      \u003ctd\u003eGold\u003c/td\u003e\n",
              "    \u003c/tr\u003e\n",
              "    \u003ctr\u003e\n",
              "      \u003cth\u003e4\u003c/th\u003e\n",
              "      \u003ctd\u003e5\u003c/td\u003e\n",
              "      \u003ctd\u003eChristine Jacoba Aaftink\u003c/td\u003e\n",
              "      \u003ctd\u003eF\u003c/td\u003e\n",
              "      \u003ctd\u003e21.0\u003c/td\u003e\n",
              "      \u003ctd\u003e185.0\u003c/td\u003e\n",
              "      \u003ctd\u003e82.0\u003c/td\u003e\n",
              "      \u003ctd\u003eNetherlands\u003c/td\u003e\n",
              "      \u003ctd\u003eNED\u003c/td\u003e\n",
              "      \u003ctd\u003e1988 Winter\u003c/td\u003e\n",
              "      \u003ctd\u003e1988\u003c/td\u003e\n",
              "      \u003ctd\u003eWinter\u003c/td\u003e\n",
              "      \u003ctd\u003eCalgary\u003c/td\u003e\n",
              "      \u003ctd\u003eSpeed Skating\u003c/td\u003e\n",
              "      \u003ctd\u003eSpeed Skating Women\u0027s 500 metres\u003c/td\u003e\n",
              "      \u003ctd\u003eNaN\u003c/td\u003e\n",
              "    \u003c/tr\u003e\n",
              "  \u003c/tbody\u003e\n",
              "\u003c/table\u003e\n",
              "\u003c/div\u003e"
            ],
            "text/plain": [
              "   ID                      Name Sex   Age  Height  Weight            Team  \\\n",
              "0   1                 A Dijiang   M  24.0   180.0    80.0           China   \n",
              "1   2                  A Lamusi   M  23.0   170.0    60.0           China   \n",
              "2   3       Gunnar Nielsen Aaby   M  24.0     NaN     NaN         Denmark   \n",
              "3   4      Edgar Lindenau Aabye   M  34.0     NaN     NaN  Denmark/Sweden   \n",
              "4   5  Christine Jacoba Aaftink   F  21.0   185.0    82.0     Netherlands   \n",
              "\n",
              "   NOC        Games  Year  Season       City          Sport  \\\n",
              "0  CHN  1992 Summer  1992  Summer  Barcelona     Basketball   \n",
              "1  CHN  2012 Summer  2012  Summer     London           Judo   \n",
              "2  DEN  1920 Summer  1920  Summer  Antwerpen       Football   \n",
              "3  DEN  1900 Summer  1900  Summer      Paris     Tug-Of-War   \n",
              "4  NED  1988 Winter  1988  Winter    Calgary  Speed Skating   \n",
              "\n",
              "                              Event Medal  \n",
              "0       Basketball Men\u0027s Basketball   NaN  \n",
              "1      Judo Men\u0027s Extra-Lightweight   NaN  \n",
              "2           Football Men\u0027s Football   NaN  \n",
              "3       Tug-Of-War Men\u0027s Tug-Of-War  Gold  \n",
              "4  Speed Skating Women\u0027s 500 metres   NaN  "
            ]
          },
          "execution_count": 3,
          "metadata": {},
          "output_type": "execute_result"
        }
      ],
      "source": [
        "data \u003d pd.read_csv(PATH)\n",
        "data.head()"
      ]
    },
    {
      "cell_type": "markdown",
      "metadata": {
        "pycharm": {}
      },
      "source": [
        "__1. How old were the youngest male and female participants of the 1992 Olympics?__\n",
        "\n",
        "*For discussions, please stick to [ODS Slack](https://opendatascience.slack.com/), channel #mlcourse_ai_news, pinned thread #a1_q1-5_fall2019*\n",
        "\n",
        "- 16 and 15\n",
        "- 14 and 13 \n",
        "- 13 and 11\n",
        "- 11 and 12"
      ]
    },
    {
      "cell_type": "code",
      "execution_count": 4,
      "metadata": {
        "pycharm": {}
      },
      "outputs": [],
      "source": [
        "# You code here"
      ]
    },
    {
      "cell_type": "markdown",
      "metadata": {
        "pycharm": {}
      },
      "source": "__2. What was the percentage of male basketball players among all the male participants of the 2012 Olympics? Round the answer to the first decimal.__\n\n*Hint:* drop duplicate athletes where necessary to count each athlete just once. This applies to other questions too.\n\n*For discussions, please stick to [ODS Slack](https://opendatascience.slack.com/), channel #mlcourse_ai_news, pinned thread #a1_q1-5_fall2019*\n\n- 0.2\n- 1.5 \n- 2.5\n- 7.7"
    },
    {
      "cell_type": "code",
      "execution_count": 5,
      "metadata": {
        "pycharm": {}
      },
      "outputs": [],
      "source": [
        "# You code here"
      ]
    },
    {
      "cell_type": "markdown",
      "metadata": {
        "pycharm": {}
      },
      "source": [
        "__3. What are the mean and standard deviation of height for female tennis players who participated in the 2000 Olympics? Round the answer to the first decimal.__\n",
        "\n",
        "*For discussions, please stick to [ODS Slack](https://opendatascience.slack.com/), channel #mlcourse_ai_news, pinned thread #a1_q1-5_fall2019*\n",
        "\n",
        "- 171.8 and 6.5\n",
        "- 179.4 and 10\n",
        "- 180.7 and 6.7\n",
        "- 182.4 and 9.1 "
      ]
    },
    {
      "cell_type": "code",
      "execution_count": 6,
      "metadata": {
        "pycharm": {}
      },
      "outputs": [],
      "source": [
        "# You code here"
      ]
    },
    {
      "cell_type": "markdown",
      "metadata": {
        "pycharm": {}
      },
      "source": "__4.  Find the heaviest athlete among 2006 Olympics participants. What sport did he or she do?__\n\n*For discussions, please stick to [ODS Slack](https://opendatascience.slack.com/), channel #mlcourse_ai_news, pinned thread #a1_q1-5_fall2019*\n\n- Judo\n- Bobsleigh \n- Skeleton\n- Boxing"
    },
    {
      "cell_type": "code",
      "execution_count": 7,
      "metadata": {
        "pycharm": {}
      },
      "outputs": [],
      "source": [
        "# You code here"
      ]
    },
    {
      "cell_type": "markdown",
      "metadata": {
        "pycharm": {}
      },
      "source": [
        "__5. How many times did John Aalberg participate in the Olympics held in different years?__\n",
        "\n",
        "*For discussions, please stick to [ODS Slack](https://opendatascience.slack.com/), channel #mlcourse_ai_news, pinned thread #a1_q1-5_fall2019*\n",
        "\n",
        "- 0\n",
        "- 1 \n",
        "- 2\n",
        "- 3 "
      ]
    },
    {
      "cell_type": "code",
      "execution_count": 8,
      "metadata": {
        "pycharm": {}
      },
      "outputs": [],
      "source": [
        "# You code here"
      ]
    },
    {
      "cell_type": "markdown",
      "metadata": {
        "pycharm": {}
      },
      "source": "__6. How many gold medals in tennis did the Switzerland team win at the 2008 Olympics?__\n\n*For discussions, please stick to [ODS Slack](https://opendatascience.slack.com/), channel #mlcourse_ai_news, pinned thread #a1_q6-10_fall2019*\n\n- 0\n- 1 \n- 2\n- 3 "
    },
    {
      "cell_type": "code",
      "execution_count": 9,
      "metadata": {
        "pycharm": {}
      },
      "outputs": [],
      "source": [
        "# You code here"
      ]
    },
    {
      "cell_type": "markdown",
      "metadata": {
        "pycharm": {}
      },
      "source": [
        "__7. Is it true that Spain won fewer medals than Italy at the 2016 Olympics? Do not consider NaN values in _Medal_ column.__ \n",
        "\n",
        "*For discussions, please stick to [ODS Slack](https://opendatascience.slack.com/), channel #mlcourse_ai_news, pinned thread #a1_q6-10_fall2019*\n",
        "\n",
        "- Yes\n",
        "- No"
      ]
    },
    {
      "cell_type": "code",
      "execution_count": 10,
      "metadata": {
        "pycharm": {}
      },
      "outputs": [],
      "source": [
        "# You code here"
      ]
    },
    {
      "cell_type": "markdown",
      "metadata": {
        "pycharm": {}
      },
      "source": "__8. What are the most and least frequent age categories among the participants of the 2008 Olympics?__\n\n*For discussions, please stick to [ODS Slack](https://opendatascience.slack.com/), channel #mlcourse_ai_news, pinned thread #a1_q6-10_fall2019*\n\n- [45-55] and [25-35) correspondingly\n- [45-55] and [15-25) correspondingly\n- [35-45) and [25-35) correspondingly\n- [45-55] and [35-45) correspondingly"
    },
    {
      "cell_type": "code",
      "execution_count": 11,
      "metadata": {
        "pycharm": {}
      },
      "outputs": [],
      "source": [
        "# You code here"
      ]
    },
    {
      "cell_type": "markdown",
      "metadata": {
        "pycharm": {}
      },
      "source": [
        "__9. Is it true that there were Summer Olympics held in Atlanta? Is it true that there were Winter Olympics held in Squaw Valley?__\n",
        "\n",
        "*For discussions, please stick to [ODS Slack](https://opendatascience.slack.com/), channel #mlcourse_ai_news, pinned thread #a1_q6-10_fall2019*\n",
        "\n",
        "- Yes, Yes\n",
        "- Yes, No\n",
        "- No, Yes \n",
        "- No, No "
      ]
    },
    {
      "cell_type": "code",
      "execution_count": 12,
      "metadata": {
        "pycharm": {}
      },
      "outputs": [],
      "source": [
        "# You code here"
      ]
    },
    {
      "cell_type": "markdown",
      "metadata": {
        "pycharm": {}
      },
      "source": [
        "__10. What is the absolute difference between the number of unique sports at the 1986 Olympics and 2002 Olympics?__\n",
        "\n",
        "*For discussions, please stick to [ODS Slack](https://opendatascience.slack.com/), channel #mlcourse_ai_news, pinned thread #a1_q6-10_fall2019*\n",
        "\n",
        "- 3 \n",
        "- 10\n",
        "- 15\n",
        "- 27 "
      ]
    },
    {
      "cell_type": "code",
      "execution_count": 13,
      "metadata": {
        "pycharm": {}
      },
      "outputs": [],
      "source": [
        "# You code here"
      ]
    },
    {
      "cell_type": "markdown",
      "metadata": {
        "pycharm": {}
      },
      "source": [
        "That\u0027s it! Now go and do 30 push-ups! :)"
      ]
    }
  ],
  "metadata": {
    "kernelspec": {
      "display_name": "Python 3",
      "language": "python",
      "name": "python3"
    },
    "language_info": {
      "codemirror_mode": {
        "name": "ipython",
        "version": 3
      },
      "file_extension": ".py",
      "mimetype": "text/x-python",
      "name": "python",
      "nbconvert_exporter": "python",
      "pygments_lexer": "ipython3",
      "version": "3.7.3"
    }
  },
  "nbformat": 4,
  "nbformat_minor": 2
}