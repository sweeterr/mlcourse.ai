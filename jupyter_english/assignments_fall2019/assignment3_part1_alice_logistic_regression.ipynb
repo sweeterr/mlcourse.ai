{
 "cells": [
  {
   "cell_type": "markdown",
   "metadata": {},
   "source": [
    "<center>\n",
    "<img src=\"../../img/ods_stickers.jpg\" />\n",
    "    \n",
    "## [mlcourse.ai](https://mlcourse.ai) – Open Machine Learning Course \n",
    "Authors: [Yury Kashnitsky](https://yorko.github.io) (@yorko), Yury Isakov. Edited by Anna Tarelina (@feuerengel), Aditya Soni (@ecdrid) and Kolchenko Sergey (@KolchenkoSergey). This material is subject to the terms and conditions of the [Creative Commons CC BY-NC-SA 4.0](https://creativecommons.org/licenses/by-nc-sa/4.0/) license. Free use is permitted for any non-commercial purpose."
   ]
  },
  {
   "cell_type": "markdown",
   "metadata": {},
   "source": [
    "# <center> Assignment #3. Fall 2019\n",
    "## <center> Part 1. User Identification with Logistic Regression <br>(beating baselines in the \"Alice\" competition)\n",
    "\n",
    "    \n",
    "Today we are going to practice working with sparse matrices, training Logistic Regression models, and doing feature engineering. We will reproduce a couple of baselines in the  Kaggle Inclass competition [\"Catch Me If You Can: Intruder Detection through Webpage Session Tracking\"](https://www.kaggle.com/c/catch-me-if-you-can-intruder-detection-through-webpage-session-tracking2) (a.k.a. \"Alice\"). More credits will be given for beating stronger baselines. \n",
    "\n",
    "Prior to working on the assignment, you'd better check out the corresponding course material:\n",
    " 1. [Classification, Decision Trees and k Nearest Neighbors](https://nbviewer.jupyter.org/github/Yorko/mlcourse_open/blob/master/jupyter_english/topic03_decision_trees_kNN/topic3_decision_trees_kNN.ipynb?flush_cache=true), the same as an interactive web-based [Kaggle Kernel](https://www.kaggle.com/kashnitsky/topic-3-decision-trees-and-knn) (basics of machine learning are covered here)\n",
    " 2. Linear classification and regression in 5 parts: \n",
    "    - [ordinary least squares](https://www.kaggle.com/kashnitsky/topic-4-linear-models-part-1-ols)\n",
    "    - [linear classification](https://www.kaggle.com/kashnitsky/topic-4-linear-models-part-2-classification)\n",
    "    - [regularization](https://www.kaggle.com/kashnitsky/topic-4-linear-models-part-3-regularization)\n",
    "    - [logistic regression: pros and cons](https://www.kaggle.com/kashnitsky/topic-4-linear-models-part-4-more-of-logit)\n",
    "    - [validation](https://www.kaggle.com/kashnitsky/topic-4-linear-models-part-5-validation)\n",
    " 3. You can also practice with demo assignments, which are simpler and already shared with solutions: \n",
    "    - \"Sarcasm detection with logistic regression\": [assignment](https://www.kaggle.com/kashnitsky/a4-demo-sarcasm-detection-with-logit) + [solution](https://www.kaggle.com/kashnitsky/a4-demo-sarcasm-detection-with-logit-solution)\n",
    "    - \"Linear regression as optimization\": [assignment](https://www.kaggle.com/kashnitsky/a4-demo-linear-regression-as-optimization) (solution cannot be officially shared)\n",
    "    - \"Exploring OLS, Lasso and Random Forest in a regression task\": [assignment](https://www.kaggle.com/kashnitsky/a6-demo-linear-models-and-rf-for-regression) + [solution](https://www.kaggle.com/kashnitsky/a6-demo-regression-solution)\n",
    " 4. Alice baseline with logistic regression and \"bag of sites\", [Kernel](https://www.kaggle.com/kashnitsky/alice-logistic-regression-baseline)\n",
    " 5. Correct time-aware cross-validation scheme, more features, and hyperparameter optimization, [Kernel](https://www.kaggle.com/kashnitsky/correct-time-aware-cross-validation-scheme)\n",
    " 6. **\"Model validation in a competition\"**, [Kernel](https://www.kaggle.com/kashnitsky/model-validation-in-a-competition) - this one reproduces a solution with **0.95055** Public LB ROC AUC and gives a lot of hints how to proceed with this competition\n",
    " 7. Other [Kernels](https://www.kaggle.com/c/catch-me-if-you-can-intruder-detection-through-webpage-session-tracking2/kernels?sortBy=voteCount&group=everyone&pageSize=20&competitionId=7173) in this competition. You can share yours as well, but not high-performing ones (Public LB ROC AUC shall be < 0.95055). Please don't spoil the competitive spirit. \n",
    " 8. If that's still not enough, watch two videos on logistic regression: [mlcourse.ai/lectures](https://mlcourse.ai/lectures)\n",
    "\n",
    "**Your task:**\n",
    " 1. \"Follow me\". Complete the missing code and submit your answers via [the google form](https://docs.google.com/forms/d/1a2PrdKsc7gV2fO7bSwO-uGVEWAY6CIxx-9YV5RNnDIs). Use **the same email and name** as in A1 and A2 (for newcomers: remember your email and use it for all forms during the course). 10 credits max. for this part\n",
    " 2. \"Freeride\". Come up with good features to beat the baselines \"A3 baseline (10 credits)\" (**0.95343** Public LB ROC-AUC, press \"Load more\" in the bottom of the [Leaderboard](https://www.kaggle.com/c/catch-me-if-you-can-intruder-detection-through-webpage-session-tracking2/leaderboard) to actually see it) and \"A3 strong baseline (20 credits)\" (**0.95965** Public LB ROC-AUC). As names suggest, you'll get 10 more credits for beating the first one, and 10 more (20 in total) for beating the second one. You need to name your [team](https://www.kaggle.com/c/catch-me-if-you-can-intruder-detection-through-webpage-session-tracking2/team) (out of 1 person) in full accordance with the [course rating](https://docs.google.com/spreadsheets/d/15e1K0tg5ponA5R6YQkZfihrShTDLAKf5qeKaoVCiuhQ/) (for newcomers: you need to name your team with your real full name). You can think of it as a part of the assignment.\n",
    " 3. If you've beaten \"A3 baseline (10 credits)\" or performed better, you need to upload your solution as described in [course roadmap](https://mlcourse.ai/roadmap) (\"Kaggle Inclass Competition Alice\" -> Rules). For all baselines that you see on Public Leaderboard, it's OK to beat them on Public LB as well. But 10 winners will be defined according to the private LB, which will be revealed by @yorko on October 27. \n",
    " \n",
<<<<<<< HEAD
<<<<<<< HEAD
    "### <center> Deadline for A3: 2019 October 27, 20:59 GMT+1 (London time)"
=======
    "### <center> Deadline for A3: 2019 October 27, 20:59 GMT (London time)"
>>>>>>> 27b0002497448a9ceb502c6b2cd87e80d4976e82
=======
    "### <center> Deadline for A3: 2019 October 27, 20:59 GMT (London time)"
=======
    "### <center> Deadline for A3: 2019 October 27, 20:59 GMT+1 (London time)"
>>>>>>> 90bf0400b0ee8ebde0e182ceb2fdbada72ccb352
>>>>>>> 7d0bca53a1c6c6633aff88bbe9e222d0af1a0b67
   ]
  },
  {
   "cell_type": "markdown",
   "metadata": {},
   "source": [
    "# Subpart 1. Follow me"
   ]
  },
  {
   "cell_type": "markdown",
   "metadata": {},
   "source": [
    "<img src='../../img/followme_alice.png' width=50%>\n",
    "\n",
    "*image credit [@muradosmann](https://www.instagram.com/muradosmann/?hl=en)*"
   ]
  },
  {
   "cell_type": "code",
   "execution_count": 1,
   "metadata": {},
   "outputs": [],
   "source": [
    "# Import libraries and set desired options\n",
    "import pickle\n",
    "from pathlib2 import Path\n",
    "import numpy as np\n",
    "import pandas as pd\n",
    "from scipy.sparse import csr_matrix, hstack\n",
    "from sklearn.preprocessing import StandardScaler\n",
    "from sklearn.metrics import roc_auc_score\n",
    "from sklearn.linear_model import LogisticRegression\n",
    "from matplotlib import pyplot as plt\n",
    "import seaborn as sns\n",
    "sns.set()\n",
    "%config InlineBackend.figure_format = 'retina'"
   ]
  },
  {
   "cell_type": "markdown",
   "metadata": {},
   "source": [
    "##### Problem description\n",
    "\n",
    "In this competition, we'll analyze the sequence of websites consequently visited by a particular person and try to predict whether this person is Alice or someone else. As a metric we will use [ROC AUC](https://en.wikipedia.org/wiki/Receiver_operating_characteristic)."
   ]
  },
  {
   "cell_type": "markdown",
   "metadata": {},
   "source": [
    "### 1. Data Downloading and Transformation\n",
    "Go to the competition [page](https://inclass.kaggle.com/c/catch-me-if-you-can-intruder-detection-through-webpage-session-tracking2) and download the data.\n",
    "\n",
    "First, read the training and test sets. Then we'll explore the data in hand and do a couple of simple exercises. "
   ]
  },
  {
   "cell_type": "code",
   "execution_count": 2,
   "metadata": {
    "scrolled": true
   },
   "outputs": [
    {
     "data": {
      "text/html": [
       "<div>\n",
       "<style scoped>\n",
       "    .dataframe tbody tr th:only-of-type {\n",
       "        vertical-align: middle;\n",
       "    }\n",
       "\n",
       "    .dataframe tbody tr th {\n",
       "        vertical-align: top;\n",
       "    }\n",
       "\n",
       "    .dataframe thead th {\n",
       "        text-align: right;\n",
       "    }\n",
       "</style>\n",
       "<table border=\"1\" class=\"dataframe\">\n",
       "  <thead>\n",
       "    <tr style=\"text-align: right;\">\n",
       "      <th></th>\n",
       "      <th>site1</th>\n",
       "      <th>time1</th>\n",
       "      <th>site2</th>\n",
       "      <th>time2</th>\n",
       "      <th>site3</th>\n",
       "      <th>time3</th>\n",
       "      <th>site4</th>\n",
       "      <th>time4</th>\n",
       "      <th>site5</th>\n",
       "      <th>time5</th>\n",
       "      <th>...</th>\n",
       "      <th>time6</th>\n",
       "      <th>site7</th>\n",
       "      <th>time7</th>\n",
       "      <th>site8</th>\n",
       "      <th>time8</th>\n",
       "      <th>site9</th>\n",
       "      <th>time9</th>\n",
       "      <th>site10</th>\n",
       "      <th>time10</th>\n",
       "      <th>target</th>\n",
       "    </tr>\n",
       "    <tr>\n",
       "      <th>session_id</th>\n",
       "      <th></th>\n",
       "      <th></th>\n",
       "      <th></th>\n",
       "      <th></th>\n",
       "      <th></th>\n",
       "      <th></th>\n",
       "      <th></th>\n",
       "      <th></th>\n",
       "      <th></th>\n",
       "      <th></th>\n",
       "      <th></th>\n",
       "      <th></th>\n",
       "      <th></th>\n",
       "      <th></th>\n",
       "      <th></th>\n",
       "      <th></th>\n",
       "      <th></th>\n",
       "      <th></th>\n",
       "      <th></th>\n",
       "      <th></th>\n",
       "      <th></th>\n",
       "    </tr>\n",
       "  </thead>\n",
       "  <tbody>\n",
       "    <tr>\n",
       "      <th>21669</th>\n",
       "      <td>56</td>\n",
       "      <td>2013-01-12 08:05:57</td>\n",
       "      <td>55.0</td>\n",
       "      <td>2013-01-12 08:05:57</td>\n",
       "      <td>NaN</td>\n",
       "      <td>NaT</td>\n",
       "      <td>NaN</td>\n",
       "      <td>NaT</td>\n",
       "      <td>NaN</td>\n",
       "      <td>NaT</td>\n",
       "      <td>...</td>\n",
       "      <td>NaT</td>\n",
       "      <td>NaN</td>\n",
       "      <td>NaT</td>\n",
       "      <td>NaN</td>\n",
       "      <td>NaT</td>\n",
       "      <td>NaN</td>\n",
       "      <td>NaT</td>\n",
       "      <td>NaN</td>\n",
       "      <td>NaT</td>\n",
       "      <td>0</td>\n",
       "    </tr>\n",
       "    <tr>\n",
       "      <th>54843</th>\n",
       "      <td>56</td>\n",
       "      <td>2013-01-12 08:37:23</td>\n",
       "      <td>55.0</td>\n",
       "      <td>2013-01-12 08:37:23</td>\n",
       "      <td>56.0</td>\n",
       "      <td>2013-01-12 09:07:07</td>\n",
       "      <td>55.0</td>\n",
       "      <td>2013-01-12 09:07:09</td>\n",
       "      <td>NaN</td>\n",
       "      <td>NaT</td>\n",
       "      <td>...</td>\n",
       "      <td>NaT</td>\n",
       "      <td>NaN</td>\n",
       "      <td>NaT</td>\n",
       "      <td>NaN</td>\n",
       "      <td>NaT</td>\n",
       "      <td>NaN</td>\n",
       "      <td>NaT</td>\n",
       "      <td>NaN</td>\n",
       "      <td>NaT</td>\n",
       "      <td>0</td>\n",
       "    </tr>\n",
       "    <tr>\n",
       "      <th>77292</th>\n",
       "      <td>946</td>\n",
       "      <td>2013-01-12 08:50:13</td>\n",
       "      <td>946.0</td>\n",
       "      <td>2013-01-12 08:50:14</td>\n",
       "      <td>951.0</td>\n",
       "      <td>2013-01-12 08:50:15</td>\n",
       "      <td>946.0</td>\n",
       "      <td>2013-01-12 08:50:15</td>\n",
       "      <td>946.0</td>\n",
       "      <td>2013-01-12 08:50:16</td>\n",
       "      <td>...</td>\n",
       "      <td>2013-01-12 08:50:16</td>\n",
       "      <td>948.0</td>\n",
       "      <td>2013-01-12 08:50:16</td>\n",
       "      <td>784.0</td>\n",
       "      <td>2013-01-12 08:50:16</td>\n",
       "      <td>949.0</td>\n",
       "      <td>2013-01-12 08:50:17</td>\n",
       "      <td>946.0</td>\n",
       "      <td>2013-01-12 08:50:17</td>\n",
       "      <td>0</td>\n",
       "    </tr>\n",
       "    <tr>\n",
       "      <th>114021</th>\n",
       "      <td>945</td>\n",
       "      <td>2013-01-12 08:50:17</td>\n",
       "      <td>948.0</td>\n",
       "      <td>2013-01-12 08:50:17</td>\n",
       "      <td>949.0</td>\n",
       "      <td>2013-01-12 08:50:18</td>\n",
       "      <td>948.0</td>\n",
       "      <td>2013-01-12 08:50:18</td>\n",
       "      <td>945.0</td>\n",
       "      <td>2013-01-12 08:50:18</td>\n",
       "      <td>...</td>\n",
       "      <td>2013-01-12 08:50:18</td>\n",
       "      <td>947.0</td>\n",
       "      <td>2013-01-12 08:50:19</td>\n",
       "      <td>945.0</td>\n",
       "      <td>2013-01-12 08:50:19</td>\n",
       "      <td>946.0</td>\n",
       "      <td>2013-01-12 08:50:19</td>\n",
       "      <td>946.0</td>\n",
       "      <td>2013-01-12 08:50:20</td>\n",
       "      <td>0</td>\n",
       "    </tr>\n",
       "    <tr>\n",
       "      <th>146670</th>\n",
       "      <td>947</td>\n",
       "      <td>2013-01-12 08:50:20</td>\n",
       "      <td>950.0</td>\n",
       "      <td>2013-01-12 08:50:20</td>\n",
       "      <td>948.0</td>\n",
       "      <td>2013-01-12 08:50:20</td>\n",
       "      <td>947.0</td>\n",
       "      <td>2013-01-12 08:50:21</td>\n",
       "      <td>950.0</td>\n",
       "      <td>2013-01-12 08:50:21</td>\n",
       "      <td>...</td>\n",
       "      <td>2013-01-12 08:50:21</td>\n",
       "      <td>946.0</td>\n",
       "      <td>2013-01-12 08:50:21</td>\n",
       "      <td>951.0</td>\n",
       "      <td>2013-01-12 08:50:22</td>\n",
       "      <td>946.0</td>\n",
       "      <td>2013-01-12 08:50:22</td>\n",
       "      <td>947.0</td>\n",
       "      <td>2013-01-12 08:50:22</td>\n",
       "      <td>0</td>\n",
       "    </tr>\n",
       "  </tbody>\n",
       "</table>\n",
       "<p>5 rows × 21 columns</p>\n",
       "</div>"
      ],
      "text/plain": [
       "            site1               time1  site2               time2  site3  \\\n",
       "session_id                                                                \n",
       "21669          56 2013-01-12 08:05:57   55.0 2013-01-12 08:05:57    NaN   \n",
       "54843          56 2013-01-12 08:37:23   55.0 2013-01-12 08:37:23   56.0   \n",
       "77292         946 2013-01-12 08:50:13  946.0 2013-01-12 08:50:14  951.0   \n",
       "114021        945 2013-01-12 08:50:17  948.0 2013-01-12 08:50:17  949.0   \n",
       "146670        947 2013-01-12 08:50:20  950.0 2013-01-12 08:50:20  948.0   \n",
       "\n",
       "                         time3  site4               time4  site5  \\\n",
       "session_id                                                         \n",
       "21669                      NaT    NaN                 NaT    NaN   \n",
       "54843      2013-01-12 09:07:07   55.0 2013-01-12 09:07:09    NaN   \n",
       "77292      2013-01-12 08:50:15  946.0 2013-01-12 08:50:15  946.0   \n",
       "114021     2013-01-12 08:50:18  948.0 2013-01-12 08:50:18  945.0   \n",
       "146670     2013-01-12 08:50:20  947.0 2013-01-12 08:50:21  950.0   \n",
       "\n",
       "                         time5  ...               time6  site7  \\\n",
       "session_id                      ...                              \n",
       "21669                      NaT  ...                 NaT    NaN   \n",
       "54843                      NaT  ...                 NaT    NaN   \n",
       "77292      2013-01-12 08:50:16  ... 2013-01-12 08:50:16  948.0   \n",
       "114021     2013-01-12 08:50:18  ... 2013-01-12 08:50:18  947.0   \n",
       "146670     2013-01-12 08:50:21  ... 2013-01-12 08:50:21  946.0   \n",
       "\n",
       "                         time7  site8               time8  site9  \\\n",
       "session_id                                                         \n",
       "21669                      NaT    NaN                 NaT    NaN   \n",
       "54843                      NaT    NaN                 NaT    NaN   \n",
       "77292      2013-01-12 08:50:16  784.0 2013-01-12 08:50:16  949.0   \n",
       "114021     2013-01-12 08:50:19  945.0 2013-01-12 08:50:19  946.0   \n",
       "146670     2013-01-12 08:50:21  951.0 2013-01-12 08:50:22  946.0   \n",
       "\n",
       "                         time9 site10              time10 target  \n",
       "session_id                                                        \n",
       "21669                      NaT    NaN                 NaT      0  \n",
       "54843                      NaT    NaN                 NaT      0  \n",
       "77292      2013-01-12 08:50:17  946.0 2013-01-12 08:50:17      0  \n",
       "114021     2013-01-12 08:50:19  946.0 2013-01-12 08:50:20      0  \n",
       "146670     2013-01-12 08:50:22  947.0 2013-01-12 08:50:22      0  \n",
       "\n",
       "[5 rows x 21 columns]"
      ]
     },
     "execution_count": 2,
     "metadata": {},
     "output_type": "execute_result"
    }
   ],
   "source": [
    "# Read the training and test data sets, change paths if needed\n",
    "PATH_TO_DATA = Path('../../data/alice/')\n",
    "\n",
    "times = ['time%s' % i for i in range(1, 11)]\n",
    "train_df = pd.read_csv(PATH_TO_DATA / 'train_sessions.csv',\n",
    "                       index_col='session_id', parse_dates=times)\n",
    "test_df = pd.read_csv(PATH_TO_DATA / 'test_sessions.csv',\n",
    "                      index_col='session_id', parse_dates=times)\n",
    "\n",
    "# Sort the data by time\n",
    "train_df = train_df.sort_values(by='time1')\n",
    "\n",
    "# Look at the first rows of the training set\n",
    "train_df.head()"
   ]
  },
  {
   "cell_type": "markdown",
   "metadata": {},
   "source": [
    "The training data set contains the following features:\n",
    "\n",
    "- **site1** – id of the first visited website in the session\n",
    "- **time1** – visiting time for the first website in the session\n",
    "- ...\n",
    "- **site10** – id of the tenth visited website in the session\n",
    "- **time10** – visiting time for the tenth website in the session\n",
    "- **target** – target variable, 1 for Alice's sessions, and 0 for the other users' sessions\n",
    "    \n",
    "User sessions are chosen in the way that they are shorter than 30 min. long and contain no more than 10 websites. I.e. a session is considered over either if a user has visited 10 websites or if a session has lasted over 30 minutes.\n",
    "\n",
    "There are some empty values in the table, it means that some sessions contain less than ten websites. Replace empty values with 0 and change columns types to integer. Also load the websites dictionary and check how it looks like:"
   ]
  },
  {
   "cell_type": "code",
   "execution_count": 3,
   "metadata": {},
   "outputs": [
    {
     "name": "stdout",
     "output_type": "stream",
     "text": [
      "Websites total: 48371\n"
     ]
    },
    {
     "data": {
      "text/html": [
       "<div>\n",
       "<style scoped>\n",
       "    .dataframe tbody tr th:only-of-type {\n",
       "        vertical-align: middle;\n",
       "    }\n",
       "\n",
       "    .dataframe tbody tr th {\n",
       "        vertical-align: top;\n",
       "    }\n",
       "\n",
       "    .dataframe thead th {\n",
       "        text-align: right;\n",
       "    }\n",
       "</style>\n",
       "<table border=\"1\" class=\"dataframe\">\n",
       "  <thead>\n",
       "    <tr style=\"text-align: right;\">\n",
       "      <th></th>\n",
       "      <th>site</th>\n",
       "    </tr>\n",
       "  </thead>\n",
       "  <tbody>\n",
       "    <tr>\n",
       "      <th>25075</th>\n",
       "      <td>www.abmecatronique.com</td>\n",
       "    </tr>\n",
       "    <tr>\n",
       "      <th>13997</th>\n",
       "      <td>groups.live.com</td>\n",
       "    </tr>\n",
       "    <tr>\n",
       "      <th>42436</th>\n",
       "      <td>majeureliguefootball.wordpress.com</td>\n",
       "    </tr>\n",
       "    <tr>\n",
       "      <th>30911</th>\n",
       "      <td>cdt46.media.tourinsoft.eu</td>\n",
       "    </tr>\n",
       "    <tr>\n",
       "      <th>8104</th>\n",
       "      <td>www.hdwallpapers.eu</td>\n",
       "    </tr>\n",
       "  </tbody>\n",
       "</table>\n",
       "</div>"
      ],
      "text/plain": [
       "                                     site\n",
       "25075              www.abmecatronique.com\n",
       "13997                     groups.live.com\n",
       "42436  majeureliguefootball.wordpress.com\n",
       "30911           cdt46.media.tourinsoft.eu\n",
       "8104                  www.hdwallpapers.eu"
      ]
     },
     "execution_count": 3,
     "metadata": {},
     "output_type": "execute_result"
    }
   ],
   "source": [
    "# Change site1, ..., site10 columns type to integer and fill NA-values with zeros\n",
    "sites = ['site%s' % i for i in range(1, 11)]\n",
    "train_df[sites] = train_df[sites].fillna(0).astype(np.uint16)\n",
    "test_df[sites] = test_df[sites].fillna(0).astype(np.uint16)\n",
    "\n",
    "# Load websites dictionary\n",
    "with open(PATH_TO_DATA / 'site_dic.pkl', \"rb\") as input_file:\n",
    "    site_dict = pickle.load(input_file)\n",
    "\n",
    "# Create dataframe for the dictionary\n",
    "sites_dict = pd.DataFrame(list(site_dict.keys()), index=list(site_dict.values()), \n",
    "                          columns=['site'])\n",
    "print(u'Websites total:', sites_dict.shape[0])\n",
    "sites_dict.head()"
   ]
  },
  {
   "cell_type": "markdown",
   "metadata": {},
   "source": [
    "### 2. Brief Exploratory Data Analysis"
   ]
  },
  {
   "cell_type": "markdown",
   "metadata": {},
   "source": [
    "Before we start training models, we have to perform Exploratory Data Analysis ([EDA](https://en.wikipedia.org/wiki/Exploratory_data_analysis)). Today, we are going to perform a shorter version, but we will use other techniques as we move forward. Let's check which websites in the training data set are the most visited. As you can see, they are Google services and a bioinformatics website (a website with 'zero'-index is our missed values, just ignore it):"
   ]
  },
  {
   "cell_type": "code",
   "execution_count": 4,
   "metadata": {},
   "outputs": [
    {
     "name": "stdout",
     "output_type": "stream",
     "text": [
      "21     123776\n",
      "0      122730\n",
      "23      87619\n",
      "782     77055\n",
      "22      58258\n",
      "dtype: int64\n"
     ]
    },
    {
     "data": {
      "text/html": [
       "<div>\n",
       "<style scoped>\n",
       "    .dataframe tbody tr th:only-of-type {\n",
       "        vertical-align: middle;\n",
       "    }\n",
       "\n",
       "    .dataframe tbody tr th {\n",
       "        vertical-align: top;\n",
       "    }\n",
       "\n",
       "    .dataframe thead th {\n",
       "        text-align: right;\n",
       "    }\n",
       "</style>\n",
       "<table border=\"1\" class=\"dataframe\">\n",
       "  <thead>\n",
       "    <tr style=\"text-align: right;\">\n",
       "      <th></th>\n",
       "      <th>site</th>\n",
       "    </tr>\n",
       "  </thead>\n",
       "  <tbody>\n",
       "    <tr>\n",
       "      <th>21</th>\n",
       "      <td>www.google.fr</td>\n",
       "    </tr>\n",
       "    <tr>\n",
       "      <th>23</th>\n",
       "      <td>www.google.com</td>\n",
       "    </tr>\n",
       "    <tr>\n",
       "      <th>782</th>\n",
       "      <td>annotathon.org</td>\n",
       "    </tr>\n",
       "    <tr>\n",
       "      <th>22</th>\n",
       "      <td>apis.google.com</td>\n",
       "    </tr>\n",
       "  </tbody>\n",
       "</table>\n",
       "</div>"
      ],
      "text/plain": [
       "                site\n",
       "21     www.google.fr\n",
       "23    www.google.com\n",
       "782   annotathon.org\n",
       "22   apis.google.com"
      ]
     },
     "execution_count": 4,
     "metadata": {},
     "output_type": "execute_result"
    }
   ],
   "source": [
    "# Top websites in the training data set\n",
    "top_sites = pd.Series(train_df[sites].values.flatten()\n",
    "                     ).value_counts().sort_values(ascending=False).head(5)\n",
    "print(top_sites)\n",
    "sites_dict.loc[top_sites.drop(0).index]"
   ]
  },
  {
   "cell_type": "markdown",
   "metadata": {},
   "source": [
    "##### 1. What kind of websites does Alice visit the most?\n",
    "\n",
    "*For discussions, please stick to [ODS Slack](https://opendatascience.slack.com/), channel #mlcourse_ai_news, pinned thread __#a3_part1_fall2019__*\n",
    "\n",
    "- videohostings\n",
    "- social networks\n",
    "- torrent trackers\n",
    "- news"
   ]
  },
  {
   "cell_type": "code",
   "execution_count": 5,
   "metadata": {},
<<<<<<< HEAD
   "outputs": [
    {
     "name": "stdout",
     "output_type": "stream",
     "text": [
      "77     1382\n",
      "80     1354\n",
      "76     1307\n",
      "29      897\n",
      "21      857\n",
      "81      609\n",
      "879     522\n",
      "22      522\n",
      "75      451\n",
      "82      447\n",
      "dtype: int64\n"
     ]
    },
    {
     "data": {
      "text/html": [
       "<div>\n",
       "<style scoped>\n",
       "    .dataframe tbody tr th:only-of-type {\n",
       "        vertical-align: middle;\n",
       "    }\n",
       "\n",
       "    .dataframe tbody tr th {\n",
       "        vertical-align: top;\n",
       "    }\n",
       "\n",
       "    .dataframe thead th {\n",
       "        text-align: right;\n",
       "    }\n",
       "</style>\n",
       "<table border=\"1\" class=\"dataframe\">\n",
       "  <thead>\n",
       "    <tr style=\"text-align: right;\">\n",
       "      <th></th>\n",
       "      <th>site</th>\n",
       "    </tr>\n",
       "  </thead>\n",
       "  <tbody>\n",
       "    <tr>\n",
       "      <th>77</th>\n",
       "      <td>i1.ytimg.com</td>\n",
       "    </tr>\n",
       "    <tr>\n",
       "      <th>80</th>\n",
       "      <td>s.youtube.com</td>\n",
       "    </tr>\n",
       "    <tr>\n",
       "      <th>76</th>\n",
       "      <td>www.youtube.com</td>\n",
       "    </tr>\n",
       "    <tr>\n",
       "      <th>29</th>\n",
       "      <td>www.facebook.com</td>\n",
       "    </tr>\n",
       "    <tr>\n",
       "      <th>21</th>\n",
       "      <td>www.google.fr</td>\n",
       "    </tr>\n",
       "    <tr>\n",
       "      <th>81</th>\n",
       "      <td>r4---sn-gxo5uxg-jqbe.googlevideo.com</td>\n",
       "    </tr>\n",
       "    <tr>\n",
       "      <th>879</th>\n",
       "      <td>r1---sn-gxo5uxg-jqbe.googlevideo.com</td>\n",
       "    </tr>\n",
       "    <tr>\n",
       "      <th>22</th>\n",
       "      <td>apis.google.com</td>\n",
       "    </tr>\n",
       "    <tr>\n",
       "      <th>75</th>\n",
       "      <td>s.ytimg.com</td>\n",
       "    </tr>\n",
       "    <tr>\n",
       "      <th>82</th>\n",
       "      <td>r2---sn-gxo5uxg-jqbe.googlevideo.com</td>\n",
       "    </tr>\n",
       "  </tbody>\n",
       "</table>\n",
       "</div>"
      ],
      "text/plain": [
       "                                     site\n",
       "77                           i1.ytimg.com\n",
       "80                          s.youtube.com\n",
       "76                        www.youtube.com\n",
       "29                       www.facebook.com\n",
       "21                          www.google.fr\n",
       "81   r4---sn-gxo5uxg-jqbe.googlevideo.com\n",
       "879  r1---sn-gxo5uxg-jqbe.googlevideo.com\n",
       "22                        apis.google.com\n",
       "75                            s.ytimg.com\n",
       "82   r2---sn-gxo5uxg-jqbe.googlevideo.com"
      ]
     },
     "execution_count": 5,
     "metadata": {},
     "output_type": "execute_result"
    }
   ],
   "source": [
    "Alice_sites = pd.Series(train_df[train_df['target'] == 1][sites].values.flatten()\n",
    "                       ).value_counts().sort_values(ascending=False).head(10)\n",
    "print(Alice_sites)\n",
    "sites_dict.loc[Alice_sites.index]"
=======
   "outputs": [],
   "source": [
    "# You code here"
>>>>>>> 90bf0400b0ee8ebde0e182ceb2fdbada72ccb352
   ]
  },
  {
   "cell_type": "markdown",
   "metadata": {},
   "source": [
    "Now let us look at the timestamps and try to characterize sessions as timeframes:"
   ]
  },
  {
   "cell_type": "code",
   "execution_count": 6,
   "metadata": {},
   "outputs": [
    {
     "data": {
      "text/html": [
       "<div>\n",
       "<style scoped>\n",
       "    .dataframe tbody tr th:only-of-type {\n",
       "        vertical-align: middle;\n",
       "    }\n",
       "\n",
       "    .dataframe tbody tr th {\n",
       "        vertical-align: top;\n",
       "    }\n",
       "\n",
       "    .dataframe thead th {\n",
       "        text-align: right;\n",
       "    }\n",
       "</style>\n",
       "<table border=\"1\" class=\"dataframe\">\n",
       "  <thead>\n",
       "    <tr style=\"text-align: right;\">\n",
       "      <th></th>\n",
       "      <th>target</th>\n",
       "      <th>min</th>\n",
       "      <th>max</th>\n",
       "      <th>seconds</th>\n",
       "    </tr>\n",
       "    <tr>\n",
       "      <th>session_id</th>\n",
       "      <th></th>\n",
       "      <th></th>\n",
       "      <th></th>\n",
       "      <th></th>\n",
       "    </tr>\n",
       "  </thead>\n",
       "  <tbody>\n",
       "    <tr>\n",
       "      <th>21669</th>\n",
       "      <td>0</td>\n",
       "      <td>2013-01-12 08:05:57</td>\n",
       "      <td>2013-01-12 08:05:57</td>\n",
       "      <td>0.0</td>\n",
       "    </tr>\n",
       "    <tr>\n",
       "      <th>54843</th>\n",
       "      <td>0</td>\n",
       "      <td>2013-01-12 08:37:23</td>\n",
       "      <td>2013-01-12 09:07:09</td>\n",
       "      <td>1786.0</td>\n",
       "    </tr>\n",
       "    <tr>\n",
       "      <th>77292</th>\n",
       "      <td>0</td>\n",
       "      <td>2013-01-12 08:50:13</td>\n",
       "      <td>2013-01-12 08:50:17</td>\n",
       "      <td>4.0</td>\n",
       "    </tr>\n",
       "    <tr>\n",
       "      <th>114021</th>\n",
       "      <td>0</td>\n",
       "      <td>2013-01-12 08:50:17</td>\n",
       "      <td>2013-01-12 08:50:20</td>\n",
       "      <td>3.0</td>\n",
       "    </tr>\n",
       "    <tr>\n",
       "      <th>146670</th>\n",
       "      <td>0</td>\n",
       "      <td>2013-01-12 08:50:20</td>\n",
       "      <td>2013-01-12 08:50:22</td>\n",
       "      <td>2.0</td>\n",
       "    </tr>\n",
       "  </tbody>\n",
       "</table>\n",
       "</div>"
      ],
      "text/plain": [
       "            target                 min                 max  seconds\n",
       "session_id                                                         \n",
       "21669            0 2013-01-12 08:05:57 2013-01-12 08:05:57      0.0\n",
       "54843            0 2013-01-12 08:37:23 2013-01-12 09:07:09   1786.0\n",
       "77292            0 2013-01-12 08:50:13 2013-01-12 08:50:17      4.0\n",
       "114021           0 2013-01-12 08:50:17 2013-01-12 08:50:20      3.0\n",
       "146670           0 2013-01-12 08:50:20 2013-01-12 08:50:22      2.0"
      ]
     },
     "execution_count": 6,
     "metadata": {},
     "output_type": "execute_result"
    }
   ],
   "source": [
    "# Create a separate dataframe where we will work with timestamps\n",
    "time_df = pd.DataFrame(index=train_df.index)\n",
    "time_df['target'] = train_df['target']\n",
    "\n",
    "# Find sessions' starting and ending\n",
    "time_df['min'] = train_df[times].min(axis=1)\n",
    "time_df['max'] = train_df[times].max(axis=1)\n",
    "\n",
    "# Calculate sessions' duration in seconds\n",
    "time_df['seconds'] = (time_df['max'] - time_df['min']) / np.timedelta64(1, 's')\n",
    "\n",
    "time_df.head()"
   ]
  },
  {
   "cell_type": "markdown",
   "metadata": {},
   "source": [
    "In order to perform the next task, generate descriptive statistics as you did in the first assignment.\n",
    "\n",
    "*In the next question, we are using the notion of \"approximately the same\". To be strict, let's define it: $a$ is approximately the same as $b$ ($a \\approx b $) if their difference is less than or equal to 5% of the maximum between $a$ and $b$, i.e. $a \\approx b \\leftrightarrow \\frac{|a-b|}{max(a,b)} \\leq 0.05$.*\n",
    "\n",
    "##### 2. Select all correct statements:\n",
    "\n",
    "*For discussions, please stick to [ODS Slack](https://opendatascience.slack.com/), channel #mlcourse_ai_news, pinned thread __#a3_part1_fall2019__*\n",
    "\n",
    "- on average, Alice's session is shorter than that of other users\n",
    "- more than 1% of all sessions in the dataset belong to Alice\n",
    "- minimum and maximum durations of Alice's and other users' sessions are approximately the same\n",
    "- standard deviation of Alice's sessions duration is approximately the same as for non-Alice's sessions\n",
    "- less than a quarter of Alice's sessions are greater than or equal to 40 seconds"
   ]
  },
  {
   "cell_type": "code",
   "execution_count": 7,
   "metadata": {},
<<<<<<< HEAD
   "outputs": [
    {
     "name": "stdout",
     "output_type": "stream",
     "text": [
      "0    0.990941\n",
      "1    0.009059\n",
      "Name: target, dtype: float64\n",
      "(253561, 4)\n",
      "0.020555555555555556\n"
     ]
    },
    {
     "data": {
      "text/html": [
       "<div>\n",
       "<style scoped>\n",
       "    .dataframe tbody tr th:only-of-type {\n",
       "        vertical-align: middle;\n",
       "    }\n",
       "\n",
       "    .dataframe tbody tr th {\n",
       "        vertical-align: top;\n",
       "    }\n",
       "\n",
       "    .dataframe thead tr th {\n",
       "        text-align: left;\n",
       "    }\n",
       "\n",
       "    .dataframe thead tr:last-of-type th {\n",
       "        text-align: right;\n",
       "    }\n",
       "</style>\n",
       "<table border=\"1\" class=\"dataframe\">\n",
       "  <thead>\n",
       "    <tr>\n",
       "      <th></th>\n",
       "      <th colspan=\"8\" halign=\"left\">seconds</th>\n",
       "    </tr>\n",
       "    <tr>\n",
       "      <th></th>\n",
       "      <th>count</th>\n",
       "      <th>mean</th>\n",
       "      <th>std</th>\n",
       "      <th>min</th>\n",
       "      <th>25%</th>\n",
       "      <th>50%</th>\n",
       "      <th>75%</th>\n",
       "      <th>max</th>\n",
       "    </tr>\n",
       "    <tr>\n",
       "      <th>target</th>\n",
       "      <th></th>\n",
       "      <th></th>\n",
       "      <th></th>\n",
       "      <th></th>\n",
       "      <th></th>\n",
       "      <th></th>\n",
       "      <th></th>\n",
       "      <th></th>\n",
       "    </tr>\n",
       "  </thead>\n",
       "  <tbody>\n",
       "    <tr>\n",
       "      <th>0</th>\n",
       "      <td>251264.0</td>\n",
       "      <td>139.282372</td>\n",
       "      <td>296.653518</td>\n",
       "      <td>0.0</td>\n",
       "      <td>7.0</td>\n",
       "      <td>28.0</td>\n",
       "      <td>114.0</td>\n",
       "      <td>1800.0</td>\n",
       "    </tr>\n",
       "    <tr>\n",
       "      <th>1</th>\n",
       "      <td>2297.0</td>\n",
       "      <td>52.296474</td>\n",
       "      <td>153.309014</td>\n",
       "      <td>0.0</td>\n",
       "      <td>4.0</td>\n",
       "      <td>11.0</td>\n",
       "      <td>38.0</td>\n",
       "      <td>1763.0</td>\n",
       "    </tr>\n",
       "  </tbody>\n",
       "</table>\n",
       "</div>"
      ],
      "text/plain": [
       "         seconds                                                       \n",
       "           count        mean         std  min  25%   50%    75%     max\n",
       "target                                                                 \n",
       "0       251264.0  139.282372  296.653518  0.0  7.0  28.0  114.0  1800.0\n",
       "1         2297.0   52.296474  153.309014  0.0  4.0  11.0   38.0  1763.0"
      ]
     },
     "execution_count": 7,
     "metadata": {},
     "output_type": "execute_result"
    }
   ],
   "source": [
    "print(time_df['target'].value_counts(normalize=True))\n",
    "print(time_df.shape)\n",
    "print((1800-1763)/1800)\n",
    "time_df.groupby(['target']).describe()"
=======
   "outputs": [],
   "source": [
    "# You code here"
>>>>>>> 90bf0400b0ee8ebde0e182ceb2fdbada72ccb352
   ]
  },
  {
   "cell_type": "markdown",
   "metadata": {},
   "source": [
    "In order to train our first model, we need to prepare the data. First of all, exclude the target variable from the training set. Now both training and test sets have the same number of columns, therefore aggregate them into one dataframe.  Thus, all transformations will be performed simultaneously on both training and test data sets. \n",
    "\n",
    "On the one hand, it leads to the fact that both data sets have one feature space (you don't have to worry that you forgot to transform a feature in some data sets). On the other hand, processing time will increase. \n",
    "For the enormously large sets it might turn out that it is impossible to transform both data sets simultaneously (and sometimes you have to split your transformations into several stages only for train/test data set).\n",
    "In our case, with this particular data set, we are going to perform all the transformations for the whole united dataframe at once, and before training the model or making predictions we will just take its appropriate part."
   ]
  },
  {
   "cell_type": "code",
   "execution_count": 8,
   "metadata": {},
   "outputs": [],
   "source": [
    "# Our target variable\n",
    "y_train = train_df['target']\n",
    "\n",
    "# United dataframe of the initial data \n",
    "full_df = pd.concat([train_df.drop('target', axis=1), test_df])\n",
    "\n",
    "# Index to split the training and test data sets\n",
    "idx_split = train_df.shape[0]"
   ]
  },
  {
   "cell_type": "markdown",
   "metadata": {},
   "source": [
    "For the very basic model, we will use only the visited websites in the session (but we will not take into account timestamp features). The point behind this data selection is: *Alice has her favorite sites, and the more often you see these sites in the session, the higher probability that this is Alice's session, and vice versa.*\n",
    "\n",
    "Let us prepare the data, we will take only features `site1, site2, ... , site10` from the whole dataframe. Keep in mind that the missing values are replaced with zero. Here is how the first rows of the dataframe look like:"
   ]
  },
  {
   "cell_type": "code",
   "execution_count": 9,
   "metadata": {},
   "outputs": [
    {
     "data": {
      "text/html": [
       "<div>\n",
       "<style scoped>\n",
       "    .dataframe tbody tr th:only-of-type {\n",
       "        vertical-align: middle;\n",
       "    }\n",
       "\n",
       "    .dataframe tbody tr th {\n",
       "        vertical-align: top;\n",
       "    }\n",
       "\n",
       "    .dataframe thead th {\n",
       "        text-align: right;\n",
       "    }\n",
       "</style>\n",
       "<table border=\"1\" class=\"dataframe\">\n",
       "  <thead>\n",
       "    <tr style=\"text-align: right;\">\n",
       "      <th></th>\n",
       "      <th>site1</th>\n",
       "      <th>site2</th>\n",
       "      <th>site3</th>\n",
       "      <th>site4</th>\n",
       "      <th>site5</th>\n",
       "      <th>site6</th>\n",
       "      <th>site7</th>\n",
       "      <th>site8</th>\n",
       "      <th>site9</th>\n",
       "      <th>site10</th>\n",
       "    </tr>\n",
       "    <tr>\n",
       "      <th>session_id</th>\n",
       "      <th></th>\n",
       "      <th></th>\n",
       "      <th></th>\n",
       "      <th></th>\n",
       "      <th></th>\n",
       "      <th></th>\n",
       "      <th></th>\n",
       "      <th></th>\n",
       "      <th></th>\n",
       "      <th></th>\n",
       "    </tr>\n",
       "  </thead>\n",
       "  <tbody>\n",
       "    <tr>\n",
       "      <th>21669</th>\n",
       "      <td>56</td>\n",
       "      <td>55</td>\n",
       "      <td>0</td>\n",
       "      <td>0</td>\n",
       "      <td>0</td>\n",
       "      <td>0</td>\n",
       "      <td>0</td>\n",
       "      <td>0</td>\n",
       "      <td>0</td>\n",
       "      <td>0</td>\n",
       "    </tr>\n",
       "    <tr>\n",
       "      <th>54843</th>\n",
       "      <td>56</td>\n",
       "      <td>55</td>\n",
       "      <td>56</td>\n",
       "      <td>55</td>\n",
       "      <td>0</td>\n",
       "      <td>0</td>\n",
       "      <td>0</td>\n",
       "      <td>0</td>\n",
       "      <td>0</td>\n",
       "      <td>0</td>\n",
       "    </tr>\n",
       "    <tr>\n",
       "      <th>77292</th>\n",
       "      <td>946</td>\n",
       "      <td>946</td>\n",
       "      <td>951</td>\n",
       "      <td>946</td>\n",
       "      <td>946</td>\n",
       "      <td>945</td>\n",
       "      <td>948</td>\n",
       "      <td>784</td>\n",
       "      <td>949</td>\n",
       "      <td>946</td>\n",
       "    </tr>\n",
       "    <tr>\n",
       "      <th>114021</th>\n",
       "      <td>945</td>\n",
       "      <td>948</td>\n",
       "      <td>949</td>\n",
       "      <td>948</td>\n",
       "      <td>945</td>\n",
       "      <td>946</td>\n",
       "      <td>947</td>\n",
       "      <td>945</td>\n",
       "      <td>946</td>\n",
       "      <td>946</td>\n",
       "    </tr>\n",
       "    <tr>\n",
       "      <th>146670</th>\n",
       "      <td>947</td>\n",
       "      <td>950</td>\n",
       "      <td>948</td>\n",
       "      <td>947</td>\n",
       "      <td>950</td>\n",
       "      <td>952</td>\n",
       "      <td>946</td>\n",
       "      <td>951</td>\n",
       "      <td>946</td>\n",
       "      <td>947</td>\n",
       "    </tr>\n",
       "  </tbody>\n",
       "</table>\n",
       "</div>"
      ],
      "text/plain": [
       "            site1  site2  site3  site4  site5  site6  site7  site8  site9  \\\n",
       "session_id                                                                  \n",
       "21669          56     55      0      0      0      0      0      0      0   \n",
       "54843          56     55     56     55      0      0      0      0      0   \n",
       "77292         946    946    951    946    946    945    948    784    949   \n",
       "114021        945    948    949    948    945    946    947    945    946   \n",
       "146670        947    950    948    947    950    952    946    951    946   \n",
       "\n",
       "            site10  \n",
       "session_id          \n",
       "21669            0  \n",
       "54843            0  \n",
       "77292          946  \n",
       "114021         946  \n",
       "146670         947  "
      ]
     },
     "execution_count": 9,
     "metadata": {},
     "output_type": "execute_result"
    }
   ],
   "source": [
    "# Dataframe with indices of visited websites in session\n",
    "full_sites = full_df[sites]\n",
    "full_sites.head()"
   ]
  },
  {
   "cell_type": "markdown",
   "metadata": {},
   "source": [
    "Sessions are sequences of website indices, and data in this representation is useless for machine learning method (just think, what happens if we switched all ids of all websites). \n",
    "\n",
    "According to our hypothesis (Alice has favorite websites), we need to transform this dataframe so each website has a corresponding feature (column) and its value is equal to number of this website visits in the session. It can be done in two lines:"
   ]
  },
  {
   "cell_type": "code",
   "execution_count": 10,
   "metadata": {},
   "outputs": [],
   "source": [
    "# sequence of indices\n",
    "sites_flatten = full_sites.values.flatten()\n",
    "\n",
    "# and the matrix we are looking for \n",
    "# (make sure you understand which of the `csr_matrix` constructors is used here)\n",
    "# a further toy example will help you with it\n",
    "full_sites_sparse = csr_matrix(([1] * sites_flatten.shape[0],\n",
    "                                sites_flatten,\n",
    "                                range(0, sites_flatten.shape[0]  + 10, 10)))[:, 1:]"
   ]
  },
  {
   "cell_type": "code",
   "execution_count": 11,
   "metadata": {},
   "outputs": [
    {
     "data": {
      "text/plain": [
       "(336358, 48371)"
      ]
     },
     "execution_count": 11,
     "metadata": {},
     "output_type": "execute_result"
    }
   ],
   "source": [
    "full_sites_sparse.shape"
   ]
  },
  {
   "cell_type": "markdown",
   "metadata": {},
   "source": [
    "If you understand what just happened here, then you can skip the next passage (perhaps, you can handle logistic regression too?), If not, then let us figure it out.\n",
    "\n",
    "### Important detour #1: Sparse Matrices\n",
    "\n",
    "Let us estimate how much memory it will require to store our data in the example above. Our united dataframe contains 336 thousand samples of 48 thousand integer features in each. It's easy to calculate the required amount of memory, roughly:\n",
    "\n",
    "$$336\\ K * 48\\ K * 8\\ bytes \\approx 16* 10^9 * 8\\ bytes = 130\\ GB,$$\n",
    "\n",
    "(that's the [exact](http://www.wolframalpha.com/input/?i=336358*48371*8+bytes) value). Obviously, ordinary mortals have no such volumes (strictly speaking, Python may allow you to create such a matrix, but it will not be easy to do anything with it). The interesting fact is that most of the elements of our matrix are zeros. If we count non-zero elements, then it will be about 1.8 million, i.е. slightly more than 10% of all matrix elements. Such a matrix, where most elements are zeros, is called sparse, and the ratio between the number of zero elements and the total number of elements is called the sparsity of the matrix.\n",
    "\n",
    "For the work with such matrices you can use `scipy.sparse` library, check [documentation](https://docs.scipy.org/doc/scipy-0.18.1/reference/sparse.html) to understand what possible types of sparse matrices are, how to work with them and in which cases their usage is most effective. You can learn how they are arranged, for example, in Wikipedia [article](https://en.wikipedia.org/wiki/Sparse_matrix).\n",
    "Note, that a sparse matrix contains only non-zero elements, and you can get the allocated memory size like this (significant memory savings are obvious):"
   ]
  },
  {
   "cell_type": "code",
   "execution_count": 12,
   "metadata": {},
   "outputs": [
    {
     "name": "stdout",
     "output_type": "stream",
     "text": [
      "1866898 elements * 8 bytes = 14935184 bytes\n",
      "sparse_matrix_size = 14935184 bytes\n"
     ]
    }
   ],
   "source": [
    "# How much memory does a sparse matrix occupy?\n",
    "print('{0} elements * {1} bytes = {2} bytes'.format(full_sites_sparse.count_nonzero(), 8, \n",
    "                                                    full_sites_sparse.count_nonzero() * 8))\n",
    "# Or just like this:\n",
    "print('sparse_matrix_size = {0} bytes'.format(full_sites_sparse.data.nbytes))"
   ]
  },
  {
   "cell_type": "markdown",
   "metadata": {},
   "source": [
    "Let us explore how the matrix with the websites has been formed using a mini example. Suppose we have the following table with user sessions:\n",
    "\n",
    "| id | site1 | site2 | site3 |\n",
    "|---|---|---|---|\n",
    "| 1 | 1 | 0 | 0 |\n",
    "| 2 | 1 | 3 | 1 |\n",
    "| 3 | 2 | 3 | 4 |\n",
    "\n",
    "There are 3 sessions, and no more than 3 websites in each. Users visited four different sites in total (there are numbers from 1 to 4 in the table cells). And let us assume that the mapping is:\n",
    "\n",
    " 1. vk.com\n",
    " 2. habrahabr.ru \n",
    " 3. yandex.ru\n",
    " 4. ods.ai\n",
    "\n",
    "If the user has visited less than 3 websites during the session, the last few values will be zero. We want to convert the original dataframe in a way that each session has a corresponding row which shows the number of visits to each particular site. I.e. we want to transform the previous table into the following form:\n",
    "\n",
    "| id | vk.com | habrahabr.ru | yandex.ru | ods.ai |\n",
    "|---|---|---|---|---|\n",
    "| 1 | 1 | 0 | 0 | 0 |\n",
    "| 2 | 2 | 0 | 1 | 0 |\n",
    "| 3 | 0 | 1 | 1 | 1 |\n",
    "\n",
    "\n",
    "To do this, use the constructor: `csr_matrix ((data, indices, indptr))` and create a frequency table (see examples, code and comments on the links above to see how it works). Here we set all the parameters explicitly for greater clarity:"
   ]
  },
  {
   "cell_type": "code",
   "execution_count": 13,
   "metadata": {
    "scrolled": true
   },
   "outputs": [
    {
     "data": {
      "text/plain": [
       "matrix([[2, 1, 0, 0, 0],\n",
       "        [0, 2, 0, 1, 0],\n",
       "        [0, 0, 1, 1, 1]])"
      ]
     },
     "execution_count": 13,
     "metadata": {},
     "output_type": "execute_result"
    }
   ],
   "source": [
    "# data, create the list of ones, length of which equal to the number of elements in the initial dataframe (9)\n",
    "# By summing the number of ones in the cell, we get the frequency,\n",
    "# number of visits to a particular site per session\n",
    "data = [1] * 9\n",
    "\n",
    "# To do this, you need to correctly distribute the ones in cells\n",
    "# Indices - website ids, i.e. columns of a new matrix. We will sum ones up grouping them by sessions (ids)\n",
    "indices = [1, 0, 0, 1, 3, 1, 2, 3, 4]\n",
    "\n",
    "# Indices for the division into rows (sessions)\n",
    "# For example, line 0 is the elements between the indices [0; 3) - the rightmost value is not included\n",
    "# Line 1 is the elements between the indices [3; 6)\n",
    "# Line 2 is the elements between the indices [6; 9) \n",
    "indptr = [0, 3, 6, 9]\n",
    "\n",
    "# Aggregate these three variables into a tuple and compose a matrix\n",
    "# To display this matrix on the screen transform it into the usual \"dense\" matrix\n",
    "csr_matrix((data, indices, indptr)).todense()"
   ]
  },
  {
   "cell_type": "markdown",
   "metadata": {},
   "source": [
    "As you might have noticed, there are not four columns in the resulting matrix (corresponding to number of different websites) but five. A zero column has been added, which indicates if the session was shorter (in our mini example we took sessions of three). This column is excessive and should be removed from the dataframe (do that yourself).\n",
    "\n",
    "##### 3. What is the sparsity of the matrix in our small example?\n",
    "\n",
    "*For discussions, please stick to [ODS Slack](https://opendatascience.slack.com/), channel #mlcourse_ai_news, pinned thread __#a3_part1_fall2019__*\n",
    "\n",
    "- 42%\n",
    "- 47%\n",
    "- 50%\n",
    "- 53%\n",
    "\n",
    "\n"
   ]
  },
  {
   "cell_type": "code",
   "execution_count": 14,
   "metadata": {},
<<<<<<< HEAD
   "outputs": [
    {
     "data": {
      "text/plain": [
       "(3, 5)"
      ]
     },
     "execution_count": 14,
     "metadata": {},
     "output_type": "execute_result"
    }
   ],
   "source": [
    "m = csr_matrix((data, indices, indptr))\n",
    "m.shape"
=======
   "outputs": [],
   "source": [
    "# You code here"
>>>>>>> 90bf0400b0ee8ebde0e182ceb2fdbada72ccb352
   ]
  },
  {
   "cell_type": "markdown",
   "metadata": {},
   "source": [
    "Another benefit of using sparse matrices is that there are special implementations of both matrix operations and machine learning algorithms for them, which sometimes allows to significantly accelerate operations due to the data structure peculiarities. This applies to logistic regression as well. Now everything is ready to build our first model.\n",
    "\n",
    "### 3. Training the first model\n",
    "\n",
    "So, we have an algorithm and data for it. Let us build our first model, using [logistic regression](http://scikit-learn.org/stable/modules/generated/sklearn.linear_model.LogisticRegression.html) implementation from ` Sklearn` with default parameters. We will use the first 90% of the data for training (the training data set is sorted by time), and the remaining 10% for validation. Let's write a simple function that returns the quality of the model and then train our first classifier:"
   ]
  },
  {
   "cell_type": "code",
   "execution_count": 15,
   "metadata": {},
   "outputs": [],
   "source": [
    "def get_auc_lr_valid(X, y, C=1.0, seed=17, ratio = 0.9):\n",
    "    # Split the data into the training and validation sets\n",
    "    idx = int(round(X.shape[0] * ratio))\n",
    "    # Classifier training\n",
    "    lr = LogisticRegression(C=C, random_state=seed, solver='liblinear').fit(X[:idx, :], y[:idx])\n",
    "    # Prediction for validation set\n",
    "    y_pred = lr.predict_proba(X[idx:, :])[:, 1]\n",
    "    # Calculate the quality\n",
    "    score = roc_auc_score(y[idx:], y_pred)\n",
    "    \n",
    "    return score"
   ]
  },
  {
   "cell_type": "code",
   "execution_count": 16,
   "metadata": {},
   "outputs": [
    {
     "name": "stdout",
     "output_type": "stream",
     "text": [
<<<<<<< HEAD
      "0.9195247096744585\n",
      "CPU times: user 8.25 s, sys: 271 ms, total: 8.52 s\n",
      "Wall time: 4.7 s\n"
=======
      "0.9195241058359782\n",
      "CPU times: user 12.5 s, sys: 130 ms, total: 12.6 s\n",
      "Wall time: 3.2 s\n"
>>>>>>> 90bf0400b0ee8ebde0e182ceb2fdbada72ccb352
     ]
    }
   ],
   "source": [
    "%%time\n",
    "# Select the training set from the united dataframe (where we have the answers)\n",
    "X_train = full_sites_sparse[:idx_split, :]\n",
    "\n",
    "# Calculate metric on the validation set\n",
    "print(get_auc_lr_valid(X_train, y_train))"
   ]
  },
  {
   "cell_type": "markdown",
   "metadata": {},
   "source": [
    "The first model demonstrated the quality  of 0.92 on the validation set. Let's take it as the first baseline and starting point. To make a prediction on the test data set **we need to train the model again on the entire training data set** (until this moment, our model used only part of the data for training), which will increase its generalizing ability:"
   ]
  },
  {
   "cell_type": "code",
   "execution_count": 17,
   "metadata": {},
   "outputs": [],
   "source": [
    "# Function for writing predictions to a file\n",
    "def write_to_submission_file(predicted_labels, out_file,\n",
    "                             target='target', index_label=\"session_id\"):\n",
    "    predicted_df = pd.DataFrame(predicted_labels,\n",
    "                                index = np.arange(1, predicted_labels.shape[0] + 1),\n",
    "                                columns=[target])\n",
    "    predicted_df.to_csv(out_file, index_label=index_label)"
   ]
  },
  {
   "cell_type": "code",
   "execution_count": 18,
   "metadata": {},
   "outputs": [],
   "source": [
    "# Train the model on the whole training data set\n",
    "# Use random_state=17 for repeatability\n",
    "# Parameter C=1 by default, but here we set it explicitly\n",
    "lr = LogisticRegression(C=1.0, random_state=17, solver='liblinear').fit(X_train, y_train)\n",
    "\n",
    "# Make a prediction for test data set\n",
    "X_test = full_sites_sparse[idx_split:,:]\n",
    "y_test = lr.predict_proba(X_test)[:, 1]\n",
    "\n",
    "# Write it to the file which could be submitted\n",
    "write_to_submission_file(y_test, 'baseline_1.csv')"
   ]
  },
  {
   "cell_type": "markdown",
   "metadata": {},
   "source": [
    "If you follow these steps and upload the answer to the competition [page](https://inclass.kaggle.com/c/catch-me-if-you-can-intruder-detection-through-webpage-session-tracking2), you will get `ROC AUC = 0.90812` on the public leaderboard (\"A3 baseline 1\").\n",
    "\n",
    "### 4. Model Improvement: Feature Engineering\n",
    "\n",
    "Now we are going to try to improve the quality of our model by adding new features to the data."
   ]
  },
  {
   "cell_type": "markdown",
   "metadata": {},
   "source": [
    "Create a feature that will be a number in YYYYMM format from the date when the session was held, for example 201407 -- year 2014 and 7th month. Thus, we will take into account the monthly [linear trend](http://people.duke.edu/~rnau/411trend.htm) for the entire period of the data provided."
   ]
  },
  {
   "cell_type": "code",
   "execution_count": 19,
   "metadata": {},
   "outputs": [],
   "source": [
    "# Dataframe for new features\n",
    "full_new_feat = pd.DataFrame(index=full_df.index)\n",
    "\n",
    "# Add start_month feature\n",
    "full_new_feat['start_month'] = full_df['time1'].apply(lambda ts: \n",
    "                                                      100 * ts.year + ts.month).astype('float64')"
   ]
  },
  {
   "cell_type": "markdown",
   "metadata": {},
   "source": [
    "##### 4. Plot the graph of the number of Alice sessions versus the new feature, start_month. Choose the correct statement:\n",
    "\n",
    "*For discussions, please stick to [ODS Slack](https://opendatascience.slack.com/), channel #mlcourse_ai_news, pinned thread __#a3_part1_fall2019__*\n",
    "\n",
    "- Alice wasn't online at all for the entire period\n",
    "- From the beginning of 2013 to mid-2014, the number of Alice's sessions per month decreased\n",
    "- The number of Alice's sessions per month is generally constant for the entire period\n",
    "- From the beginning of 2013 to mid-2014, the number of Alice's sessions per month increased\n",
    "\n",
    "*Hint: the graph will be more explicit if you treat `start_month` as a categorical ordinal variable*."
   ]
  },
  {
   "cell_type": "code",
   "execution_count": 20,
   "metadata": {},
<<<<<<< HEAD
   "outputs": [
    {
     "data": {
      "text/plain": [
       "201301.0      0\n",
       "201302.0     61\n",
       "201303.0      0\n",
       "201304.0     38\n",
       "201305.0      0\n",
       "201306.0      0\n",
       "201307.0      0\n",
       "201308.0      0\n",
       "201309.0    377\n",
       "201310.0      0\n",
       "201311.0    446\n",
       "201312.0    134\n",
       "201401.0    129\n",
       "201402.0    410\n",
       "201403.0    400\n",
       "201404.0    302\n",
       "201405.0    229\n",
       "201406.0     54\n",
       "201407.0     83\n",
       "201408.0     69\n",
       "201409.0     37\n",
       "201410.0     80\n",
       "201411.0     84\n",
       "201412.0    121\n",
       "Name: start_month, dtype: int64"
      ]
     },
     "execution_count": 20,
     "metadata": {},
     "output_type": "execute_result"
    }
   ],
   "source": [
    "month = full_new_feat['start_month'].astype('category')\n",
    "month[y_train == 1].value_counts().sort_index()"
=======
   "outputs": [],
   "source": [
    "# You code here"
>>>>>>> 90bf0400b0ee8ebde0e182ceb2fdbada72ccb352
   ]
  },
  {
   "cell_type": "markdown",
   "metadata": {},
   "source": [
    "In this way, we have an illustration and thoughts about the usefulness of the new feature, add it to the training sample and check the quality of the new model:"
   ]
  },
  {
   "cell_type": "code",
   "execution_count": 21,
   "metadata": {},
   "outputs": [
    {
     "name": "stdout",
     "output_type": "stream",
     "text": [
      "0.7508354860175162\n"
     ]
    }
   ],
   "source": [
    "# Add the new feature to the sparse matrix\n",
    "tmp = full_new_feat[['start_month']].values\n",
    "X_train = csr_matrix(hstack([full_sites_sparse[:idx_split,:], tmp[:idx_split,:]]))\n",
    "\n",
    "# Compute the metric on the validation set\n",
    "print(get_auc_lr_valid(X_train, y_train))"
   ]
  },
  {
   "cell_type": "markdown",
   "metadata": {},
   "source": [
    "The quality of the model has decreased significantly. We added a feature that definitely seemed useful to us, but its usage only worsened the model. Why did it happen?\n",
    "\n",
    "### Important detour #2: is it necessary to scale features?\n",
    "\n",
    "Here we give an intuitive reasoning (a rigorous mathematical justification for one or another aspect in linear models you can easily find on the internet). Consider the features more closely: those of them that correspond to the number of visits to a particular web-site per session vary from 0 to 10. The feature `start_month` has a completely different range: from 201301 to 201412, this means the contribution of this variable is significantly greater than the others. It would seem that problem can be avoided if we put less weight in a linear combination of attributes in this case, but in our case logistic regression with regularization is used (by default, this parameter is `C = 1`), which penalizes the model the stronger the greater its weights are. Therefore, for linear methods with regularization, it is recommended to convert features to the same scale (you can read more about the regularization, for example, [here](https://habrahabr.ru/company/ods/blog/322076/)).\n",
    "\n",
    "One way to do this is standardization: for each observation you need to subtract the average value of the feature and divide this difference by the standard deviation:\n",
    "\n",
    "$$ x^{*}_{i} = \\dfrac{x_{i} - \\mu_x}{\\sigma_x}$$\n",
    "\n",
    "The following practical tips can be given:\n",
    "- It is recommended to scale features if they have essentially different ranges or different units of measurement (for example, the country's population is indicated in units, and the country's GNP in trillions)\n",
    "- Scale features if you do not have a reason/expert opinion to give a greater weight to any of them\n",
    "- Scaling can be excessive if the ranges of some of your features differ from each other, but they are in the same system of units (for example, the proportion of middle-aged people and people over 80 among the entire population)\n",
    "- If you want to get an interpreted model, then build a model without regularization and scaling (most likely, its quality will be worse)\n",
    "- Binary features (which take only values of 0 or 1) are usually left without conversion, (but)\n",
    "- If the quality of the model is crucial, try different options and select one where the quality is better\n",
    "\n",
    "Getting back to `start_month`, let us rescale the new feature and train the model again. This time the quality has increased:"
   ]
  },
  {
   "cell_type": "code",
   "execution_count": 22,
   "metadata": {},
   "outputs": [
    {
     "name": "stdout",
     "output_type": "stream",
     "text": [
      "0.9196984641972088\n"
     ]
    }
   ],
   "source": [
    "# Add the new standardized feature to the sparse matrix\n",
<<<<<<< HEAD
    "tmp1 = StandardScaler().fit_transform(full_new_feat[['start_month']])\n",
    "X_train = csr_matrix(hstack([full_sites_sparse[:idx_split,:], tmp1[:idx_split,:]]))\n",
=======
    "tmp = StandardScaler().fit_transform(full_new_feat[['start_month']])\n",
    "X_train = csr_matrix(hstack([full_sites_sparse[:idx_split,:], tmp[:idx_split,:]]))\n",
>>>>>>> 90bf0400b0ee8ebde0e182ceb2fdbada72ccb352
    "\n",
    "# Compute metric on the validation set\n",
    "print(get_auc_lr_valid(X_train, y_train))"
   ]
  },
  {
   "cell_type": "markdown",
   "metadata": {},
   "source": [
    "##### 5. Add to the training set a new feature \"n_unique_sites\" – the number of the unique web-sites in a session. Calculate how the quality on the validation set has changed\n",
    "\n",
    "*For discussions, please stick to [ODS Slack](https://opendatascience.slack.com/), channel #mlcourse_ai_news, pinned thread __#a3_part1_fall2019__*\n",
    "\n",
    "- It has decreased. It is better not to add a new feature.\n",
    "- It has not changed\n",
    "- It has decreased. The new feature should be scaled.\n",
    "- I am confused, and I do not know if it's necessary to scale a new feature.\n",
    "\n",
    "*Tips: use the nunique() function from `pandas`. Do not forget to include the start_month in the set. Will you scale a new feature? Why?*"
   ]
  },
  {
   "cell_type": "code",
   "execution_count": 23,
   "metadata": {},
<<<<<<< HEAD
   "outputs": [
    {
     "data": {
      "text/plain": [
       "session_id\n",
       "21669     2\n",
       "54843     2\n",
       "77292     6\n",
       "114021    5\n",
       "146670    6\n",
       "dtype: int64"
      ]
     },
     "execution_count": 23,
     "metadata": {},
     "output_type": "execute_result"
    }
   ],
   "source": [
    "for_unique = full_sites.replace(0, np.nan)\n",
    "unique = for_unique.nunique(axis=1,dropna=True)\n",
    "unique.head()"
   ]
  },
  {
   "cell_type": "code",
   "execution_count": 24,
   "metadata": {},
   "outputs": [
    {
     "name": "stdout",
     "output_type": "stream",
     "text": [
      "0.9196827643967169\n"
     ]
    }
   ],
   "source": [
    "# not scaled\n",
    "tmp2 = np.ndarray(shape=(unique.shape[0], 1), buffer=unique.values)\n",
    "\n",
    "X_train = csr_matrix(hstack([full_sites_sparse[:idx_split,:], tmp1[:idx_split,:], tmp2[:idx_split,:]]))\n",
    "\n",
    "# Compute metric on the validation set\n",
    "print(get_auc_lr_valid(X_train, y_train))"
   ]
  },
  {
   "cell_type": "code",
   "execution_count": 25,
   "metadata": {},
   "outputs": [
    {
     "name": "stdout",
     "output_type": "stream",
     "text": [
      "0.9196827643967169\n"
     ]
    }
   ],
   "source": [
    "# scaled\n",
    "tmp3 = StandardScaler().fit_transform(tmp2)\n",
    "\n",
    "X_train = csr_matrix(hstack([full_sites_sparse[:idx_split,:], tmp1[:idx_split,:], tmp3[:idx_split,:]]))\n",
    "\n",
    "# Compute metric on the validation set\n",
    "print(get_auc_lr_valid(X_train, y_train))"
=======
   "outputs": [],
   "source": [
    "# You code here"
>>>>>>> 90bf0400b0ee8ebde0e182ceb2fdbada72ccb352
   ]
  },
  {
   "cell_type": "markdown",
   "metadata": {},
   "source": [
    "So, the new feature has slightly decreased the quality, so we will not use it. Nevertheless, do not rush to throw features out because they haven't performed well. They can be useful in a combination with other features (for example, when a new feature is a ratio or a product of two others).\n",
    "\n",
    "#####  6. Add two new features: start_hour and morning. Calculate the metric. Which of these features gives an improvement?\n",
    "\n",
    "The `start_hour` feature is the hour at which the session started (from 0 to 23), and the binary feature `morning` is equal to 1 if the session started in the morning and 0 if the session started later (we assume that morning means `start_hour` is equal to 11 or less).\n",
    "\n",
    "Will you scale the new features? Make your assumptions and test them in practice.\n",
    "\n",
    "*For discussions, please stick to [ODS Slack](https://opendatascience.slack.com/), channel #mlcourse_ai_news, pinned thread __#a3_part1_fall2019__*\n",
    "\n",
    "- None of the features gave an improvement :(\n",
    "- `start_hour` feature gave an improvement, and `morning` did not\n",
    "- `morning` feature gave an improvement, and `start_hour` did not\n",
    "- Both features gave an improvement\n",
    "\n",
    "*Tip: find suitable functions for working with time series data in [documentation](http://pandas.pydata.org/pandas-docs/stable/api.html). Do not forget to include the `start_month` feature.*"
   ]
  },
  {
   "cell_type": "code",
<<<<<<< HEAD
   "execution_count": 26,
   "metadata": {},
   "outputs": [
    {
     "name": "stdout",
     "output_type": "stream",
     "text": [
      "0.9196827643967169\n"
     ]
    }
   ],
   "source": [
    "start_hour = time_df['min'].apply(lambda ts: ts.hour)\n",
    "\n",
    "# not scaled\n",
    "tmp4 = np.ndarray(shape=(start_hour.shape[0], 1), buffer=start_hour.values)\n",
    "\n",
    "X_train = csr_matrix(hstack([full_sites_sparse[:idx_split,:], tmp1[:idx_split,:], tmp4[:idx_split,:]]))\n",
    "\n",
    "# Compute metric on the validation set\n",
    "print(get_auc_lr_valid(X_train, y_train))"
   ]
  },
  {
   "cell_type": "code",
   "execution_count": 27,
   "metadata": {},
   "outputs": [
    {
     "name": "stdout",
     "output_type": "stream",
     "text": [
      "0.9196827643967169\n"
     ]
    }
   ],
   "source": [
    "# scaled\n",
    "tmp5 = StandardScaler().fit_transform(tmp4)\n",
    "\n",
    "X_train = csr_matrix(hstack([full_sites_sparse[:idx_split,:], tmp1[:idx_split,:], tmp5[:idx_split,:]]))\n",
    "\n",
    "# Compute metric on the validation set\n",
    "print(get_auc_lr_valid(X_train, y_train))"
=======
   "execution_count": 24,
   "metadata": {},
   "outputs": [],
   "source": [
    "# You code here"
   ]
  },
  {
   "cell_type": "markdown",
   "metadata": {},
   "source": [
    "### 5. Regularization and Parameter Tuning\n",
    "\n",
    "We have introduced features that improve the quality of our model in comparison with the first baseline. Can we do even better? After we have changed the training and test sets, it almost always makes sense to search for the optimal hyperparameters - the parameters of the model that do not change during training.\n",
    "\n",
    "For example, in week 3, you learned that, in decision trees, the depth of the tree is a hyperparameter, but the feature by which splitting occurs and its threshold is not. \n",
    "\n",
    "In the logistic regression that we use, the weights of each feature are changing, and we find their optimal values during training; meanwhile, the regularization parameter remains constant. This is the hyperparameter that we are going to optimize now.\n",
    "\n",
    "Calculate the quality on a validation set with a regularization parameter, which is equal to 1 by default:"
>>>>>>> 90bf0400b0ee8ebde0e182ceb2fdbada72ccb352
   ]
  },
  {
   "cell_type": "code",
<<<<<<< HEAD
   "execution_count": 28,
   "metadata": {},
   "outputs": [
    {
     "data": {
      "text/plain": [
       "session_id\n",
       "21669     1\n",
       "54843     1\n",
       "77292     1\n",
       "114021    1\n",
       "146670    1\n",
       "Name: min, dtype: int64"
      ]
     },
     "execution_count": 28,
     "metadata": {},
     "output_type": "execute_result"
    }
   ],
   "source": [
    "morning = start_hour.apply(lambda h: 1 if h <= 11 else 0)\n",
    "morning.head()"
   ]
  },
  {
   "cell_type": "code",
   "execution_count": 29,
   "metadata": {},
   "outputs": [
    {
     "name": "stdout",
     "output_type": "stream",
     "text": [
      "0.9196827643967169\n"
     ]
    }
   ],
   "source": [
    "# not scaled\n",
    "tmp6 = np.ndarray(shape=(morning.shape[0], 1), buffer=morning.values)\n",
    "\n",
    "X_train = csr_matrix(hstack([full_sites_sparse[:idx_split,:], tmp1[:idx_split,:], tmp6[:idx_split,:]]))\n",
    "\n",
    "# Compute metric on the validation set\n",
    "print(get_auc_lr_valid(X_train, y_train))"
   ]
  },
  {
   "cell_type": "code",
   "execution_count": 30,
   "metadata": {},
   "outputs": [
    {
     "name": "stdout",
     "output_type": "stream",
     "text": [
      "0.9196827643967169\n"
     ]
    }
   ],
   "source": [
    "# scaled\n",
    "tmp7 = StandardScaler().fit_transform(tmp6)\n",
    "\n",
    "X_train = csr_matrix(hstack([full_sites_sparse[:idx_split,:], tmp1[:idx_split,:], tmp7[:idx_split,:]]))\n",
    "\n",
    "# Compute metric on the validation set\n",
    "print(get_auc_lr_valid(X_train, y_train))"
   ]
  },
  {
   "cell_type": "code",
   "execution_count": 31,
   "metadata": {},
   "outputs": [
    {
     "name": "stdout",
     "output_type": "stream",
     "text": [
      "0.9196986151568289\n"
     ]
    }
   ],
   "source": [
    "X_train = csr_matrix(hstack([full_sites_sparse[:idx_split,:], tmp1[:idx_split,:], tmp4[:idx_split,:], tmp6[:idx_split,:]]))\n",
    "\n",
    "# Compute metric on the validation set\n",
    "print(get_auc_lr_valid(X_train, y_train))"
   ]
  },
  {
   "cell_type": "code",
   "execution_count": 32,
   "metadata": {},
   "outputs": [
    {
     "name": "stdout",
     "output_type": "stream",
     "text": [
      "0.9196986151568289\n"
     ]
    }
   ],
   "source": [
    "X_train = csr_matrix(hstack([full_sites_sparse[:idx_split,:], tmp1[:idx_split,:], tmp5[:idx_split,:], tmp7[:idx_split,:]]))\n",
    "\n",
    "# Compute metric on the validation set\n",
    "print(get_auc_lr_valid(X_train, y_train))"
   ]
  },
  {
   "cell_type": "markdown",
   "metadata": {},
   "source": [
    "### 5. Regularization and Parameter Tuning\n",
    "\n",
    "We have introduced features that improve the quality of our model in comparison with the first baseline. Can we do even better? After we have changed the training and test sets, it almost always makes sense to search for the optimal hyperparameters - the parameters of the model that do not change during training.\n",
    "\n",
    "For example, in week 3, you learned that, in decision trees, the depth of the tree is a hyperparameter, but the feature by which splitting occurs and its threshold is not. \n",
    "\n",
    "In the logistic regression that we use, the weights of each feature are changing, and we find their optimal values during training; meanwhile, the regularization parameter remains constant. This is the hyperparameter that we are going to optimize now.\n",
    "\n",
    "Calculate the quality on a validation set with a regularization parameter, which is equal to 1 by default:"
   ]
  },
  {
   "cell_type": "code",
   "execution_count": 33,
   "metadata": {},
   "outputs": [
    {
     "data": {
      "text/html": [
       "<div>\n",
       "<style scoped>\n",
       "    .dataframe tbody tr th:only-of-type {\n",
       "        vertical-align: middle;\n",
       "    }\n",
       "\n",
       "    .dataframe tbody tr th {\n",
       "        vertical-align: top;\n",
       "    }\n",
       "\n",
       "    .dataframe thead th {\n",
       "        text-align: right;\n",
       "    }\n",
       "</style>\n",
       "<table border=\"1\" class=\"dataframe\">\n",
       "  <thead>\n",
       "    <tr style=\"text-align: right;\">\n",
       "      <th></th>\n",
       "      <th>start_month</th>\n",
       "      <th>morning</th>\n",
       "      <th>start_hour</th>\n",
       "    </tr>\n",
       "    <tr>\n",
       "      <th>session_id</th>\n",
       "      <th></th>\n",
       "      <th></th>\n",
       "      <th></th>\n",
       "    </tr>\n",
       "  </thead>\n",
       "  <tbody>\n",
       "    <tr>\n",
       "      <th>21669</th>\n",
       "      <td>201301.0</td>\n",
       "      <td>1</td>\n",
       "      <td>8</td>\n",
       "    </tr>\n",
       "    <tr>\n",
       "      <th>54843</th>\n",
       "      <td>201301.0</td>\n",
       "      <td>1</td>\n",
       "      <td>8</td>\n",
       "    </tr>\n",
       "    <tr>\n",
       "      <th>77292</th>\n",
       "      <td>201301.0</td>\n",
       "      <td>1</td>\n",
       "      <td>8</td>\n",
       "    </tr>\n",
       "    <tr>\n",
       "      <th>114021</th>\n",
       "      <td>201301.0</td>\n",
       "      <td>1</td>\n",
       "      <td>8</td>\n",
       "    </tr>\n",
       "    <tr>\n",
       "      <th>146670</th>\n",
       "      <td>201301.0</td>\n",
       "      <td>1</td>\n",
       "      <td>8</td>\n",
       "    </tr>\n",
       "  </tbody>\n",
       "</table>\n",
       "</div>"
      ],
      "text/plain": [
       "            start_month  morning  start_hour\n",
       "session_id                                  \n",
       "21669          201301.0        1           8\n",
       "54843          201301.0        1           8\n",
       "77292          201301.0        1           8\n",
       "114021         201301.0        1           8\n",
       "146670         201301.0        1           8"
      ]
     },
     "execution_count": 33,
     "metadata": {},
     "output_type": "execute_result"
    }
   ],
   "source": [
    "full_new_feat['morning'] = morning\n",
    "full_new_feat['start_hour'] = start_hour\n",
    "full_new_feat.head()"
   ]
  },
  {
   "cell_type": "code",
   "execution_count": 34,
   "metadata": {},
   "outputs": [
    {
     "name": "stdout",
     "output_type": "stream",
     "text": [
      "0.9591472321251733\n"
     ]
    }
   ],
=======
   "execution_count": null,
   "metadata": {},
   "outputs": [],
>>>>>>> 90bf0400b0ee8ebde0e182ceb2fdbada72ccb352
   "source": [
    "# Compose the training set\n",
    "tmp_scaled = StandardScaler().fit_transform(full_new_feat[['start_month', \n",
    "                                                           'start_hour', \n",
    "                                                           'morning']])\n",
    "X_train = csr_matrix(hstack([full_sites_sparse[:idx_split,:], \n",
    "                             tmp_scaled[:idx_split,:]]))\n",
    "\n",
    "# Capture the quality with default parameters\n",
    "score_C_1 = get_auc_lr_valid(X_train, y_train)\n",
    "print(score_C_1)"
   ]
  },
  {
   "cell_type": "markdown",
   "metadata": {},
   "source": [
    "We will try to beat this result by optimizing the regularization parameter. We will take a list of possible values of C and calculate the quality metric on the validation set for each of C-values:"
   ]
  },
  {
   "cell_type": "code",
<<<<<<< HEAD
   "execution_count": 35,
   "metadata": {},
   "outputs": [
    {
     "data": {
      "text/plain": [
       "[0.8206277414267011,\n",
       " 0.8959200596350883,\n",
       " 0.9388321431676883,\n",
       " 0.956320664198175,\n",
       " 0.960675849238439,\n",
       " 0.9612025473530136,\n",
       " 0.9603192826157316,\n",
       " 0.958669143008275,\n",
       " 0.9557636231999576,\n",
       " 0.9513100124873798]"
      ]
     },
     "execution_count": 35,
     "metadata": {},
     "output_type": "execute_result"
    }
   ],
=======
   "execution_count": 26,
   "metadata": {},
   "outputs": [],
>>>>>>> 90bf0400b0ee8ebde0e182ceb2fdbada72ccb352
   "source": [
    "# List of possible C-values\n",
    "Cs = np.logspace(-3, 1, 10)\n",
    "\n",
<<<<<<< HEAD
    "roc_aucs = [get_auc_lr_valid(X_train, y_train, C=c) for c in Cs]\n",
    "roc_aucs"
   ]
  },
  {
   "cell_type": "code",
   "execution_count": 42,
   "metadata": {},
   "outputs": [
    {
     "data": {
      "text/plain": [
       "array([ 0.  ,  0.  ,  0.01,  0.02,  0.06,  0.17,  0.46,  1.29,  3.59,\n",
       "       10.  ])"
      ]
     },
     "execution_count": 42,
     "metadata": {},
     "output_type": "execute_result"
    }
   ],
   "source": [
    "Cs.round(2)"
=======
    "# You code here"
>>>>>>> 90bf0400b0ee8ebde0e182ceb2fdbada72ccb352
   ]
  },
  {
   "cell_type": "markdown",
   "metadata": {},
   "source": [
    "Plot the graph of the quality metric (AUC-ROC) versus the value of the regularization parameter. The value of quality metric corresponding to the default value of C=1 is represented by a horizontal dotted line:"
   ]
  },
  {
   "cell_type": "code",
<<<<<<< HEAD
   "execution_count": 36,
   "metadata": {},
   "outputs": [
    {
     "data": {
      "text/plain": [
       "<matplotlib.collections.PathCollection at 0x1a19454908>"
      ]
     },
     "execution_count": 36,
     "metadata": {},
     "output_type": "execute_result"
    },
    {
     "data": {
      "image/png": "iVBORw0KGgoAAAANSUhEUgAAAwQAAAH2CAYAAADOPkvZAAAABHNCSVQICAgIfAhkiAAAAAlwSFlzAAAWJQAAFiUBSVIk8AAAADh0RVh0U29mdHdhcmUAbWF0cGxvdGxpYiB2ZXJzaW9uMy4xLjAsIGh0dHA6Ly9tYXRwbG90bGliLm9yZy+17YcXAAAgAElEQVR4nOzde5QeVZ3v/3dL6CQQTIgJAjEmiPKNjSAoeIvIRTiAXMSFR0eHH+D9OMoMDj9xvAyeGUeHgyKjIwyjuMTj7TA/BQXBIJfhYoDhombEwJfLmUAMAo2YQCAhNOnfH1WPPDx5up/ufjqXrnq/1mLtdNWuXdXZrmV9smvv3TM4OIgkSZKkenre5n4ASZIkSZuPgUCSJEmqMQOBJEmSVGMGAkmSJKnGDASSJElSjRkIJEmSpBozEEiSJEk1ZiCQJEmSasxAIEmSJNWYgUCSJEmqMQOBJEmSVGMGAkmSJKnGJm3uB6i4XwG7AKuBezbzs0iSJKm6XgpMA/4L2Hs0F/YMDg5ulCcSACuB6Zv7ISRJklQbq4AZo7nAEYKNazUwff36QQYGntmkN+7tLbp23bqBTXpfbVr2c/XZx/VgP1effVwPm7OfJ03aiuc9rweK98/RXTv+j6Mm9wBzBgaeYdWqNZv0xrNnbwewye+rTct+rj77uB7s5+qzj+thc/bz9OlTG4Fk1J+pO6lYkiRJqjEDgSRJklRjBgJJkiSpxgwEkiRJUo0ZCCRJkqQaMxBIkiRJNWYgkCRJkmrMQCBJkiTVmIFAkiRJqrFx26k4Ig4GPgXsCfQCtwGnZ+blo2jjGOBk4FXAeuB24OzM/EFLvf8JfHYETV6bmQc0XfdN4L3D1D8kM68c6fNKkiRJE924BIKIOBH4FvAUcDWwFXAgsCgiPpSZXx9BG18APln+uAS4H9gH+H5EHAq8LzOfKc//J/C9YZp7G7AN8KuW43sDg8D3h7ju952eU5IkSaqSrgNBROwEnAusAt6YmbeXx/cFrgS+EhGXZuaKYdp4M0UYWAe8KzMvLI9PBc4DTgBuBb4GUJ6/cIi23gv8OfAfwKlNx7cGdgfuzczjuvmdJUmSpKoYjzkEJwGTgbMaYQAgM28BzgCmAB/s0MYHyvJLjTBQtrEG+BDQD3w2IoYNMBHxMuCrwBrguMx8uun07jz7KZMkSZIkxicQHFaWP25z7qKyPLxDG3uU5SWtJzJzNcXowCyKT4iGcxawLfAPmXlPy7m9y9JAIEmSJJW6+mQoInqAPooJwHe0qXJXeW73iOjJzMEhmmoEk8eHOD9Qli8HbhriWQ4FjgDuA77cpkojEGwVET8CXg9MB34DfDUzh5pXIEmSJFVWt3MItqf4XKg/M9e1nszMgYh4BNgB2A54bIh2ElgA7Af8tvlEREwGXl3+OHuYZ/m7svxfmbm2zflGIPhH4P8CNwLzgH2B70XEvpn5sWHaH7Pe3knMnr3dxmi6o811X21a9nP12cf1YD9Xn31cDxOtn7v9ZGjbsnxymDprynLaMHW+XZafj4jXNg5GRC/FnICdy0OT210cEQuB1wIPUax21Hq+B3hl+ePHgZdm5rGZuQ9wMMWE6JMj4qhhnlGSJEmqnG5HCNaX5VCfAgH0tJQbyMyLIuI84P3ADRFxM/AwxX4EMygCwwnA00M08Vdl+c/tRgcyczAi5gI7Z+YdLef+PSI+C/wT8BHazGPo1rp1A6xataZzxXHUSKb9/UN9haUqsJ+rzz6uB/u5+uzjetic/Tx9+lR6e8f2at/tCMHqspw6TJ0pZfnEcA1l5gcoVhv6T4rPe14PXFf++a6y2srW6yJiG+DI8sfvDtP+qtYw0KQRAl49xHlJkiSpkrodIXiMIhTMiohJmTnQfLJcJnQWsDYzN3iZb5WZ51HsO/AcEbGg/OP9bS47nCKQ3JSZ943y+RseLMttxni9JEmSNCF1NUJQrhq0lGJn4t3aVInyHr8Zrp2IeFFEHBIRc4aociDFZ0ntlgx9S1m23aisbH/viDi/3A25nV3K8nfDPackSZJUNeOxD8GisjymzbnGscs6tHEE8HPgw60nIuJI4EXA9Zn5UJtrG5OQFw/T/gDFHIS/jIjntzl/fFle3uE5JUmSpEoZj0DwLWAt8ImI+NM3+BGxD3AqxSpD5zQd3zUiFkTE9KY2fkYxYfgjEfHSproBnFv+eFrrjSNiW4rlSgeAXw71gJn5G4plRrcFvhERjXkNRMRhFJOSn6T9/gWSJElSZXUdCDJzGXAK8Hzgxoj4WUQsAm6g2Hvgg5n5cNMlV1FsYva2pjbuBz5NsaLQkoi4NCIup/jUaA7wicy8ts3tX0zxudLvh9h7oNkJFHMF3gHcGxEXRcQNFGFkK+D/KX8XSZIkqTbGY4SAzDwHOIpiF+H9KDb7+gVwSGYOufJPSxtfBN5LsaLQm4G9gKvLNs4Y4rLGRmUdv/3PzLspViw6m2JE4QjgpcAPgX0yc8g5CJIkSVJV9QwODreFgLp0DbC/+xBoY7Gfq88+rgf7ufrs43rYQvYhuBY4YDTXjssIgSRJkqSJyUAgSZIk1ZiBQJIkSaoxA4EkSZJUYwYCSZIkqcYMBJIkSVKNGQgkSZKkGjMQSJIkSTVmIJAkSZJqzEAgSZIk1ZiBQJIkSaoxA4EkSZJUYwYCSZIkqcYMBJIkSVKNGQgkSZKkGjMQSJIkSTU2aXM/gDafFf2rWXrfH1n71ABTJk+ib972zJk9bXM/liRJkjYhA0ENtL74T976edxw+0PctXzlBnV3mzuDoxfOp2/+zM3wpJIkSdrUDAQVtuSufv73ZUvbvvgP5a7lKznzgl9z4mEL2O+VO4/oGkcaJEmSJi4DQUX9/D/u42v/368ZHBz9tYODcP6iO3nB9CnDjhQsXfYoFy9e5kiDJEnSBOak4gpauuzRMYeBhsFBuGTxsiHPX7fkAc684NdDjj40RhquX/LA2B9CkiRJG52BoIIuXrysqzDQkMtXsqJ/9QbHly57lG8vurPjPRojDUuXPdr9w0iSJGmj8JOhilnRv3pUcwY6WXrfHzeYDzCawNEYaZgonw45H0KSJNWNgaBilt73x3Ftb+1TA8/5eSyBozHSsCW/WDsfQpIk1ZWfDFVM6wt8t6ZMfm5mHGvgGO+gMp6cDyFJkurMQFAxrS/w3eqbt/1zfh5r4BjvoDJenA8hSZLqzkBQMa0v8N2IuTM2+MxnrIFjvIPKeBnLfAhJkqQqMRBUzJzZ09ht7oyu2+npgaMWzt/g+FgDx3gGlfHSzXwISZKkqjAQVNArd31BV9f39MCJhy1oO4l2LIGj3UjDlqCK8yEkSZJGa8v8jkNjdt2SB/jhtfeO+fqYO4OjOqyoc/TC+Zx5wcg2PhtqpGFLULX5ENr0XKZWklQFBoIKGekE2Yb/tu9cXjB9yqhfZvrmz+SEwxZ0vNdwIw1bgqrNh9Cm4zK1kqQq8c2mQka7Q/F9Dz7On735ZWO615teuTOzpk/hksXLyDYvRSMZadjcqjQfQpvOdUseGDYMN5apPfGwBez3yp037cNJkjQGBoKK2BwbhvXNn0nf/JkT9rOJxnyI0fy9banzIbRpjHaZ2hdMn7JFh2JJksBAUBndTJDt9gV3zuxpE/YluSrzIbRpjGWZWgOBJGlL5ypDFeEE2bFpzIfo6Rm+3pY+H0Ibn8vUSpKqyhGCinCC7NhVYT6ENr7NOQonSdLG5NtgRThBtjsTfT6ENj5H4SRJVWUgqAgnyI6PiTwfQhuXo3CSpKpyDkGFHL1wfsdv4RucICuNjqNwkqSqMhBUiBNkpY2nMQo3Go7CSVJ9rOhfzcXX38sFVyRX3Lp8Qi0q4Vh2xTQmyC66ZTm33/uHDc47QVYaO5eplSS1qsLu9QaCCuqbP5P9953HfQ8+xuJf/c4JstI4aYzCddqczFE4SaqHquxeP26BICIOBj4F7An0ArcBp2fm5aNo4xjgZOBVwHrgduDszPzBEPXvBV4yTJNbZ+ZAU/2pZfvHAbsAK4FLgdMy8/cjfc6JYt6Oz2ebfeZu7seQKsVlaiVJUK3d68clEETEicC3gKeAq4GtgAOBRRHxocz8+gja+ALwyfLHJcD9wD7A9yPiUOB9mflMU/3pFC/1DwFXDtHs+qb6WwM/AQ4BlgOXAQuA9wNHRsRrM/P+kf7OkurLZWolSVXavb7rQBAROwHnAquAN2bm7eXxfSle1L8SEZdm5oph2ngzRRhYB7wrMy8sj08FzgNOAG4FvtZ02V5AD3BJZn5gBI96EkUYuBQ4NjOfKu/xeYqRjbOBo0b6e0uSy9RKUj11s3v9lvj/G+OxytBJwGTgrEYYAMjMW4AzgCnABzu00Xih/1IjDJRtrAE+BPQDn42I5gCzd1ne1ukBI6IH+GtgEPhoIwyU/hZIilGCXTq1JUmSpHrrZvf6LdF4BILDyvLHbc5dVJaHd2hjj7K8pPVEZq6mGB2YRfEJUcOIA0HZ/hxgSWYua2l/PXDxCJ9TkiRJNVe13eu7+mSo/Jf3Popv9e9oU+Wu8tzuEdGTmUN9adUIJo8Pcb7xt/dy4Kbyz3sDzxSPEWdSTGYeBH4BfC4zb266fveyvJ327izLPYY4L0mSJAHV272+26fanuJzof7MXNd6MjMHIuIRYAdgO+CxIdpJigm++wG/bT4REZOBV5c/zm469nKKycvfAW4B/h14BXAkcGhEvDszf1het1NZDrWSUOP4C4f8TbvQ2zuJ2bO32xhNd7S57qtNy36uPvu4Huzn6rOPq2Hh3i/iB1fePabrtsT/DXT7ydC2ZfnkMHXWlOVwMyi+XZafj4jXNg5GRC/wVaCxcOvkstyDIsw8Dhycma/JzLdl5suAjwFbA+dHxI4jfM6RPKMkSZLEvB2fz+4vecGornnFri9g3o7P30hP1J1uRwgay3oOt+hST0u5gcy8KCLOo1gC9IaIuBl4mGI/ghkUgeEE4Omy/q3l6kaTM/O+lrb+KSL2B44BTgROH8FzdnzGbqxbN8CqVWs6VxxHjfTZ3z/UV1iqAvu5+uzjerCfq88+rp7DXzOXpf/1hxHvXn/YvnM3av9Pnz6V3t6xvdp3O0KwuiynDlNnSlk+MVxD5dKhHwD+k2J+wOuB68o/31VWW9lU/8HWMNCkMTm58alRp+cc0TNKkiRJ8Ozu9T0d/jl5Iuxe3+0IwWMUL9uzImJS867AAOUyobOAtZnZcbHWzDyPYt+B54iIBeUfR7px2INluU1ZPlCWO7apC53nGEiSJEnPUZXd67sKBJk5GBFLgdcAuwFLW6oExSjEb4ZrJyJeRDFJeOkQG5gdSPG5z21l/XcCbwV+mpnfb1O/sZ/A78qysbpQ3xCP8PKyHPY5JUmSpGbNu9ff/4cnWbN2gGcGnplQu9ePxz4Ei8rymDbnGscu69DGEcDPgQ+3noiII4EXAddn5kPl4R2Adw1Rvwc4rvzxcoDMvAO4D3hVRMxtqf884GiKwHF5h+eUJEmSNjBn9jSO3m9X3nlIcMg+cydMGIDxCQTfAtYCn4iIxjf7RMQ+wKkUK/ic03R814hYEBHTm9r4GcWE4Y9ExEub6gZwbvnjaU31/w/F50pvjIiPNdXvKeu9juJf+y9uuuZfKJYp/WZEbNt0/HMUoxsXZea9o/zdJUmSpAmt690RMnNZRJwCnA3cGBFXUazWc1DZ/vGZ+XDTJVcB84D3AOeXbdwfEZ8GzgCWRMQ15bUHUiwh+onMvLbpnv0R8V7gB8CXI+J9FJuL7UHxcv8gcGzLnIazKPYoOAS4OyJuoPik6RUUcxM+2u3fhSRJkjTRjMcIAZl5DnAUxS7C+wH7UuwYfEhmfneEbXwReC/FikJvBvYCri7bOKNN/R9RrER0IcWGYkdT7FPwz8CemXl3S/11wKEUIwJPUoSDacDXgddlphOKJUmSVDs9gyNZPFVjdQ2wv/sQaGOxn6vPPq4H+7n67ON62Jz93LQPwbXAAaO5dlxGCCRJkiRNTAYCSZIkqcYMBJIkSVKNGQgkSZKkGjMQSJIkSTVmIJAkSZJqzEAgSZIk1ZiBQJIkSaoxA4EkSZJUYwYCSZIkqcYmbe4H0MZx34OPseTufh75wxNMmTyJvnnbM2f2tM39WJIkSdrCGAgqZumyR7l48TLuWr5yg3O7zZ3B0Qvn0zd/5mZ4MkmSJG2J/GSoQq5b8gBnXvDrtmEA4K7lKznzgl9z/ZIHNvGTSZIkaUtlIKiIpcse5duL7mRwcPh6g4Nw/qI7Wbrs0U3zYJIkSdqiGQgq4uLFyzqGgYbBQbhk8bKN+jySJEmaGAwEFbCif/WQnwkNJZevZEX/6o30RJIkSZooDAQVsPS+P27S6yRJklQdBoIKWPvUwCa9TpIkSdVhIKiAKZPHtnrsWK+TJElSdRgIKqBv3vab9DpJkiRVh4GgAubMnsZuc2eM6pqYO8OdiyVJkmQgqIqjF86np2dkdXt64KiF8zfq80iSJGliMBBURN/8mZxw2IKOoaCnB048bAF982dumgeTJEnSFs1ZpRXyplfuzKzpU7hk8TKyzb4EMXcGRy2cbxiQJEnSnxgIKqZv/kz65s/kyWcGWXJ3P4/84QmmTJ5E37ztnTMgSZKkDRgIKmrejs9n3o7Pp7//8c39KJIkSdqCOYdAkiRJqjEDgSRJklRjBgJJkiSpxgwEkiRJUo0ZCCRJkqQaMxBIkiRJNWYgkCRJkmrMQCBJkiTVmIFAkiRJqjEDgSRJklRjBgJJkiSpxgwEkiRJUo0ZCCRJkqQaMxBIkiRJNWYgkCRJkmrMQCBJkiTV2KTxaigiDgY+BewJ9AK3Aadn5uWjaOMY4GTgVcB64Hbg7Mz8wRD1+4BPAgcCOwCrgMXlfW9qU/8q4KBhHuFlmXnPSJ9XkiRJmujGJRBExInAt4CngKuBrShe0hdFxIcy8+sjaOMLFC/3AEuA+4F9gO9HxKHA+zLzmab6BwA/A6YAdwC3ALsAbwWOiIjjMvOCltvsBawGfjLEYzze8ZeVJEmSKqTrQBAROwHnUvzr/Bsz8/by+L7AlcBXIuLSzFwxTBtvpggD64B3ZeaF5fGpwHnACcCtwNfK41sD36YIAydl5tea2vpz4DvANyLiqsx8pDw+D5gJXJmZx3X7e0uSJElVMB5zCE4CJgNnNcIAQGbeApxB8dL+wQ5tfKAsv9QIA2Uba4APAf3AZyOiEWAOAl4MXN8cBsprvkcxArAdcETTqb3L8raR/2qSJElStY1HIDisLH/c5txFZXl4hzb2KMtLWk9k5mqK0YFZFJ8QAWxTHls0RHt3leXOTccMBJIkSVKLrj4ZiogeoI9iAvAdbarcVZ7bPSJ6MnNwiKYawWSob/gHyvLlwE2ZeRHPho129i3L3zUdawSCmRGxCHg1xejFrYxy8rMkSZJUFd3OIdie4nOh/sxc13oyMwci4hGKFYC2Ax4bop0EFgD7Ab9tPhERkyle3gFmd3qgiDiIYkLzGopJxw2NQHAuxepF1wG7AQcAB0TEyZn5lU7tj0Vv7yRmz95uYzTd0ea6rzYt+7n67ON6sJ+rzz6uh4nWz91+MrRtWT45TJ01ZTltmDrfLsvPR8RrGwcjohf4Ks9++jN5uIeJiPnAd8sf/7FpQvEs4EUUIw3vzsw9MvPYzNwDeGd5/MyI2Gu49iVJkqSq6XaEYH1ZDvUpEEBPS7mBzLwoIs4D3g/cEBE3Aw9T7EcwgyIwnAA8PVQbEbErxapGOwGXAp9vav+RiJgNbJ+Zd7fc+98i4vUU+x/8j/K/cbVu3QCrVq3pXHEcNZJpf78rqVaZ/Vx99nE92M/VZx/Xw+bs5+nTp9LbO7ZX+25HCFaX5dRh6kwpyyeGaygzP0Cx2tB/Unze83qKz3r25tlJwivbXVsucboYmA9cDrw9M9c318nMR1rDQJPGZOZXD3FekiRJqqRuRwgeowgFsyJiUmYONJ8slwmdBazNzLYv880y8zyKfQeeIyIWlH+8v825o4EfUKw8dAFwfLv5DB08WJbbjPI6SZIkaULraoSgXDVoKcXOxLu1qRLlPX4zXDsR8aKIOCQi5gxR5UCKz5Kes2RoRLwHuJDiRf7LFJuabRAGIuLgiPhORJw8RPu7lOXvhjgvSZIkVdJ47EPQ2AvgmDbnGscu69DGEcDPgQ+3noiIIykmBF+fmQ81HT+GYjThecApmXnKMMuaTgWOA/6qaXOzZseXpUuPSpIkqVbGIxB8C1gLfCIi/vQNfkTsA5xKscrQOU3Hd42IBRExvamNn1FMGP5IRLy0qW5QLBMKcFrT8R3L+z4P+FRmfrnDM14O3Ecxx+CMiNiqqa33AO8Afg98c4S/syRJklQJ3c4hIDOXRcQpwNnAjRFxFcWKQgeV7R+fmQ83XXIVMA94D3B+2cb9EfFp4AxgSURcU157ILA18InMvLapjZMpVh96GtgjIr5Lexdm5oWZuS4i3k0RDD4GHB0RS4CXAHtRzIM4NjNXdfe3IUmSJE0sXQcCgMw8JyLupxgR2A94CvgF8PnMvGqEbXyx3MTsL4E3A6uAq4EvZeaVLdUPKMutgXcP0+w9FHMMyMwbIuJVwGeAQ4CjgH6KUPL3mflfI3lOSZIkqUp6BgeH20JAXboG2N99CLSx2M/VZx/Xg/1cffZxPWwh+xBcy7P/eD4i4zGHQJIkSdIEZSCQJEmSasxAIEmSJNWYgUCSJEmqMQOBJEmSVGMGAkmSJKnGDASSJElSjRkIJEmSpBozEEiSJEk1ZiCQJEmSasxAIEmSJNWYgUCSJEmqMQOBJEmSVGMGAkmSJKnGDASSJElSjRkIJEmSpBozEEiSJEk1ZiCQJEmSasxAIEmSJNWYgUCSJEmqMQOBJEmSVGMGAkmSJKnGDASSJElSjRkIJEmSpBozEEiSJEk1ZiCQJEmSasxAIEmSJNWYgUCSJEmqMQOBJEmSVGMGAkmSJKnGDASSJElSjRkIJEmSpBozEEiSJEk1ZiCQJEmSasxAIEmSJNWYgUCSJEmqMQOBJEmSVGMGAkmSJKnGDASSJElSjRkIJEmSpBozEEiSJEk1Nmm8GoqIg4FPAXsCvcBtwOmZefko2jgGOBl4FbAeuB04OzN/MET9GcAngbcBc4GHgB8Bf5eZj7WpP7Vs/zhgF2AlcClwWmb+fqTPKUmSJFXFuIwQRMSJwBXAG4CbgRuBhcCiiPjgCNv4AnARsD/wf4HrgJcA34+I8yNiq5b6zweuBU6lCA8/Lcu/Bm6MiOkt9bcGfgJ8AdgOuAx4FHg/8MuIePGof3FJkiRpgus6EETETsC5wCpgn8x8S2YeShEIHgO+EhFzOrTxZop/6V8HHJuZe2Xm0cCuwPeBE4APt1z2DxSjEd8A+jLzvwO7Ad8B+srzzU4CDqEYEXhZZr49M19BERB2BM4ey+8vSZIkTWTjMUJwEjAZOCszb28czMxbgDOAKUCnUYIPlOWXMvPCpjbWAB8C+oHPRsQk+NOnQu+nCBynZOb6sv4A8BfAH4H3RcS2Zf0eipGDQeCjmflU073/FkjgyIjYZfS/viRJkjRxjUcgOKwsf9zm3EVleXiHNvYoy0taT2TmauBWYBawT3n4TcBU4OrMfLxN/SvL8/s3tT8HWJKZy1rqrwcuHuFzSpIkSZXSVSAo/+W9j+Lb/TvaVLmrPLd7WbfTczw+xPmBsnx5We5elre3qQtwZ1k2gsZo60uSJEm10O0IwfYUnwv9ITPXtZ4sP+F5BNiGYiLvULIs92s9ERGTgVeXP84uy53KcqiVgRrHXzjG+pIkSVItdLvs6LZl+eQwddaU5TSKb/7b+TbwVuDzEfGrzPwPgIjoBb4K7FzWmzzC+zbfcyz1x1Vv7yRmzx4uD208m+u+2rTs5+qzj+vBfq4++7geJlo/dztCsL4sB4ep09NSbiAzLwLOA2YCN0TEjRHxE+Be4N0UgQHg6RHet/Weo60vSZIk1UK3IwSry3LqMHWmlOUTwzWUmR+IiP8APgLsTTGacAXwWeAdZbWVI7xv6z1HW39crVs3wKpVazpXHEeNZNrfP9S0DFWB/Vx99nE92M/VZx/Xw+bs5+nTp9LbO7ZX+24DwWMUL9uzImJSOWfgT8plQmcBazNzZbsGmmXmeRQjBc8REQvKP95flg+U5Y5DNNU6Z2C09Se0Ff2rufHOh1mzdoBnBp6hb972zJm9Ub6GkiRJ0gTXVSDIzMGIWAq8hmJTsKUtVYLis6TfDNdORLyIYgWhpZm5ok2VAyk+97mt/LmxWlDfEE02ViNq3He09Sekpcse5eLFy7hr+YbZa7e5Mzh64Xz65s/cDE8mSZKkLdV47EOwqCyPaXOuceyyDm0cAfycDXcjJiKOBF4EXJ+ZD5WHr6OYCHxwY/OxpvrTgIMpRi6uB8jMO4D7gFdFxNyW+s8DjqYIHJd3eM4t1nVLHuDMC37dNgwA3LV8JWde8GuuX/JA2/OSJEmqp/EIBN8C1gKfiIjG8qBExD7AqRQv7uc0Hd81IhZExPSmNn5GMWH4IxHx0qa6AZxb/nha43hmPkEx0Xh74JymHYwnAWcDM4Cvt2xa9i/AVsA3W0LE5yhGNy7KzHvH9leweS1d9ijfXnQng8NN7QYGB+H8RXeydNmjm+bBJEmStMXrdg4BmbksIk6heBG/MSKuolit56Cy/eMz8+GmS64C5gHvAc4v27g/Ij4NnAEsiYhrymsPBLYGPpGZ17bc+tPl+eOBN0bEL4FXAS8BfkUxGbnZWcCRwCHA3RFxA8UnTa+gmJvw0e7+Jjafixcv6xgGGgYH4ZLFy/x0SJIkScD4jBCQmecARwE3UWwuti/wC+CQzPzuCNv4IvBeit2N3wzsBVxdtnFGm/qPAm+g2Kdg6/L+6ylCxYGZubql/jrgUIoRgScpwsE04OvA6zJzQk4oXtG/esjPhIaSy1eyon9154qSJEmqvJ7Bkf7TssbiGmD/jbns6BW3LucHV9496uvedfDLOGSfuZ0raovmMnbVZx/Xg/1cffZxPWwhy45eCxwwmmvHZYRAm8/apwY6VxrH6yRJklQtBoIJbsrksU0DGet1kiRJqhYDwQTXN2/7TXqdJEmSqsVAMMHNmT2N3ebOGNU1MSZtpEkAACAASURBVHeGOxdLkiQJMBBUwtEL59PTM7K6PT1w1ML5G/V5JEmSNHEYCCqgb/5MTjhsQcdQ0NMDJx62wD0IJEmS9CfOLK2IN71yZ2ZNn8Ili5eRbfYliLkzOGrhfMOAJEmSnsNAUCF982fSN38mK/pXc/8fnmTN2gGeGXiGvnnbO2dAkiRJbRkIKmjO7Gns1bcT4AYokiRJGp5zCCRJkqQaMxBIkiRJNWYgkCRJkmrMQCBJkiTVmIFAkiRJqjEDgSRJklRjBgJJkiSpxgwEkiRJUo0ZCCRJkqQaMxBIkiRJNWYgkCRJkmrMQCBJkiTVmIFAkiRJqjEDgSRJklRjBgJJkiSpxgwEkiRJUo0ZCCRJkqQaMxBIkiRJNWYgkCRJkmrMQCBJkiTVmIFAkiRJqjEDgSRJklRjBgJJkiSpxgwEkiRJUo0ZCCRJkqQaMxBIkiRJNWYgkCRJkmrMQCBJkiTVmIFAkiRJqjEDgSRJklRjBgJJkiSpxgwEkiRJUo0ZCCRJkqQamzReDUXEwcCngD2BXuA24PTMvHwUbbwO+AzwBmAasBy4GPj7zPxjU73/CXx2BE1em5kHNF33TeC9w9Q/JDOvHOnzSpIkSRPduASCiDgR+BbwFHA1sBVwILAoIj6UmV8fQRtvBX5YPtPNwO+BfYGTgSMj4g2Z2V9W/0/ge8M09zZgG+BXLcf3BgaB7w9x3e87PackSZJUJV0HgojYCTgXWAW8MTNvL4/vC1wJfCUiLs3MFcO0MQn4V4pPmI7NzAvL41OAfwOOAk4DTgIoz184RFvvBf4c+A/g1KbjWwO7A/dm5nHd/M6SJElSVYzHHIKTgMnAWY0wAJCZtwBnAFOAD3ZoY0/ghcCSRhgo21gLfK788U2dHiQiXgZ8FVgDHJeZTzed3p1nP2WSJEmSxPgEgsPK8sdtzl1Ulod3aGN9We5QjhY0m1WWj47gWc4CtgX+ITPvaTm3d1kaCCRJkqRSV58MRUQP0EfxQn9Hmyp3led2j4iezBwcoqnfUkwgngt8JyI+Q/E9/+uBc8o2vtzhWQ4FjgDuG6JuIxBsFRE/KtueDvwG+GpmDjWvQJIkSaqsbkcItqf4XOgPmbmu9WRmDgCPUEzw3W6oRspPe94OrAD+DLgHeIJiDkIvcHhmXtLhWf6uLP9X+alRq0Yg+EdgL+BGihCzL/C9iDirQ/uSJElS5XQ7qXjbsnxymDprynIa8Ngw9e6hWDnoFIrPeh4GXg3sDHw8Im7NzLafDUXEQuC1wEMUqx21nu8BXln++HHgzMZoRUQcSPFp08kRcfUIgseo9fZOYvbsIfPQRrW57qtNy36uPvu4Huzn6rOP62Gi9XO3IwSNb/+H+hQIoKel3EBEvABYDHwYODgzX5uZRwG7AOcBB9N+jkLDX5XlP7cbHShf/ucCfZn5peZPlzLz33l2T4OPDHMPSZIkqXK6HSFYXZZTh6kzpSyfGKbOx4EFwKmZeU3jYGY+FRF/AewH7BcR+2Xm9c0XRsQ2wJHlj98d6gaZuYpiadR2LgH+iWJEYtytWzfAqlVrOlccR41k2t//+Ca9rzYt+7n67ON6sJ+rzz6uh83Zz9OnT6W3d2yv9t2OEDxGEQpmtVkdqLG/wCxgbWauHKadA8ryitYT5fyCxu7Be7eep1jBaCpwU2beN/JHf44Hy3KbMV4vSZIkTUhdBYLy05ulFDsT79amSpT3+E2HpmaU5cAQ5xvHe9uce0tZtt2oDCAi9o6I8yPiC0NU2aUsfzfsU0qSJEkVMx77ECwqy2PanGscu6xDG3eW5VtaT0TEVsBB5Y9L2lz72rJcPEz7A8AJwF9GxPPbnD++LC/v8JySJElSpYxHIPgWsBb4RET86Rv8iNgHOJVilaFzmo7vGhELImJ6UxtfL8tPlysGNepOAr4I7EGxV8HVzTeOiG0p5h4MAL8c6gEz8zcUy4xuC3wjIhrzGoiIwygmJT9Jh70OJEmSpKrpdlIxmbksIk4BzgZujIirKFYUOqhs//jMfLjpkquAecB7gPPLNi6LiNOBvwGuj4ibKJYd3Rt4McVyou/IzGdabv9iis+Vlg+x90CzE4DrgHcAb4yIm4EXUmxQNgC8OzOXjf5vQJIkSZq4xmOEgMw8BzgKuIliRaB9gV8Ah2TmkCv/tLTxybKNK4GXU3w+tB74GrB3Zi5tc9nssuz47X9m3k0RMM6mCABHAC8Ffgjsk5lDzkGQJEmSqqpncHC4LQTUpWuA/V12VBuL/Vx99nE92M/VZx/Xwxay7Oi1PLuC54iMywiBJEmSpInJQCBJkiTVmIFAkiRJqjEDgSRJklRjBgJJkiSpxgwEkiRJUo0ZCCRJkqQaMxBIkiRJNWYgkCRJkmrMQCBJkiTVmIFAkiRJqjEDgSRJklRjBgJJkiSpxgwEkiRJUo0ZCCRJkqQaMxBIkiRJNWYgkCRJkmrMQCBJkiTVmIFAkiRJqjEDgSRJklRjBgJJkiSpxgwEkiRJUo0ZCCRJkqQaMxBIkiRJNWYgkCRJkmrMQCBJkiTVmIFAkiRJqjEDgSRJklRjBgJJkiSpxgwEkiRJUo0ZCCRJkqQaMxBIkiRJNWYgkCRJkmrMQCBJkiTVmIFAkiRJqjEDgSRJklRjBgJJkiSpxgwEkiRJUo0ZCCRJkqQaMxBIkiRJNWYgkCRJkmrMQCBJkiTV2KTxaigiDgY+BewJ9AK3Aadn5uWjaON1wGeANwDTgOXAxcDfZ+Yf29S/F3jJME1unZkDTfWnAicDxwG7ACuBS4HTMvP3I31OSZIkqSrGZYQgIk4ErqB4kb8ZuBFYCCyKiA+OsI23AtcDRwB3A5cBUyhe4G+OiNkt9adTvNQ/BHxviP/WN9XfGvgJ8AVgu7L9R4H3A7+MiBeP/jeXJEmSJrauRwgiYifgXGAV8MbMvL08vi9wJfCViLg0M1cM08Yk4F8pAsqxmXlheXwK8G/AUcBpwElNl+0F9ACXZOYHRvCoJwGHUIwIHJuZT5X3+DzFyMbZ5X0kSZKk2hiPEYKTgMnAWY0wAJCZtwBnUPwrf6dRgj2BFwJLGmGgbGMt8Lnyxze1XLN3Wd7W6QEjogf4a2AQ+GgjDJT+FkjgyIjYpVNbkiRJUpWMRyA4rCx/3ObcRWV5eIc2Gp/27FCOFjSbVZaPthwfcSAA9gDmUASOZc0nMnM9xTyFkTynJEmSVCldfTJU/st7H8UL/R1tqtxVnts9Inoyc3CIpn5LMYF4LvCdiPgM8Hvg9cA5ZRtfbrlmb+CZ4jHiTIpRhkHgF8DnMvPmprq7l+XttHdnWe4xxHlJkiSpkrqdQ7A9xedC/Zm5rvVkZg5ExCPADhQTeR9r10hmPh0RbwcuBP6s/K/hAeDwzPx540BETAZeDmwFfAe4Bfh34BXAkcChEfHuzPxheclOZTnUSkKN4y8c/tcdm97eScyevd3GaLqjzXVfbVr2c/XZx/VgP1effVwPE62fu/1kaNuyfHKYOmvKclqHtu6hWBnoGYqVin5K8aK+M/DxiJjZVHcPijDzOHBwZr4mM9+WmS8DPgZsDZwfETuO8DlH+oySJElSpXQ7QtD49n+oT4GgWAmoudxARLyA4lOfORQv+NeUxycDX6NYGvTHlBOLM/PWcnWjyZl5X3NbmflPEbE/cAxwInD6CJ6z4zN2Y926AVatWtO54jhqJNP+/sc36X21adnP1Wcf14P9XH32cT1szn6ePn0qvb1je7XvdoRgdVlOHabOlLJ8Ypg6HwcWUHz7f03jYLka0F9QrAK0X0Ts13TuwdYw0OSSsnz1CJ9zJM8oSZIkVU63geAxipftWW1WB2rsLzALWJuZK4dp54CyvKL1RGY+TbGfATy7slAnD5blNmX5QFnu2KYudJ5jIEmSJFVSV4GgXDVoKcXk3t3aVInyHr/p0NSMshwY4nzjeC9ARLwzIr4fEe8eon5jP4HflWVjdaG+Ieq/vCw7PackSZJUKeOxD8GisjymzbnGscs6tNFY9vMtrSciYivgoPLHJWW5A/Au4MNt6vcAx5U/Xg6QmXcA9wGvioi5LfWfBxxNMb/g8g7PKUmSJFXKeASCbwFrgU9EROObfSJiH+BUihV8zmk6vmtELIiI6U1tfL0sPx0RC5vqTgK+SLGq0G+Bq8tT/4fic6U3RsTHmur3AKcBr6P41/7GhmMA/0IxkvHNiNi26fjnKEY3LsrMe0f/60uSJEkTV7erDJGZyyLiFOBs4MaIuIpitZ6DyvaPz8yHmy65CpgHvAc4v2zjsog4Hfgb4PqIuAl4mGLOwIuBh4B3ZOYzZf3+iHgv8APgyxHxPopRhj0oXu4fBI7NzOZPkM6i2KPgEODuiLiB4pOmVwD3Ax/t9u9CkiRJmmjGY4SAzDwHOAq4CdgP2JdiGdFDMvO7I2zjk2UbV1J80/8WiuVCvwbsnZlLW+r/iGIn4wspNhQ7mmKTtH8G9szMu1vqrwMOpRgReJIiHEyjGJ14XWY6oViSJEm10zM4ONwWAurSNcD+7kOgjcV+rj77uB7s5+qzj+thC9mH4FqeXcFzRMZlhECSJEnSxGQgkCRJkmrMQCBJkiTVmIFAkiRJqjEDgSRJklRjBgJJkiSpxgwEkiRJUo0ZCCRJkqQaMxBIkiRJNWYgkCRJkmrMQCBJkiTVmIFAkiRJqjEDgSRJklRjBgJJkiSpxgwEkiRJUo0ZCCRJkqQaMxBIkiRJNWYgkCRJkmrMQCBJkiTVmIFAkiRJqjEDgSRJklRjBgJJkiSpxgwEkiRJUo0ZCCRJkqQaMxBIkiRJNWYgkCRJkmrMQCBJkiTVmIFAkiRJqjEDgSRJklRjBgJJkiSpxgwEkiRJUo0ZCCRJkqQaMxBIkiRJNWYgkCRJkmrMQCBJkiTVmIFAkiRJqjEDgSRJklRjBgJJkiSpxgwEkiRJUo0ZCCRJkqQaMxBIkiRJNWYgkCRJkmps0ng1FBEHA58C9gR6gduA0zPz8lG08TrgM8AbgGnAcuBi4O8z849t6vcBnwQOBHYAVgGLy/ve1Kb+VcBBwzzCyzLznpE+ryRJkjTRjcsIQUScCFxB8SJ/M3AjsBBYFBEfHGEbbwWuB44A7gYuA6YAJwM3R8TslvoHUISO44DHgEuBFcBbgesj4p1tbrMXsBr43hD/PT7CX1mSJEmqhK5HCCJiJ+Bcin+df2Nm3l4e3xe4EvhKRFyamSuGaWMS8K8UAeXYzLywPD4F+DfgKOA04KTy+NbAtykCw0mZ+bWmtv4c+A7wjYi4KjMfKY/PA2YCV2bmcd3+3pIkSVIVjMcIwUnAZOCsRhgAyMxbgDMoXto7jRLsCbwQWNIIA2Uba4HPlT++qan+QcCLgeubw0B5zfeAnwDbUYw2NOxdlreN7NeSJEmSqm88AsFhZfnjNucuKsvDO7Sxvix3KEcLms0qy0ebjm0D3AosGqK9u8py56ZjBgJJkiSpRVefDEVED9BH8UJ/R5sqd5Xndo+InswcHKKp31JMIJ4LfCciPgP8Hng9cE7ZxpcblTPzIp4NG+3sW5a/azrWCAQzI2IR8GqK0YtbGeXkZ0mSJKkqegYHh3pH7ywiZgJ/APozc4ch6jxEsQLQ9Mx8bJi2XgNcCMxpOfUA8J7M/PkIn+kg4CpgDfDipjkEy4EXldVupwgruwGvKI+dnJlfGck9RuEaYP9xblOSJEkayrXAAaO5oNtPhrYtyyeHqbOmLKd1aOseipV+nqFYqeinFKMEOwMfL8PHsCJiPvDd8sd/bAoDsyjCwADw7szcIzOPzcw9gHeWx8+MiL063UOSJEmqkm5XGWp8+z/cMENPS7mBiHgB8AuK0YGDM/Oa8vhk4GvA+ynmKLxpmDZ2pVjVaCeKJUg/3ziXmY+Uy5Zun5l3N1+Xmf8WEa+nWN70f5T/jat16wZYtWpN54rjaPbs7QDo73cl1Sqzn6vPPq4H+7n67ON62Jz9PH36VHp7x/Zq3+0IweqynDpMnSll+cQwdT4OLAA+1wgDAJn5FPAXQAL7RcR+7S4ulzhdDMwHLgfenpnrm+tk5iOtYaDJJWX56mGeUZIkSaqcbgPBYxShYFab1YEa+wvMAtZm5sph2jmgLK9oPZGZT1P8yz88OzG4+R5HU3yr/0LgAuDocrnS0XiwLLcZ5XVbpBX9q7n4+nu54IrkiluXs6J/deeLJEmSVEtdfTKUmYMRsRR4DcUE3aUtVYIidPymQ1MzynJgiPON473PaTziPcA3gK0oViH6f9utZBQRBwMnALdl5j+1aX+Xsvxdm3MTxtJlj3Lx4mXctXzD7LXb3BkcvXA+ffM7TsWQJElSjYzHPgSNvQCOaXOuceyyDm3cWZZvaT0REVtRbEQGsKTp+DHAeRS/wymZecowy5pOBY4D/qrdSAZwfFlO2KVHr1vyAGde8Ou2YQDgruUrOfOCX3P9kgc28ZNJkiRpSzYegeBbwFrgExHxp2/wI2If4FSKVYbOaTq+a0QsiIjpTW18vSw/HRELm+pOAr4I7EGxV8HV5fEdy/s+D/hUZn6Z4V0O3Ecxx+CMMmQ07vEe4B0UKxp9c+S/9pZj6bJH+faiO+m0guzgIJy/6E6WLnt0+IqSJEmqjW5XGSIzl0XEKcDZwI0RcRXFikIHle0fn5kPN11yFTAPeA9wftnGZRFxOvA3wPURcRPwMMWcgRcDDwHvyMxnyjZOpvjM6Glgj4j4Lu1dmJkXZua6iHg3RTD4GHB0RCwBXgLsRTEP4tjMXNXt38fmcPHiZR3DQMPgIFyyeJmfDkmSJAkYnxECMvMc4CjgJmA/ip2CfwEckplDvay3tvHJso0rgZdTfD60nmLZ0b0zs3l+wgFluTXwbuDPh/hvz6b2bwBeBfxvisnDR1FsmHY+sGdm3ji633rLsKJ/9ZCfCQ0ll690orEkSZKAcRghaMjMn1JsJtap3vxxaON1o3q4Z6+7m2JycWUsve+PY75uzuxOe8VJkiSp6sZlhECbz9qnhlqYaeNcJ0mSpGoxEExwUyaPbZBnrNdJkiSpWgwEE1zfvO036XWSJEmqFgPBBDdn9jR2mzujc8UmMXeG8wckSZIEGAgq4eiF8+npGVndnh44auH8jfo8kiRJmjgMBBXQN38mJxy2oGMo6OmBEw9b4B4EkiRJ+hNnllbEm165M7OmT+GSxcvINvsSxNwZHLVwvmFAkiRJz2EgqJC++TPpmz+TFf2ruf8PT7Jm7QDPDDxD37ztnTMgSZKktgwEFTRn9jT26tsJgP7+xzfz00iSJGlL5hwCSZIkqcYMBJIkSVKNGQgkSZKkGjMQSJIkSTVmIJAkSZJqzEAgSZIk1ZiBQJIkSaoxA4EkSZJUYwYCSZIkqcYMBJIkSVKNGQgkSZKkGjMQSJIkSTVmIJAkSZJqzEAgSZIk1ZiBQJIkSaoxA4EkSZJUYwYCSZIkqcYMBJIkSVKNGQgkSZKkGjMQSJIkSTVmIJAkSZJqzEAgSZIk1ZiBQJIkSaoxA4EkSZJUYwYCSZIkqcYMBJIkSVKNGQgkSZKkGjMQSJIkSTVmIJAkSZJqzEAgSZIk1ZiBQJIkSaoxA4EkSZJUYwYCSZIkqcYmjVdDEXEw8ClgT6AXuA04PTMvH0UbrwM+A7wBmAYsBy4G/j4z/9im/gzgk8DbgLnAQ8CPgL/LzMfa1J8KnAwcB+wCrAQuBU7LzN+P+JeVJEmSKmJcRggi4kTgCooX+ZuBG4GFwKKI+OAI23grcD1wBHA3cBkwheIF/uaImN1S//nAtcCpwHrgp2X518CNETG9pf7WwE+ALwDble0/Crwf+GVEvHi0v7ckSZI00XUdCCJiJ+BcYBWwT2a+JTMPpQgEjwFfiYg5HdqYBPxr+TzHZuZrM/MYYFfgEuClwGktl/0DxWjEN4C+zPzvwG7Ad4C+8nyzk4BDKEYEXpaZb8/MV1AEhB2Bs8fy+0uSJEkT2XiMEJwETAbOyszbGwcz8xbgDIp/5e80SrAn8EJgSWZe2NTGWuBz5Y9vahwvPxV6P0XgOCUz15f1B4C/AP4IvC8iti3r91CMHAwCH83Mp5ru/bdAAkdGxC6j+9UlSZKkiW08AsFhZfnjNucuKsvDO7Sxvix3KEcLms0qy0ebjr0JmApcnZmPN1fOzNXAleX5/cvDewBzKALHspb66ynmKYzkOSVJkqRK6SoQlP/y3kfxQn9Hmyp3led2L+sO5bcUE4jnAN+JiF0jYpuIeDNwTtnGl5vq716Wt9PenWW5xxjrS5IkSbXQ7SpD21N8LtSfmetaT2bmQEQ8AuxAMZF3g5V/ynpPR8TbgQuBPyv/a3gAODwzf950bKeyHGploMbxF46x/rjq7Z3E7NnbbYymO9pc99WmZT9Xn31cD/Zz9dnH9TDR+rnbT4a2Lcsnh6mzpiyndWjrHuB7wDMUKxX9lOJFfWfg4xExcxT3bb3naOtLkiRJtdDtCEHj2//BYer0tJQbiIgXAL+g+GTo4My8pjw+GfgaxQTiH/PsxOJO922952jrj6t16wZYtWpN54rjqJFM+/sf71BTE5n9XH32cT3Yz9VnH9fD5uzn6dOn0ts7tlf7bkcIVpfl1GHqTCnLJ4ap83FgAfC5RhgAKFcD+guKVYD2i4j9Rnjf1nuOtr4kSZJUC92OEDxG8bI9KyImlct+/km5YtAsYG1mrhymnQPK8orWE+X8giuBgP+/vXsPtqos4zj+PZwj3kgEsRBDLdFH8ZaIiAZKDohSFOpoecNL2iiTt+miORNjlMnoZFZK5rUhbLqRNZMKpoaGZpo6pqGPOSiSmKgoXpIApT+ed+tus885HPZlnb3W7zPDLPZ619nngbUv61nv+z4v+xKLly1LzYM7eb7KOQM9Pb5ehgF0dLTTv39XOVPjZPV7pbl0nvNP57gYdJ7zT+e4GLI4zx0d7aW/Duvxz9byi919nZktAkYRi4ItqjjEiF6Ix7t5qq3Tdm0n7aX9fdO2VC1oeCfH7562pd/b0+PrpR9Anz5tG92FU6usfq80l85z/ukcF4POc/7pHBdDxue5x3Ni6xHtPCIhmML6CcGUtL2tm+d4ikgeJlFRGtTM2oFD08PH0vZeYiLweDPb0t3fLju+HzCe6Ln4M4C7P2lmS4ARZjbU3ZeWHd8H+Cwxv2B+t//annkW+FiK5Zk6P7eIiIiISMkwIhl4tqc/2LZuXVfzgbtnZjsRaxCsBg5194fT/pHAXcAmwE7uvjzt3znte9HdV6Z9k4BbiSFIk9z9vrS/g1jt+HxirYJ93P3d1PZj4ExgNvDFVOK0A7gBmApc4e5fKYvzAmAmMSzpyFISYWaXABcBv3X3o2v6zxARERERaTE1JwQAZjYNuBpYQyQBbcRd/Q5gqrvPKTv2OWBH4FR3/2nZ/kuBC4k79Q8Ay4k5AzsALxHJxqKy4wcC9xM9C4uBR4ARwMeBR4GD06rFpeP7ptjGEHMFSj+7J/A8MNrd6z2HQERERESkV6u1yhAA7j4LmExcyI8F9ifKiE4oTwa6eY5vpOe4kxjTP4koF3oVsG95MpCOXwEcBPyQ6HGYnI6/DPhUeTKQjl8NTAS+TaxH8BmiW+ValAyIiIiISEHVpYdARERERERaU116CEREREREpDUpIRARERERKTAlBCIiIiIiBaaEQERERESkwJQQiIiIiIgUmBICEREREZECU0IgIiIiIlJgSghERERERApMCYGIiIiISIEpIRARERERKTAlBCIiIiIiBaaEQERERESkwJQQiIiIiIgUWEfWAUj9mdl44CJgb6Av8DAw093nZxqY1IWZtQNnAScDuwPtwGLgF8Dl7r4qw/CkAcxsIPAEsJ27t2Udj9SXme0ITAcmAh8GXgZuBaa7+7+zjE3qw8xOBL4M7EXcjHXgJuAqd383y9hk45nZKcR5HOvuC6u07wp8CxgDbAM8A1wLzHL395oYarfUQ5Az6cX5R+Ag4EHgL8AngXlm9qUMQ5M6SMnA74EfAbsBDwALgCHADGCBmW2RWYDSKLOA7bIOQurPzEYCjwGnASuIROA94AxgoZkNyDA8qQMzuwz4GfAJ4D7gT8DOwJXAb8xMSX4LMrMDie/iztr3AR4CvgAsAeYBQ9PPzG5GjD2hhCBHzGw74BpgJTDS3Se5+0QiIXgD+IGZbZ9ljFKz04FPA38HdnP38e5+BLALkfwdAHwzw/ikzszsOODzWcch9WdmmwI/B/oD57j73u5+JPF+nktcNF6cXYRSKzPbC/gq0euzt7sf5u6TiBs6zwFTgKOyi1A2hpkdBcwH+nXS3kZc9G8FnOTuY9z9KGBX4vv7BDM7ulnxbgglBPlyNrAp8H13f6K0090fAi4DNgPUS9DaTknb89z9hdJOd3+FGEYEcTdCcsDMhgBXAfcDGlaQP8cSF/83u/v7dxrTsL/zgZcAyyg2qY8JQBswx92fLu1Mn9+z0sODswhMes7MPmpms4mEvZ14j1YzgRi2vcDd55R2uvvLwLT08JxGxtpTSgjy5fC0/V2VtlvS9ogmxSKN8QrwFDEcrFLpy2ZI88KRBruBSORPzjoQaYjSHcIrKhvcfam7D3b3wyvbpKWUxolX650flLYrmhSL1O47wEnA34DRxPdxNZ1ej7n7fcByYIyZfagRQW4MTSrOidQ9NZz48HmyyiFPp7Y9zKzN3dc1Mz6pD3ef3EXz/mn7r2bEIo1lZmcRXypnu/szZrpRnEMjgNXAY2Y2FDgeGAa8CsxNvbvS2uYD64BjzOxRIslfQwwTOhd4Dbgxu/Ckh54ibtDMcff3uvhc3iNtn+ik3YkCAsOBv9Y1wo2kHoL8GEAMF3rV3VdXNrr7WuLu8hZAr8lIpT5SQjgjPZybZSxSOzPbGbgcuBu4OuNwpAHS/IGhxJ3CY4gLjZnEPKELgAfTZFRpYe7+JDFU9x3gUuJ8v0YkBg8Do919aXYRSk+4+0x3n70BFYJKh2tjTwAABIRJREFURSBe7KS9tP8j9YmsdkoI8mPLtP1PF8e8k7ZVJ8FIS/sucAgxnvHyjGORGqRKUrOJHr1T1ZuXW1ul7UDifN9CzBcYQMwDWgF8TdXhcmEhcCfwNpHk3wm8CYwCpqnKUC51d03W667HNGQoP0rZalcXD20VW8kBM5sBXAj8Fzg2TVqS1vV1omzw6e7+fNbBSMNslrZbAHe4+4llbb80s7eAPwDTzew6JYatycxGA3cQZSf3dPfn0v4hRBJ4LlEFcHpWMUpDdHdN1uuux9RDkB9vpe3mXRxT+gJ6u8GxSBOYWYeZ/YQoM7oKONLd7804LKlBqlt9MXCbu9+QcTjSWOWfw7MqG939VuAFYjLqsGYFJXV3JTFM97RSMgDg7suA44C1wPlaPyZ3ursm63XXY+ohyI83iBfgIDPrSHMG3mdmHURFg1Xu/noWAUr9mFk/4NfEpNPXgc8pGciFS4jVxTcxszkVbX0Ayvafl8rNSmtaSUwo7kvUo69mCZEQDAL+2ZywpF7MbHNiWNDKahPE3X2xmTkxAXUYUZ9e8mEZsRDdYKpXIupujkHTqYcgJ1J38iKiLu6uVQ4x4nw/3sy4pP7SyqULiGRgKbFkupKBfCiNJ50AnFDxp9S1XHrca8aeSs+5+7t8UBGus1LBg9NWwwBbU3/ifbu2i2NKbX0bH440Uam60PDKhjRnZDdibZlFzQyqK+ohyJd5xN2IKaz/IpuStrc1NSKpKzPrS5zD/YhzPNHdVWY0J9x9XGdtZrYWaHf3XjPmVGp2O7APsUDZ7eUNFvUMdyLuNC5uemRSD8uJyeHbmNkod/+/9WPMbHtgd6KnqLN69tKa5hHzwaaw/pDAg4BtgXvc/c1mB9YZ9RDky03EWPILzGy/0k4zG0m8MN+hylhVaSkziMVQlgLjlAyItLRriDHEU83s+NLO1At4PfEdffUGlDiUXiidt+vTw+tTAgCAmQ0C5hA9Aze6+1tVnkJa1z3AP4AJZnZGaaeZbcsH12HfyyKwzrStW6fCBXliZtOIuuVrgLuI7spDid6gqeVLaEtrMbOBxKJjmwOPUH0BOgAqKpZIDqiHIJ/M7FjgZuIz+hFiIvGBxLyBu4HD3X1NdhFKLcxsM6L3Zxxxw+4eovLMaGBr4AFgvLv3msmlsuHMbAFR8nusuy+saBtFXIf1IxYfW0a8DgYA17l7ryoprB6CnHH3WcBk4kNmLLF67UJggpKBljeKDyoWjGD9Meblf0SkBbj7r4jP6bnADsT8keVEKWElAy3O3VcBhwHnEXeMxxIXhc8T53ickoF8SkPEDiDe27sQr4MlwJnAWRmGVpV6CERERERECkw9BCIiIiIiBaaEQERERESkwJQQiIiIiIgUmBICEREREZECU0IgIiIiIlJgSghERERERApMCYGIiIiISIEpIRARERERKTAlBCIiIiIiBaaEQERERESkwJQQiIiIiIgUmBICEREREZECU0IgIiIiIlJgSghERERERApMCYGIiIiISIEpIRARERERKTAlBCIiIiIiBfY/w+31ah+1ahMAAAAASUVORK5CYII=\n",
      "text/plain": [
       "<Figure size 432x288 with 1 Axes>"
      ]
     },
     "metadata": {
      "image/png": {
       "height": 251,
       "width": 386
      },
      "needs_background": "light"
     },
     "output_type": "display_data"
    }
   ],
   "source": [
    "plt.scatter(Cs, roc_aucs)"
=======
   "execution_count": 27,
   "metadata": {},
   "outputs": [],
   "source": [
    "# You code here"
>>>>>>> 90bf0400b0ee8ebde0e182ceb2fdbada72ccb352
   ]
  },
  {
   "cell_type": "markdown",
   "metadata": {},
   "source": [
    "##### 7. What is the value of parameter C (if rounded to 2 decimals) that corresponds to the highest model quality?\n",
    "\n",
    "*For discussions, please stick to [ODS Slack](https://opendatascience.slack.com/), channel #mlcourse_ai_news, pinned thread __#a3_part1_fall2019__*\n",
    "\n",
    "- 0.17\n",
    "- 0.46\n",
    "- 1.29\n",
    "- 3.14"
   ]
  },
  {
   "cell_type": "code",
<<<<<<< HEAD
   "execution_count": 37,
   "metadata": {},
   "outputs": [
    {
     "data": {
      "text/plain": [
       "0.1668100537200059"
      ]
     },
     "execution_count": 37,
     "metadata": {},
     "output_type": "execute_result"
    }
   ],
   "source": [
    "opt_c = Cs[roc_aucs.index(max(roc_aucs))]\n",
    "opt_c"
=======
   "execution_count": 28,
   "metadata": {},
   "outputs": [],
   "source": [
    "# You code here"
>>>>>>> 90bf0400b0ee8ebde0e182ceb2fdbada72ccb352
   ]
  },
  {
   "cell_type": "markdown",
   "metadata": {},
   "source": [
    "For the last task in this assignment: train the model using the optimal regularization parameter you found (do not round up to two digits like in the last question). If you do everything correctly and submit your solution, you should see `ROC AUC = 0.92784` on the public leaderboard (\"A3 baseline 2\"):"
   ]
  },
  {
   "cell_type": "code",
<<<<<<< HEAD
   "execution_count": 43,
=======
   "execution_count": null,
>>>>>>> 90bf0400b0ee8ebde0e182ceb2fdbada72ccb352
   "metadata": {},
   "outputs": [],
   "source": [
    "# Prepare the training and test data\n",
    "tmp_scaled = StandardScaler().fit_transform(full_new_feat[['start_month', 'start_hour', \n",
    "                                                           'morning']])\n",
    "X_train = csr_matrix(hstack([full_sites_sparse[:idx_split,:], \n",
    "                             tmp_scaled[:idx_split,:]]))\n",
    "X_test = csr_matrix(hstack([full_sites_sparse[idx_split:,:], \n",
    "                            tmp_scaled[idx_split:,:]]))\n",
    "\n",
    "# Train the model on the whole training data set using optimal regularization parameter\n",
<<<<<<< HEAD
    "lr = LogisticRegression(C=Cs[6], random_state=17, solver='liblinear').fit(X_train, y_train)\n",
=======
    "lr = LogisticRegression(C=C, random_state=17, solver='liblinear').fit(X_train, y_train)\n",
>>>>>>> 90bf0400b0ee8ebde0e182ceb2fdbada72ccb352
    "\n",
    "# Make a prediction for the test set\n",
    "y_test = lr.predict_proba(X_test)[:, 1]\n",
    "\n",
    "# Write it to the submission file\n",
    "write_to_submission_file(y_test, 'baseline_2.csv')"
   ]
  },
  {
   "cell_type": "markdown",
   "metadata": {},
   "source": [
    "In this part of the assignment, you have learned how to use sparse matrices, train logistic regression models, create new features and selected the best ones, learned why you need to scale features, and how to select hyperparameters. That's a lot!"
   ]
  },
  {
<<<<<<< HEAD
   "cell_type": "code",
   "execution_count": 40,
   "metadata": {},
   "outputs": [
    {
     "data": {
      "text/html": [
       "<div>\n",
       "<style scoped>\n",
       "    .dataframe tbody tr th:only-of-type {\n",
       "        vertical-align: middle;\n",
       "    }\n",
       "\n",
       "    .dataframe tbody tr th {\n",
       "        vertical-align: top;\n",
       "    }\n",
       "\n",
       "    .dataframe thead th {\n",
       "        text-align: right;\n",
       "    }\n",
       "</style>\n",
       "<table border=\"1\" class=\"dataframe\">\n",
       "  <thead>\n",
       "    <tr style=\"text-align: right;\">\n",
       "      <th></th>\n",
       "      <th>start_month</th>\n",
       "      <th>morning</th>\n",
       "      <th>start_hour</th>\n",
       "    </tr>\n",
       "    <tr>\n",
       "      <th>session_id</th>\n",
       "      <th></th>\n",
       "      <th></th>\n",
       "      <th></th>\n",
       "    </tr>\n",
       "  </thead>\n",
       "  <tbody>\n",
       "    <tr>\n",
       "      <th>21669</th>\n",
       "      <td>201301.0</td>\n",
       "      <td>1</td>\n",
       "      <td>8</td>\n",
       "    </tr>\n",
       "    <tr>\n",
       "      <th>54843</th>\n",
       "      <td>201301.0</td>\n",
       "      <td>1</td>\n",
       "      <td>8</td>\n",
       "    </tr>\n",
       "    <tr>\n",
       "      <th>77292</th>\n",
       "      <td>201301.0</td>\n",
       "      <td>1</td>\n",
       "      <td>8</td>\n",
       "    </tr>\n",
       "    <tr>\n",
       "      <th>114021</th>\n",
       "      <td>201301.0</td>\n",
       "      <td>1</td>\n",
       "      <td>8</td>\n",
       "    </tr>\n",
       "    <tr>\n",
       "      <th>146670</th>\n",
       "      <td>201301.0</td>\n",
       "      <td>1</td>\n",
       "      <td>8</td>\n",
       "    </tr>\n",
       "    <tr>\n",
       "      <th>242171</th>\n",
       "      <td>201301.0</td>\n",
       "      <td>1</td>\n",
       "      <td>8</td>\n",
       "    </tr>\n",
       "    <tr>\n",
       "      <th>57157</th>\n",
       "      <td>201301.0</td>\n",
       "      <td>1</td>\n",
       "      <td>8</td>\n",
       "    </tr>\n",
       "    <tr>\n",
       "      <th>240201</th>\n",
       "      <td>201301.0</td>\n",
       "      <td>1</td>\n",
       "      <td>8</td>\n",
       "    </tr>\n",
       "    <tr>\n",
       "      <th>210686</th>\n",
       "      <td>201301.0</td>\n",
       "      <td>1</td>\n",
       "      <td>8</td>\n",
       "    </tr>\n",
       "    <tr>\n",
       "      <th>98804</th>\n",
       "      <td>201301.0</td>\n",
       "      <td>1</td>\n",
       "      <td>8</td>\n",
       "    </tr>\n",
       "    <tr>\n",
       "      <th>113494</th>\n",
       "      <td>201301.0</td>\n",
       "      <td>1</td>\n",
       "      <td>8</td>\n",
       "    </tr>\n",
       "    <tr>\n",
       "      <th>223837</th>\n",
       "      <td>201301.0</td>\n",
       "      <td>1</td>\n",
       "      <td>8</td>\n",
       "    </tr>\n",
       "    <tr>\n",
       "      <th>145475</th>\n",
       "      <td>201301.0</td>\n",
       "      <td>1</td>\n",
       "      <td>8</td>\n",
       "    </tr>\n",
       "    <tr>\n",
       "      <th>186633</th>\n",
       "      <td>201301.0</td>\n",
       "      <td>1</td>\n",
       "      <td>8</td>\n",
       "    </tr>\n",
       "    <tr>\n",
       "      <th>45193</th>\n",
       "      <td>201301.0</td>\n",
       "      <td>1</td>\n",
       "      <td>8</td>\n",
       "    </tr>\n",
       "    <tr>\n",
       "      <th>102930</th>\n",
       "      <td>201301.0</td>\n",
       "      <td>1</td>\n",
       "      <td>8</td>\n",
       "    </tr>\n",
       "    <tr>\n",
       "      <th>15789</th>\n",
       "      <td>201301.0</td>\n",
       "      <td>1</td>\n",
       "      <td>8</td>\n",
       "    </tr>\n",
       "    <tr>\n",
       "      <th>205868</th>\n",
       "      <td>201301.0</td>\n",
       "      <td>1</td>\n",
       "      <td>9</td>\n",
       "    </tr>\n",
       "    <tr>\n",
       "      <th>21102</th>\n",
       "      <td>201301.0</td>\n",
       "      <td>1</td>\n",
       "      <td>9</td>\n",
       "    </tr>\n",
       "    <tr>\n",
       "      <th>193454</th>\n",
       "      <td>201301.0</td>\n",
       "      <td>1</td>\n",
       "      <td>9</td>\n",
       "    </tr>\n",
       "    <tr>\n",
       "      <th>252924</th>\n",
       "      <td>201301.0</td>\n",
       "      <td>1</td>\n",
       "      <td>9</td>\n",
       "    </tr>\n",
       "    <tr>\n",
       "      <th>12713</th>\n",
       "      <td>201301.0</td>\n",
       "      <td>1</td>\n",
       "      <td>9</td>\n",
       "    </tr>\n",
       "    <tr>\n",
       "      <th>182016</th>\n",
       "      <td>201301.0</td>\n",
       "      <td>1</td>\n",
       "      <td>9</td>\n",
       "    </tr>\n",
       "    <tr>\n",
       "      <th>55750</th>\n",
       "      <td>201301.0</td>\n",
       "      <td>1</td>\n",
       "      <td>9</td>\n",
       "    </tr>\n",
       "    <tr>\n",
       "      <th>237109</th>\n",
       "      <td>201301.0</td>\n",
       "      <td>1</td>\n",
       "      <td>9</td>\n",
       "    </tr>\n",
       "    <tr>\n",
       "      <th>120126</th>\n",
       "      <td>201301.0</td>\n",
       "      <td>1</td>\n",
       "      <td>10</td>\n",
       "    </tr>\n",
       "    <tr>\n",
       "      <th>140105</th>\n",
       "      <td>201301.0</td>\n",
       "      <td>1</td>\n",
       "      <td>10</td>\n",
       "    </tr>\n",
       "    <tr>\n",
       "      <th>129357</th>\n",
       "      <td>201301.0</td>\n",
       "      <td>1</td>\n",
       "      <td>10</td>\n",
       "    </tr>\n",
       "    <tr>\n",
       "      <th>136699</th>\n",
       "      <td>201301.0</td>\n",
       "      <td>1</td>\n",
       "      <td>10</td>\n",
       "    </tr>\n",
       "    <tr>\n",
       "      <th>113189</th>\n",
       "      <td>201301.0</td>\n",
       "      <td>1</td>\n",
       "      <td>10</td>\n",
       "    </tr>\n",
       "    <tr>\n",
       "      <th>...</th>\n",
       "      <td>...</td>\n",
       "      <td>...</td>\n",
       "      <td>...</td>\n",
       "    </tr>\n",
       "    <tr>\n",
       "      <th>82768</th>\n",
       "      <td>201405.0</td>\n",
       "      <td>0</td>\n",
       "      <td>12</td>\n",
       "    </tr>\n",
       "    <tr>\n",
       "      <th>82769</th>\n",
       "      <td>201410.0</td>\n",
       "      <td>1</td>\n",
       "      <td>10</td>\n",
       "    </tr>\n",
       "    <tr>\n",
       "      <th>82770</th>\n",
       "      <td>201405.0</td>\n",
       "      <td>0</td>\n",
       "      <td>16</td>\n",
       "    </tr>\n",
       "    <tr>\n",
       "      <th>82771</th>\n",
       "      <td>201411.0</td>\n",
       "      <td>0</td>\n",
       "      <td>14</td>\n",
       "    </tr>\n",
       "    <tr>\n",
       "      <th>82772</th>\n",
       "      <td>201406.0</td>\n",
       "      <td>0</td>\n",
       "      <td>16</td>\n",
       "    </tr>\n",
       "    <tr>\n",
       "      <th>82773</th>\n",
       "      <td>201406.0</td>\n",
       "      <td>1</td>\n",
       "      <td>10</td>\n",
       "    </tr>\n",
       "    <tr>\n",
       "      <th>82774</th>\n",
       "      <td>201410.0</td>\n",
       "      <td>0</td>\n",
       "      <td>19</td>\n",
       "    </tr>\n",
       "    <tr>\n",
       "      <th>82775</th>\n",
       "      <td>201407.0</td>\n",
       "      <td>0</td>\n",
       "      <td>14</td>\n",
       "    </tr>\n",
       "    <tr>\n",
       "      <th>82776</th>\n",
       "      <td>201405.0</td>\n",
       "      <td>0</td>\n",
       "      <td>16</td>\n",
       "    </tr>\n",
       "    <tr>\n",
       "      <th>82777</th>\n",
       "      <td>201405.0</td>\n",
       "      <td>0</td>\n",
       "      <td>13</td>\n",
       "    </tr>\n",
       "    <tr>\n",
       "      <th>82778</th>\n",
       "      <td>201406.0</td>\n",
       "      <td>1</td>\n",
       "      <td>8</td>\n",
       "    </tr>\n",
       "    <tr>\n",
       "      <th>82779</th>\n",
       "      <td>201405.0</td>\n",
       "      <td>1</td>\n",
       "      <td>10</td>\n",
       "    </tr>\n",
       "    <tr>\n",
       "      <th>82780</th>\n",
       "      <td>201407.0</td>\n",
       "      <td>1</td>\n",
       "      <td>10</td>\n",
       "    </tr>\n",
       "    <tr>\n",
       "      <th>82781</th>\n",
       "      <td>201407.0</td>\n",
       "      <td>0</td>\n",
       "      <td>12</td>\n",
       "    </tr>\n",
       "    <tr>\n",
       "      <th>82782</th>\n",
       "      <td>201408.0</td>\n",
       "      <td>1</td>\n",
       "      <td>9</td>\n",
       "    </tr>\n",
       "    <tr>\n",
       "      <th>82783</th>\n",
       "      <td>201405.0</td>\n",
       "      <td>1</td>\n",
       "      <td>10</td>\n",
       "    </tr>\n",
       "    <tr>\n",
       "      <th>82784</th>\n",
       "      <td>201405.0</td>\n",
       "      <td>0</td>\n",
       "      <td>17</td>\n",
       "    </tr>\n",
       "    <tr>\n",
       "      <th>82785</th>\n",
       "      <td>201406.0</td>\n",
       "      <td>1</td>\n",
       "      <td>9</td>\n",
       "    </tr>\n",
       "    <tr>\n",
       "      <th>82786</th>\n",
       "      <td>201407.0</td>\n",
       "      <td>0</td>\n",
       "      <td>15</td>\n",
       "    </tr>\n",
       "    <tr>\n",
       "      <th>82787</th>\n",
       "      <td>201411.0</td>\n",
       "      <td>1</td>\n",
       "      <td>10</td>\n",
       "    </tr>\n",
       "    <tr>\n",
       "      <th>82788</th>\n",
       "      <td>201412.0</td>\n",
       "      <td>1</td>\n",
       "      <td>9</td>\n",
       "    </tr>\n",
       "    <tr>\n",
       "      <th>82789</th>\n",
       "      <td>201408.0</td>\n",
       "      <td>0</td>\n",
       "      <td>12</td>\n",
       "    </tr>\n",
       "    <tr>\n",
       "      <th>82790</th>\n",
       "      <td>201410.0</td>\n",
       "      <td>1</td>\n",
       "      <td>9</td>\n",
       "    </tr>\n",
       "    <tr>\n",
       "      <th>82791</th>\n",
       "      <td>201405.0</td>\n",
       "      <td>1</td>\n",
       "      <td>8</td>\n",
       "    </tr>\n",
       "    <tr>\n",
       "      <th>82792</th>\n",
       "      <td>201405.0</td>\n",
       "      <td>1</td>\n",
       "      <td>11</td>\n",
       "    </tr>\n",
       "    <tr>\n",
       "      <th>82793</th>\n",
       "      <td>201410.0</td>\n",
       "      <td>1</td>\n",
       "      <td>8</td>\n",
       "    </tr>\n",
       "    <tr>\n",
       "      <th>82794</th>\n",
       "      <td>201405.0</td>\n",
       "      <td>1</td>\n",
       "      <td>8</td>\n",
       "    </tr>\n",
       "    <tr>\n",
       "      <th>82795</th>\n",
       "      <td>201405.0</td>\n",
       "      <td>0</td>\n",
       "      <td>13</td>\n",
       "    </tr>\n",
       "    <tr>\n",
       "      <th>82796</th>\n",
       "      <td>201405.0</td>\n",
       "      <td>1</td>\n",
       "      <td>8</td>\n",
       "    </tr>\n",
       "    <tr>\n",
       "      <th>82797</th>\n",
       "      <td>201411.0</td>\n",
       "      <td>1</td>\n",
       "      <td>11</td>\n",
       "    </tr>\n",
       "  </tbody>\n",
       "</table>\n",
       "<p>336358 rows × 3 columns</p>\n",
       "</div>"
      ],
      "text/plain": [
       "            start_month  morning  start_hour\n",
       "session_id                                  \n",
       "21669          201301.0        1           8\n",
       "54843          201301.0        1           8\n",
       "77292          201301.0        1           8\n",
       "114021         201301.0        1           8\n",
       "146670         201301.0        1           8\n",
       "242171         201301.0        1           8\n",
       "57157          201301.0        1           8\n",
       "240201         201301.0        1           8\n",
       "210686         201301.0        1           8\n",
       "98804          201301.0        1           8\n",
       "113494         201301.0        1           8\n",
       "223837         201301.0        1           8\n",
       "145475         201301.0        1           8\n",
       "186633         201301.0        1           8\n",
       "45193          201301.0        1           8\n",
       "102930         201301.0        1           8\n",
       "15789          201301.0        1           8\n",
       "205868         201301.0        1           9\n",
       "21102          201301.0        1           9\n",
       "193454         201301.0        1           9\n",
       "252924         201301.0        1           9\n",
       "12713          201301.0        1           9\n",
       "182016         201301.0        1           9\n",
       "55750          201301.0        1           9\n",
       "237109         201301.0        1           9\n",
       "120126         201301.0        1          10\n",
       "140105         201301.0        1          10\n",
       "129357         201301.0        1          10\n",
       "136699         201301.0        1          10\n",
       "113189         201301.0        1          10\n",
       "...                 ...      ...         ...\n",
       "82768          201405.0        0          12\n",
       "82769          201410.0        1          10\n",
       "82770          201405.0        0          16\n",
       "82771          201411.0        0          14\n",
       "82772          201406.0        0          16\n",
       "82773          201406.0        1          10\n",
       "82774          201410.0        0          19\n",
       "82775          201407.0        0          14\n",
       "82776          201405.0        0          16\n",
       "82777          201405.0        0          13\n",
       "82778          201406.0        1           8\n",
       "82779          201405.0        1          10\n",
       "82780          201407.0        1          10\n",
       "82781          201407.0        0          12\n",
       "82782          201408.0        1           9\n",
       "82783          201405.0        1          10\n",
       "82784          201405.0        0          17\n",
       "82785          201406.0        1           9\n",
       "82786          201407.0        0          15\n",
       "82787          201411.0        1          10\n",
       "82788          201412.0        1           9\n",
       "82789          201408.0        0          12\n",
       "82790          201410.0        1           9\n",
       "82791          201405.0        1           8\n",
       "82792          201405.0        1          11\n",
       "82793          201410.0        1           8\n",
       "82794          201405.0        1           8\n",
       "82795          201405.0        0          13\n",
       "82796          201405.0        1           8\n",
       "82797          201411.0        1          11\n",
       "\n",
       "[336358 rows x 3 columns]"
      ]
     },
     "execution_count": 40,
     "metadata": {},
     "output_type": "execute_result"
    }
   ],
   "source": [
    "full_new_feat"
   ]
  },
  {
=======
>>>>>>> 90bf0400b0ee8ebde0e182ceb2fdbada72ccb352
   "cell_type": "markdown",
   "metadata": {},
   "source": [
    "# Subpart 2. Freeride"
   ]
  },
  {
   "cell_type": "markdown",
   "metadata": {},
   "source": [
    "<img src='../../img/snowboard.jpg' width=70%>\n",
    "\n",
    "*Yorko in Sheregesh, the best place in Russia for snowboarding and skiing.*"
   ]
  },
  {
   "cell_type": "markdown",
   "metadata": {},
   "source": [
    "In this part, you'll need to beat the 2 more baselines mentioned in the beginning of this assignment. No more step-by-step instructions. But it'll be very helpful for you to study the Kernel \"[Model validation in a competition](https://www.kaggle.com/kashnitsky/model-validation-in-a-competition)\".\n",
    "\n",
    "Here are a few tips for finding new features: think about what you can come up with using existing features, try multiplying or dividing two of them, justify or decline your hypotheses with plots, extract useful information from time series data (time1 ... time10), do not hesitate to convert an existing feature (for example, take a logarithm), etc. Checkout other [Kernels](https://www.kaggle.com/c/catch-me-if-you-can-intruder-detection-through-webpage-session-tracking2/kernels). We encourage you to try new ideas and models - it's fun!"
   ]
  }
 ],
 "metadata": {
  "kernelspec": {
   "display_name": "Python 3",
   "language": "python",
   "name": "python3"
  },
  "language_info": {
   "codemirror_mode": {
    "name": "ipython",
    "version": 3
   },
   "file_extension": ".py",
   "mimetype": "text/x-python",
   "name": "python",
   "nbconvert_exporter": "python",
   "pygments_lexer": "ipython3",
   "version": "3.7.3"
  }
 },
 "nbformat": 4,
 "nbformat_minor": 2
}
