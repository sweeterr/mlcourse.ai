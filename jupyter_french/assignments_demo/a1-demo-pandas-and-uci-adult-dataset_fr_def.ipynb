{
  "cells": [
    {
      "metadata": {
        "_uuid": "570fb89bb4f7838b1d0fdff70b2935790e5dbdbe",
        "lang": "en"
      },
      "cell_type": "markdown",
      "source": "<center>\n<img src=\"https://habrastorage.org/files/fd4/502/43d/fd450243dd604b81b9713213a247aa20.jpg\">\n    \n## [mlcourse.ai](mlcourse.ai) – Open Machine Learning Course \n\n<center>Auteur: [Yury Kashnitskiy](http://yorko.github.io) <br>\nTraduit et édité par [Sergey Isaev](https://www.linkedin.com/in/isvforall/), [Artem Trunov](https://www.linkedin.com/in/datamove/), [Anastasia Manokhina](https://www.linkedin.com/in/anastasiamanokhina/), [Yuanyuan Pao](https://www.linkedin.com/in/yuanyuanpao/) et [Ousmane Cissé](https://github.com/oussou-dev)<br>Contenu soumis à la licence [Creative Commons CC BY-NC-SA 4.0](https://creativecommons.org/licenses/by-nc-sa/4.0/)."
    },
    {
      "metadata": {
        "_uuid": "998fc5f76227ab1df9460a7b05c508304b14b3a6"
      },
      "cell_type": "markdown",
      "source": "# <center> Devoir #1 (démo)\n## <center>  Analyse exploratoire des données avec Pandas\n"
    },
    {
      "metadata": {
        "lang": "fr"
      },
      "cell_type": "markdown",
      "source": "**Dans cette tâche, vous devez utiliser la librairie Pandas pour répondre à quelques questions liées au dataset (ensemble de données) [Adulte](https://archive.ics.uci.edu/ml/datasets/Adult). (Vous n'avez pas à télécharger les données - vous les trouverez ci-joints). Choisissez vos réponses via ce [formulaire](https://docs.google.com/forms/d/1uY7MpI2trKx6FLWZte0uVh3ULV4Cm_tDud0VDFGCOKg). C'est une version de démonstration. Ainsi, en soumettant le formulaire, vous verrez un lien vers le fichier .ipynb de la solution.**"
    },
    {
      "metadata": {
        "_uuid": "c322301ac858c748f8f80e63cf6f734fc70dde30",
        "lang": "en"
      },
      "cell_type": "markdown",
      "source": "Valeurs uniques de toutes les caractéristiques (pour plus d'informations, veuillez consulter les liens ci-dessus):\n- `age`: continuous.\n- `workclass`: Private, Self-emp-not-inc, Self-emp-inc, Federal-gov, Local-gov, State-gov, Without-pay, Never-worked.\n- `fnlwgt`: continuous.\n- `education`: Bachelors, Some-college, 11th, HS-grad, Prof-school, Assoc-acdm, Assoc-voc, 9th, 7th-8th, 12th, Masters, 1st-4th, 10th, Doctorate, 5th-6th, Preschool.\n- `education-num`: continuous.\n- `marital-status`: Married-civ-spouse, Divorced, Never-married, Separated, Widowed, Married-spouse-absent, Married-AF-spouse.\n- `occupation`: Tech-support, Craft-repair, Other-service, Sales, Exec-managerial, Prof-specialty, Handlers-cleaners, Machine-op-inspct, Adm-clerical, Farming-fishing, Transport-moving, Priv-house-serv, Protective-serv, Armed-Forces.\n- `relationship`: Wife, Own-child, Husband, Not-in-family, Other-relative, Unmarried.\n- `race`: White, Asian-Pac-Islander, Amer-Indian-Eskimo, Other, Black.\n- `sex`: Female, Male.\n- `capital-gain`: continuous.\n- `capital-loss`: continuous.\n- `hours-per-week`: continuous.\n- `native-country`: United-States, Cambodia, England, Puerto-Rico, Canada, Germany, Outlying-US(Guam-USVI-etc), India, Japan, Greece, South, China, Cuba, Iran, Honduras, Philippines, Italy, Poland, Jamaica, Vietnam, Mexico, Portugal, Ireland, France, Dominican-Republic, Laos, Ecuador, Taiwan, Haiti, Columbia, Hungary, Guatemala, Nicaragua, Scotland, Thailand, Yugoslavia, El-Salvador, Trinadad&Tobago, Peru, Hong, Holand-Netherlands.   \n- `salary`: >50K,<=50K"
    },
    {
      "metadata": {
        "lang": "fr"
      },
      "cell_type": "markdown",
      "source": "Valeurs uniques de toutes les caractéristiques (pour plus d'informations, veuillez consulter les liens ci-dessus):\n\n- `age`: continuous.\n- `workclass`: Private, Self-emp-not-inc, Self-emp-inc, Federal-gov, Local-gov, State-gov, Without-pay, Never-worked.\n- `fnlwgt`: continuous.\n- `education`: Bachelors, Some-college, 11th, HS-grad, Prof-school, Assoc-acdm, Assoc-voc, 9th, 7th-8th, 12th, Masters, 1st-4th, 10th, Doctorate, 5th-6th, Preschool.\n- `education-num`: continuous.\n- `marital-status`: Married-civ-spouse, Divorced, Never-married, Separated, Widowed, Married-spouse-absent, Married-AF-spouse.\n- `occupation`: Tech-support, Craft-repair, Other-service, Sales, Exec-managerial, Prof-specialty, Handlers-cleaners, Machine-op-inspct, Adm-clerical, Farming-fishing, Transport-moving, Priv-house-serv, Protective-serv, Armed-Forces.\n- `relationship`: Wife, Own-child, Husband, Not-in-family, Other-relative, Unmarried.\n- `race`: White, Asian-Pac-Islander, Amer-Indian-Eskimo, Other, Black.\n- `sex`: Female, Male.\n- `capital-gain`: continuous.\n- `capital-loss`: continuous.\n- `hours-per-week`: continuous.\n- `native-country`: United-States, Cambodia, England, Puerto-Rico, Canada, Germany, Outlying-US(Guam-USVI-etc), India, Japan, Greece, South, China, Cuba, Iran, Honduras, Philippines, Italy, Poland, Jamaica, Vietnam, Mexico, Portugal, Ireland, France, Dominican-Republic, Laos, Ecuador, Taiwan, Haiti, Columbia, Hungary, Guatemala, Nicaragua, Scotland, Thailand, Yugoslavia, El-Salvador, Trinadad&Tobago, Peru, Hong, Holand-Netherlands.   \n- `salary`: >50K,<=50K"
    },
    {
      "metadata": {
        "trusted": true,
        "_uuid": "d3eb2411e23b7db11e4cbbb498a42752442a6f4c",
        "ExecuteTime": {
          "start_time": "2019-09-12T06:54:21.318898Z",
          "end_time": "2019-09-12T06:54:25.800371Z"
        }
      },
      "cell_type": "code",
      "source": "import numpy as np\nimport pandas as pd",
      "execution_count": 1,
      "outputs": []
    },
    {
      "metadata": {
        "trusted": true,
        "_uuid": "c5119d1b8151029b4ff57735c4279b795ae492a2",
        "ExecuteTime": {
          "start_time": "2019-09-12T06:57:34.040046Z",
          "end_time": "2019-09-12T06:57:35.312373Z"
        }
      },
      "cell_type": "code",
      "source": "# lire le csv\ndata = pd.read_csv('adult.data.csv') # destination du fichier à adapter (../dossier/adult.data.csv)\n\n# afficher les 5 premières lignes du dataset\ndata.head()",
      "execution_count": 2,
      "outputs": [
        {
          "output_type": "execute_result",
          "execution_count": 2,
          "data": {
            "text/html": "<div>\n<table border=\"1\" class=\"dataframe\">\n  <thead>\n    <tr style=\"text-align: right;\">\n      <th></th>\n      <th>age</th>\n      <th>workclass</th>\n      <th>fnlwgt</th>\n      <th>education</th>\n      <th>education-num</th>\n      <th>marital-status</th>\n      <th>occupation</th>\n      <th>relationship</th>\n      <th>race</th>\n      <th>sex</th>\n      <th>capital-gain</th>\n      <th>capital-loss</th>\n      <th>hours-per-week</th>\n      <th>native-country</th>\n      <th>salary</th>\n    </tr>\n  </thead>\n  <tbody>\n    <tr>\n      <th>0</th>\n      <td>39</td>\n      <td>State-gov</td>\n      <td>77516</td>\n      <td>Bachelors</td>\n      <td>13</td>\n      <td>Never-married</td>\n      <td>Adm-clerical</td>\n      <td>Not-in-family</td>\n      <td>White</td>\n      <td>Male</td>\n      <td>2174</td>\n      <td>0</td>\n      <td>40</td>\n      <td>United-States</td>\n      <td>&lt;=50K</td>\n    </tr>\n    <tr>\n      <th>1</th>\n      <td>50</td>\n      <td>Self-emp-not-inc</td>\n      <td>83311</td>\n      <td>Bachelors</td>\n      <td>13</td>\n      <td>Married-civ-spouse</td>\n      <td>Exec-managerial</td>\n      <td>Husband</td>\n      <td>White</td>\n      <td>Male</td>\n      <td>0</td>\n      <td>0</td>\n      <td>13</td>\n      <td>United-States</td>\n      <td>&lt;=50K</td>\n    </tr>\n    <tr>\n      <th>2</th>\n      <td>38</td>\n      <td>Private</td>\n      <td>215646</td>\n      <td>HS-grad</td>\n      <td>9</td>\n      <td>Divorced</td>\n      <td>Handlers-cleaners</td>\n      <td>Not-in-family</td>\n      <td>White</td>\n      <td>Male</td>\n      <td>0</td>\n      <td>0</td>\n      <td>40</td>\n      <td>United-States</td>\n      <td>&lt;=50K</td>\n    </tr>\n    <tr>\n      <th>3</th>\n      <td>53</td>\n      <td>Private</td>\n      <td>234721</td>\n      <td>11th</td>\n      <td>7</td>\n      <td>Married-civ-spouse</td>\n      <td>Handlers-cleaners</td>\n      <td>Husband</td>\n      <td>Black</td>\n      <td>Male</td>\n      <td>0</td>\n      <td>0</td>\n      <td>40</td>\n      <td>United-States</td>\n      <td>&lt;=50K</td>\n    </tr>\n    <tr>\n      <th>4</th>\n      <td>28</td>\n      <td>Private</td>\n      <td>338409</td>\n      <td>Bachelors</td>\n      <td>13</td>\n      <td>Married-civ-spouse</td>\n      <td>Prof-specialty</td>\n      <td>Wife</td>\n      <td>Black</td>\n      <td>Female</td>\n      <td>0</td>\n      <td>0</td>\n      <td>40</td>\n      <td>Cuba</td>\n      <td>&lt;=50K</td>\n    </tr>\n  </tbody>\n</table>\n</div>",
            "text/plain": "   age         workclass  fnlwgt  education  education-num  \\\n0   39         State-gov   77516  Bachelors             13   \n1   50  Self-emp-not-inc   83311  Bachelors             13   \n2   38           Private  215646    HS-grad              9   \n3   53           Private  234721       11th              7   \n4   28           Private  338409  Bachelors             13   \n\n       marital-status         occupation   relationship   race     sex  \\\n0       Never-married       Adm-clerical  Not-in-family  White    Male   \n1  Married-civ-spouse    Exec-managerial        Husband  White    Male   \n2            Divorced  Handlers-cleaners  Not-in-family  White    Male   \n3  Married-civ-spouse  Handlers-cleaners        Husband  Black    Male   \n4  Married-civ-spouse     Prof-specialty           Wife  Black  Female   \n\n   capital-gain  capital-loss  hours-per-week native-country salary  \n0          2174             0              40  United-States  <=50K  \n1             0             0              13  United-States  <=50K  \n2             0             0              40  United-States  <=50K  \n3             0             0              40  United-States  <=50K  \n4             0             0              40           Cuba  <=50K  "
          },
          "metadata": {}
        }
      ]
    },
    {
      "metadata": {
        "lang": "fr"
      },
      "cell_type": "markdown",
      "source": "**1. Combien d'hommes et de femmes (* caractéristique sex * ) sont représentés dans ce dataset ?**"
    },
    {
      "metadata": {
        "trusted": true,
        "_uuid": "d32cafcbe966dbdfa40c3017d16d6f8c96bfb3e2",
        "ExecuteTime": {
          "start_time": "2019-09-12T07:15:50.294793Z",
          "end_time": "2019-09-12T07:15:50.311799Z"
        }
      },
      "cell_type": "code",
      "source": "# len(data[data[\"sex\"] == \"Male\"])\n# len(data[data[\"sex\"] == \"Female\"])\n\ndata[\"sex\"].value_counts()",
      "execution_count": 25,
      "outputs": [
        {
          "output_type": "execute_result",
          "execution_count": 25,
          "data": {
            "text/plain": "Male      21790\nFemale    10771\nName: sex, dtype: int64"
          },
          "metadata": {}
        }
      ]
    },
    {
      "metadata": {
        "lang": "fr"
      },
      "cell_type": "markdown",
      "source": "**2. Quel est l’âge moyen des femmes?**"
    },
    {
      "metadata": {
        "trusted": true,
        "_uuid": "64f60d928855107d8980875656dcdf3587d91646",
        "ExecuteTime": {
          "start_time": "2019-09-12T12:25:17.651032Z",
          "end_time": "2019-09-12T12:25:17.686565Z"
        }
      },
      "cell_type": "code",
      "source": "# methode_1\n#data[[\"age\", \"sex\"]].groupby(by=\"sex\").mean()\n\n# methode_2\n# data[data[\"sex\"] == \"Female\"][\"age\"].mean()\n\n# methode_3\ndata.loc[data[\"sex\"] == \"Female\", \"age\"].mean()",
      "execution_count": 189,
      "outputs": [
        {
          "output_type": "execute_result",
          "execution_count": 189,
          "data": {
            "text/plain": "36.85823043357163"
          },
          "metadata": {}
        }
      ]
    },
    {
      "metadata": {
        "lang": "fr"
      },
      "cell_type": "markdown",
      "source": "**3. Quel est le pourcentage de citoyens allemands (caractéristique *native-country*)?**"
    },
    {
      "metadata": {
        "trusted": true,
        "_uuid": "ca9807509692638bd945671ed7d8b4a5ad1f3626",
        "ExecuteTime": {
          "start_time": "2019-09-12T12:39:00.415839Z",
          "end_time": "2019-09-12T12:39:00.436767Z"
        }
      },
      "cell_type": "code",
      "source": "# my_soluce\n## nb_germany = len(data[data[\"native-country\"] == \"Germany\"])\n## total_adults = data.shape[0]\n## percent_german = round((nb_germany / total_adults * 100),5)\n## percent_german\n\n# soluce\n(data[\"native-country\"] == \"Germany\").sum() / data.shape[0]",
      "execution_count": 205,
      "outputs": [
        {
          "output_type": "execute_result",
          "execution_count": 205,
          "data": {
            "text/plain": "0.004207487485028101"
          },
          "metadata": {}
        }
      ]
    },
    {
      "metadata": {
        "lang": "fr"
      },
      "cell_type": "markdown",
      "source": "**4-5. Quels sont la moyenne et la déviation standard (écart-type) de l’âge pour ceux qui gagnent plus de 50k par an (caractéristique * salary *) et ceux qui gagnent moins de 50k par an?**"
    },
    {
      "metadata": {
        "trusted": true,
        "_uuid": "97948f0115f949913d211627151b5605bcd204fd",
        "ExecuteTime": {
          "start_time": "2019-09-12T12:43:34.697832Z",
          "end_time": "2019-09-12T12:43:34.73087Z"
        }
      },
      "cell_type": "code",
      "source": "# my_soluce\n\"\"\"\nk_more_50 = data[data[\"salary\"] == \">50K\"]\nprint(\"Standard deviation of age : {}\".format(round(k_more_50.groupby(by=['salary'])['age'].std(),3)))\nprint(\"Mean of age : {}\".format(round(k_more_50.groupby(by=['salary'])['age'].mean(),3)))\n\nprint(\"***\" * 25)\n\nk_less_50 = data[data[\"salary\"] == \"<=50K\"]\nprint(\"Standard deviation of age : {}\".format(round(k_less_50.groupby(by=['salary'])['age'].std(),3)))\nprint(\"Mean of age : {}\".format(round(k_less_50.groupby(by=['salary'])['age'].mean(),3)))\n\"\"\"\n\n# soluce\nages1 = data.loc[data['salary'] == '>50K', 'age']\nages2 = data.loc[data['salary'] == '<=50K', 'age']\nprint(\"The average age of the rich: {0} +- {1} years, poor - {2} +- {3} years.\".format(\n    round(ages1.mean()), round(ages1.std(), 1),\n    round(ages2.mean()), round(ages2.std(), 1)))",
      "execution_count": 207,
      "outputs": [
        {
          "output_type": "stream",
          "text": "The average age of the rich: 44 +- 10.5 years, poor - 37 +- 14.0 years.\n",
          "name": "stdout"
        }
      ]
    },
    {
      "metadata": {
        "lang": "fr"
      },
      "cell_type": "markdown",
      "source": "**6. Est-il vrai que les personnes qui gagnent plus de 50k ont au moins terminé leurs études secondaires? (* education - Bachelors, Prof-school, Assoc-acdm, Assoc-voc, Masters * ou * Doctorat *)**"
    },
    {
      "metadata": {
        "trusted": true,
        "_uuid": "58f38ebfa2b0e1418a6a1a680d0743697f9876a2",
        "ExecuteTime": {
          "start_time": "2019-09-12T13:09:51.882221Z",
          "end_time": "2019-09-12T13:09:51.923863Z"
        }
      },
      "cell_type": "code",
      "source": "# my_soluce : No\n\"\"\"\nhigh_school = [\" Bachelors\", \"Prof-school\", \"Assoc-acdm\", \"Assoc-voc\", \"Masters\", \"Doctorat\"]\n\nnb_k_more_50 = len(k_more_50)\n\nnb_k_more_50_high_school = 0\n\nfor item in k_more_50[\"education\"]:\n    if item in high_school:\n        nb_k_more_50_high_school +=1\n\nk_more_50_with_high_school = round((nb_k_more_50_high_school / nb_k_more_50 * 100),2)\n\nprint(\"% people who earn more than 50k with high school education is :  {}%\".format(k_more_50_with_high_school))\n\"\"\"\n\n# soluce\ndata.loc[data['salary'] == '>50K', 'education'].unique() # No",
      "execution_count": 217,
      "outputs": [
        {
          "output_type": "execute_result",
          "execution_count": 217,
          "data": {
            "text/plain": "array(['HS-grad', 'Masters', 'Bachelors', 'Some-college', 'Assoc-voc',\n       'Doctorate', 'Prof-school', 'Assoc-acdm', '7th-8th', '12th',\n       '10th', '11th', '9th', '5th-6th', '1st-4th'], dtype=object)"
          },
          "metadata": {}
        }
      ]
    },
    {
      "metadata": {
        "lang": "fr"
      },
      "cell_type": "markdown",
      "source": "**7. Affichez les statistiques d'âge pour chaque race (caractéristique * race *) et chaque sexe (caractéristique * sex *). Utilisez * groupby () * et * describe () *. Trouvez l'âge maximum des hommes de race * Amer-Indian-Eskimo *.**"
    },
    {
      "metadata": {
        "trusted": true,
        "_uuid": "a4567b72200b583f7f2ee1583405d636c12169db",
        "ExecuteTime": {
          "start_time": "2019-09-12T13:13:56.134871Z",
          "end_time": "2019-09-12T13:13:56.302465Z"
        },
        "scrolled": true
      },
      "cell_type": "code",
      "source": "# my_soluce\n\"\"\"\ndata[[\"age\", \"race\", \"sex\"]].groupby(by=[\"race\", \"sex\"]).describe()\n# maximum age of men of Amer-Indian-Eskimo race => 82\n\"\"\"\n\n# soluce\nfor (race, sex), sub_df in data.groupby(['race', 'sex']):\n    print(\"Race: {0}, sex: {1}\".format(race, sex))\n    print(sub_df['age'].describe())",
      "execution_count": 218,
      "outputs": [
        {
          "output_type": "stream",
          "text": "Race: Amer-Indian-Eskimo, sex: Female\ncount    119.000000\nmean      37.117647\nstd       13.114991\nmin       17.000000\n25%       27.000000\n50%       36.000000\n75%       46.000000\nmax       80.000000\nName: age, dtype: float64\nRace: Amer-Indian-Eskimo, sex: Male\ncount    192.000000\nmean      37.208333\nstd       12.049563\nmin       17.000000\n25%       28.000000\n50%       35.000000\n75%       45.000000\nmax       82.000000\nName: age, dtype: float64\nRace: Asian-Pac-Islander, sex: Female\ncount    346.000000\nmean      35.089595\nstd       12.300845\nmin       17.000000\n25%       25.000000\n50%       33.000000\n75%       43.750000\nmax       75.000000\nName: age, dtype: float64\nRace: Asian-Pac-Islander, sex: Male\ncount    693.000000\nmean      39.073593\nstd       12.883944\nmin       18.000000\n25%       29.000000\n50%       37.000000\n75%       46.000000\nmax       90.000000\nName: age, dtype: float64\nRace: Black, sex: Female\ncount    1555.000000\nmean       37.854019\nstd        12.637197\nmin        17.000000\n25%        28.000000\n50%        37.000000\n75%        46.000000\nmax        90.000000\nName: age, dtype: float64\nRace: Black, sex: Male\ncount    1569.000000\nmean       37.682600\nstd        12.882612\nmin        17.000000\n25%        27.000000\n50%        36.000000\n75%        46.000000\nmax        90.000000\nName: age, dtype: float64\nRace: Other, sex: Female\ncount    109.000000\nmean      31.678899\nstd       11.631599\nmin       17.000000\n25%       23.000000\n50%       29.000000\n75%       39.000000\nmax       74.000000\nName: age, dtype: float64\nRace: Other, sex: Male\ncount    162.000000\nmean      34.654321\nstd       11.355531\nmin       17.000000\n25%       26.000000\n50%       32.000000\n75%       42.000000\nmax       77.000000\nName: age, dtype: float64\nRace: White, sex: Female\ncount    8642.000000\nmean       36.811618\nstd        14.329093\nmin        17.000000\n25%        25.000000\n50%        35.000000\n75%        46.000000\nmax        90.000000\nName: age, dtype: float64\nRace: White, sex: Male\ncount    19174.000000\nmean        39.652498\nstd         13.436029\nmin         17.000000\n25%         29.000000\n50%         38.000000\n75%         49.000000\nmax         90.000000\nName: age, dtype: float64\n",
          "name": "stdout"
        }
      ]
    },
    {
      "metadata": {
        "lang": "fr"
      },
      "cell_type": "markdown",
      "source": "**8. Parmi ceux qui gagnent plus de 50k, quel est l'état matrimonial (caractéristique marital-status) : marié ou célibataire  le plus représenté ?  \nOn considère comme mariés ceux qui ont un marital-status commençant par Married (Married-civ-spouse, Married-spouse-absent or Married-AF-spouse), les autres sont considérés comme célibataires (bachelors).**  "
    },
    {
      "metadata": {
        "trusted": true,
        "_uuid": "5bb3a8524fcbd794707075ccf6aaf8dd0f30a3dd",
        "ExecuteTime": {
          "start_time": "2019-09-12T09:49:29.598118Z",
          "end_time": "2019-09-12T09:49:29.628431Z"
        }
      },
      "cell_type": "code",
      "source": "# my_soluce\nnb_married = 0\nnb_bachelors = 0\n\nfor item in k_more_50[\"marital-status\"]:\n    if item.startswith(\"Married\"):\n        nb_married += 1\n    else:\n        nb_bachelors += 1\n        \nprint(\"nb married among k_more_50 : {}\".format(nb_married))\n\nprint(\"nb bachelors among k_more_50 : {}\".format(nb_bachelors))        \n\n# soluce\n#...???...\ndata.loc[(data['sex'] == 'Male') &\n     (data['marital-status'].str.startswith('Married')), 'salary'].value_counts()",
      "execution_count": 135,
      "outputs": [
        {
          "output_type": "stream",
          "text": "nb married among k_more_50 : 6736\nnb bachelors among k_more_50 : 1105\n",
          "name": "stdout"
        }
      ]
    },
    {
      "metadata": {
        "lang": "fr"
      },
      "cell_type": "markdown",
      "source": "**9. Quel est le nombre d'heures maximum de travail par semaine effectué par une personne (caractéritique * hours-per-week *)?  \n  Combien de personnes travaillent autant, et quel est le pourcentage de celles qui gagnent beaucoup (>50k) parmi elles?**"
    },
    {
      "metadata": {
        "trusted": true,
        "_uuid": "3571468172fc4bcf34e10b3d6ab358d4e41f7ef4",
        "ExecuteTime": {
          "start_time": "2019-09-12T13:38:35.348352Z",
          "end_time": "2019-09-12T13:38:35.413426Z"
        }
      },
      "cell_type": "code",
      "source": "# my_soluce\n# print(data[\"hours-per-week\"].max())\n# print(len(data[data[\"hours-per-week\"] == data[\"hours-per-week\"].max()]))\n# data[data[\"hours-per-week\"] == data[\"hours-per-week\"].max()].groupby(by=[\"salary\"]).describe()\n\n# soluce\nmax_load = data['hours-per-week'].max()\nprint(\"Max time - {0} hours./week.\".format(max_load))\n\nnum_workaholics = data[data['hours-per-week'] == max_load].shape[0]\nprint(\"Total number of such hard workers {0}\".format(num_workaholics))\n\nrich_share = float(data[(data['hours-per-week'] == max_load)\n                 & (data['salary'] == '>50K')].shape[0]) / num_workaholics\nprint(\"Percentage of rich among them {0}%\".format(int(100 * rich_share)))\n",
      "execution_count": 221,
      "outputs": [
        {
          "output_type": "stream",
          "text": "Max time - 99 hours./week.\nTotal number of such hard workers 85\nPercentage of rich among them 29%\n",
          "name": "stdout"
        }
      ]
    },
    {
      "metadata": {
        "lang": "fr"
      },
      "cell_type": "markdown",
      "source": "**10. Calculez le temps de travail moyen (* hours-per-week *) pour ceux qui sont peu et beaucoup payés (* salary *) pour chaque pays (* native-country *). Qu'obtient-on pour le Japon?**"
    },
    {
      "metadata": {
        "trusted": true,
        "_uuid": "75a93411f1e3b519afcc27c026aaa0c67eb526e9",
        "ExecuteTime": {
          "start_time": "2019-09-12T13:39:59.920645Z",
          "end_time": "2019-09-12T13:40:00.218558Z"
        },
        "scrolled": true
      },
      "cell_type": "code",
      "source": "# my_soluce\n# data[[\"hours-per-week\", \"salary\", \"native-country\"]].groupby(by=[\"native-country\", \"salary\"]).mean()\n\n# soluce\nfor (country, salary), sub_df in data.groupby(['native-country', 'salary']):\n    print(country, salary, round(sub_df['hours-per-week'].mean(), 2))",
      "execution_count": 222,
      "outputs": [
        {
          "output_type": "stream",
          "text": "? <=50K 40.16\n? >50K 45.55\nCambodia <=50K 41.42\nCambodia >50K 40.0\nCanada <=50K 37.91\nCanada >50K 45.64\nChina <=50K 37.38\nChina >50K 38.9\nColumbia <=50K 38.68\nColumbia >50K 50.0\nCuba <=50K 37.99\nCuba >50K 42.44\nDominican-Republic <=50K 42.34\nDominican-Republic >50K 47.0\nEcuador <=50K 38.04\nEcuador >50K 48.75\nEl-Salvador <=50K 36.03\nEl-Salvador >50K 45.0\nEngland <=50K 40.48\nEngland >50K 44.53\nFrance <=50K 41.06\nFrance >50K 50.75\nGermany <=50K 39.14\nGermany >50K 44.98\nGreece <=50K 41.81\nGreece >50K 50.62\nGuatemala <=50K 39.36\nGuatemala >50K 36.67\nHaiti <=50K 36.33\nHaiti >50K 42.75\nHoland-Netherlands <=50K 40.0\nHonduras <=50K 34.33\nHonduras >50K 60.0\nHong <=50K 39.14\nHong >50K 45.0\nHungary <=50K 31.3\nHungary >50K 50.0\nIndia <=50K 38.23\nIndia >50K 46.48\nIran <=50K 41.44\nIran >50K 47.5\nIreland <=50K 40.95\nIreland >50K 48.0\nItaly <=50K 39.62\nItaly >50K 45.4\nJamaica <=50K 38.24\nJamaica >50K 41.1\nJapan <=50K 41.0\nJapan >50K 47.96\nLaos <=50K 40.38\nLaos >50K 40.0\nMexico <=50K 40.0\nMexico >50K 46.58\nNicaragua <=50K 36.09\nNicaragua >50K 37.5\nOutlying-US(Guam-USVI-etc) <=50K 41.86\nPeru <=50K 35.07\nPeru >50K 40.0\nPhilippines <=50K 38.07\nPhilippines >50K 43.03\nPoland <=50K 38.17\nPoland >50K 39.0\nPortugal <=50K 41.94\nPortugal >50K 41.5\nPuerto-Rico <=50K 38.47\nPuerto-Rico >50K 39.42\nScotland <=50K 39.44\nScotland >50K 46.67\nSouth <=50K 40.16\nSouth >50K 51.44\nTaiwan <=50K 33.77\nTaiwan >50K 46.8\nThailand <=50K 42.87\nThailand >50K 58.33\nTrinadad&Tobago <=50K 37.06\nTrinadad&Tobago >50K 40.0\nUnited-States <=50K 38.8\nUnited-States >50K 45.51\nVietnam <=50K 37.19\nVietnam >50K 39.2\nYugoslavia <=50K 41.6\nYugoslavia >50K 49.5\n",
          "name": "stdout"
        }
      ]
    }
  ],
  "metadata": {
    "anaconda-cloud": {},
    "kernelspec": {
      "name": "python3",
      "display_name": "Python 3",
      "language": "python"
    },
    "language_info": {
      "mimetype": "text/x-python",
      "nbconvert_exporter": "python",
      "name": "python",
      "pygments_lexer": "ipython3",
      "version": "3.5.4",
      "file_extension": ".py",
      "codemirror_mode": {
        "version": 3,
        "name": "ipython"
      }
    },
    "hide_input": false,
    "nbTranslate": {
      "hotkey": "alt-t",
      "sourceLang": "en",
      "targetLang": "fr",
      "displayLangs": [
        "*"
      ],
      "langInMainMenu": true,
      "useGoogleTranslate": true
    },
    "toc": {
      "nav_menu": {},
      "number_sections": true,
      "sideBar": true,
      "skip_h1_title": false,
      "base_numbering": 1,
      "title_cell": "Table of Contents",
      "title_sidebar": "Contents",
      "toc_cell": false,
      "toc_position": {},
      "toc_section_display": true,
      "toc_window_display": false
    }
  },
  "nbformat": 4,
  "nbformat_minor": 1
}